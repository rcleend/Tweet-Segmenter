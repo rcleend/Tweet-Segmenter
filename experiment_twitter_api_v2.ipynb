{
 "cells": [
  {
   "cell_type": "code",
   "execution_count": 1,
   "metadata": {
    "collapsed": true,
    "pycharm": {
     "name": "#%%\n"
    }
   },
   "outputs": [],
   "source": [
    "from utils.twitter_api import TwitterAPI\n",
    "from utils.cleaner import TweetCleaner\n",
    "from utils.segmenter import SEDTWikSegmenter\n",
    "from utils.grouper import Grouper"
   ]
  },
  {
   "cell_type": "code",
   "execution_count": 2,
   "outputs": [
    {
     "name": "stdout",
     "output_type": "stream",
     "text": [
      "hooooi\n",
      "Initializing SEDTWik Segmenter\n",
      "SEDTWik Segmenter Ready\n",
      "\n"
     ]
    }
   ],
   "source": [
    "twitter_api = TwitterAPI()\n",
    "tweet_cleaner = TweetCleaner(True, True)\n",
    "tweet_segmenter = SEDTWikSegmenter(wiki_titles_file='data/enwiki-titles-unstemmed-no-stopwords-all.txt')"
   ],
   "metadata": {
    "collapsed": false,
    "pycharm": {
     "name": "#%%\n"
    }
   }
  },
  {
   "cell_type": "code",
   "execution_count": 3,
   "outputs": [
    {
     "name": "stdout",
     "output_type": "stream",
     "text": [
      "Getting response from Twitter api...\n"
     ]
    }
   ],
   "source": [
    "tweets = twitter_api.get_tweets('(Hello world) -is:retweet', 100, 2)\n",
    "cleaned_tweets = tweet_cleaner.clean_tweets(tweets)"
   ],
   "metadata": {
    "collapsed": false,
    "pycharm": {
     "name": "#%%\n"
    }
   }
  },
  {
   "cell_type": "code",
   "execution_count": 4,
   "outputs": [],
   "source": [
    "segments = []\n",
    "for tweet in cleaned_tweets['data']:\n",
    "    segments.extend(tweet_segmenter.tweet_segmentation(tweet))"
   ],
   "metadata": {
    "collapsed": false,
    "pycharm": {
     "name": "#%%\n"
    }
   }
  },
  {
   "cell_type": "code",
   "execution_count": 5,
   "outputs": [],
   "source": [
    "grouper = Grouper()\n",
    "results = grouper.group_by_stem_and_sort_by_freq(segments)"
   ],
   "metadata": {
    "collapsed": false,
    "pycharm": {
     "name": "#%%\n"
    }
   }
  },
  {
   "cell_type": "code",
   "execution_count": 6,
   "outputs": [
    {
     "name": "stdout",
     "output_type": "stream",
     "text": [
      "[('world', 'world', 75), ('hello', 'hello', 74), ('hello world', 'hello world', 57), ('follow', 'follow', 43), ('website', 'websit', 42), ('check', 'check', 41), ('good', 'good', 41), ('upcoming', 'upcom', 40), ('also', 'also', 40), ('know', 'know', 40), ('introduce', 'introduc', 39), ('project shock', 'project shock', 39), ('mission', 'mission', 39), ('vision', 'vision', 39), ('twitter account', 'twitter account', 39), ('join', 'join', 39), ('discord', 'discord', 39), ('updates', 'updat', 39), ('limau', 'limau', 39), ('recent', 'recent', 9), ('still', 'still', 9), ('thank', 'thank', 9), ('help', 'help', 8), ('ask', 'ask', 8), ('twitter', 'twitter', 7), ('one', 'one', 7), ('come', 'come', 7), ('since', 'sinc', 7), ('going', 'go', 7), ('ver', 'ver', 6), ('everyone', 'everyon', 6), ('new', 'new', 6), ('madamsir', 'madamsir', 6), ('hazara', 'hazara', 6), ('killing', 'kill', 6), ('generation', 'gener', 6), ('ancient times', 'ancient tim', 6), ('stand', 'stand', 6), ('side', 'side', 6), ('convey', 'convey', 6), ('cry', 'cri', 6), ('collections', 'collect', 5), ('think', 'think', 5), ('practice', 'practic', 5), ('xdinary heroes', 'xdinary hero', 5), ('using', 'use', 5), ('amp', 'amp', 5), ('enjoy', 'enjoy', 5), ('throw', 'throw', 5), ('may', 'may', 5), ('like', 'like', 5), ('happy world', 'happy world', 5), ('back', 'back', 5), ('tinytesla', 'tinytesla', 4), ('bullish', 'bullish', 4), ('platform', 'platform', 4), ('launch', 'launch', 4), ('next', 'next', 4), ('right time', 'right tim', 4), ('buy', 'buy', 4), ('tint', 'tint', 4), ('bear market', 'bear market', 4), ('hodl', 'hodl', 4), ('bullrun', 'bullrun', 4), ('chart', 'chart', 4), ('letting', 'let', 4), ('please', 'pleas', 4), ('country', 'countri', 4), ('wts', 'wt', 4), ('lfb', 'lfb', 4), ('tutorial', 'tutori', 4), ('folding', 'fold', 4), ('gcash', 'gcash', 4), ('sco', 'sco', 4), ('tweet', 'tweet', 4), ('random numbers', 'random numb', 4), ('nations', 'nation', 4), ('blogs', 'blog', 4), ('create', 'creat', 4), ('person', 'person', 4), ('fall', 'fall', 4), ('require', 'requir', 4), ('fairy godmother', 'fairy godmoth', 4), ('spell', 'spell', 4), ('posts', 'post', 4), ('comments', 'comment', 4), ('archives', 'archiv', 4), ('monday', 'monday', 4), ('session', 'session', 4), ('place', 'place', 4), ('youre', 'your', 4), ('even', 'even', 4), ('sir', 'sir', 4), ('days', 'day', 4), ('changes', 'chang', 4), ('photocard', 'photocard', 3), ('album', 'album', 3), ('jooyeon', 'jooyeon', 3), ('ode', 'ode', 3), ('want', 'want', 3), ('gaon', 'gaon', 3), ('lakshyaillam', 'lakshyaillam', 3), ('youtube channel', 'youtube channel', 3), ('good morning world', 'good morning world', 3), ('years', 'year', 3), ('looking', 'look', 3), ('computers', 'comput', 3), ('shop', 'shop', 3), ('contact', 'contact', 3), ('would', 'would', 3), ('get', 'get', 3), ('corruption', 'corrupt', 3), ('bold', 'bold', 3), ('flip', 'flip', 3), ('mean', 'mean', 3), ('thing', 'thing', 3), ('read', 'read', 3), ('lives', 'live', 3), ('around', 'around', 3), ('eyeglasses', 'eyeglass', 3), ('india', 'india', 3), ('october', 'octob', 3), ('part', 'part', 3), ('ctf', 'ctf', 3), ('weekend', 'weekend', 3), ('project', 'project', 3), ('merch', 'merch', 3), ('previews', 'preview', 3), ('becomes', 'becom', 3), ('china', 'china', 3), ('mood', 'mood', 3), ('fuck', 'fuck', 3), ('mon', 'mon', 3), ('oct', 'oct', 3), ('understand', 'understand', 3), ('right', 'right', 3), ('positioning', 'posit', 3), ('crypto', 'crypto', 3), ('mutual funds', 'mutual fund', 3), ('made', 'made', 3), ('team', 'team', 3), ('baby', 'babi', 3), ('dont', 'dont', 3), ('beauty', 'beauti', 3), ('biggest', 'biggest', 3), ('long', 'long', 3), ('assignment', 'assign', 3), ('gunil', 'gunil', 3), ('mini album', 'mini album', 3), ('complete', 'complet', 3), ('inclusions', 'inclus', 3), ('junhan', 'junhan', 3), ('onhand', 'onhand', 3), ('condi', 'condi', 3), ('php', 'php', 3), ('jnt', 'jnt', 3), ('cod', 'cod', 3), ('alice', 'alic', 3), ('private key', 'private key', 3), ('bob', 'bob', 3), ('public key', 'public key', 3), ('give', 'give', 3), ('string', 'string', 3), ('new world', 'new world', 3), ('got', 'got', 3), ('set', 'set', 3), ('first', 'first', 3), ('videos', 'video', 3), ('vr chat', 'vr chat', 3), ('scratch', 'scratch', 3), ('diwali', 'diwali', 3), ('best', 'best', 3), ('interested', 'interest', 3), ('support', 'support', 3), ('wait', 'wait', 3), ('europe', 'europ', 3), ('boys girls', 'boys girl', 3), ('take', 'take', 3), ('october rd', 'october rd', 3), ('finished', 'finish', 3), ('hasnt', 'hasnt', 3), ('resigned', 'resign', 3), ('said', 'said', 3), ('told', 'told', 3), ('heard', 'heard', 3), ('hello sir', 'hello sir', 3), ('problems', 'problem', 3), ('hope', 'hope', 3), ('need', 'need', 3), ('small', 'small', 3), ('alive', 'aliv', 3), ('master', 'master', 3), ('event', 'event', 3), ('mscia', 'mscia', 3), ('mental health day', 'mental health day', 3), ('name', 'name', 3), ('imported', 'import', 3), ('reveal', 'reveal', 3), ('answer', 'answer', 3), ('played', 'play', 3), ('well', 'well', 3), ('meeeee', 'meeeee', 2), ('eee', 'eee', 2), ('hahahhahahah', 'hahahhahahah', 2), ('mystery', 'mysteri', 2), ('another', 'anoth', 2), ('card', 'card', 2), ('reservation', 'reserv', 2), ('payo', 'payo', 2), ('selling', 'sell', 2), ('pinned', 'pin', 2), ('mop', 'mop', 2), ('mod', 'mod', 2), ('xhz', 'xhz', 2), ('xdz', 'xdz', 2), ('stroll', 'stroll', 2), ('lol', 'lol', 2), ('yarn', 'yarn', 2), ('laugh', 'laugh', 2), ('information', 'inform', 2), ('nicole', 'nicol', 2), ('travel', 'travel', 2), ('nicolewaurnponds', 'nicolewaurnpond', 2), ('helloworldcomau', 'helloworldcomau', 2), ('deadly', 'deadli', 2), ('tune', 'tune', 2), ('questions', 'question', 2), ('seanunfiltered', 'seanunfilt', 2), ('astros', 'astro', 2), ('texans', 'texan', 2), ('recap', 'recap', 2), ('cfb', 'cfb', 2), ('nfl', 'nfl', 2), ('gekirock', 'gekirock', 2), ('collab', 'collab', 2), ('student journalist', 'student journalist', 2), ('love', 'love', 2), ('brief', 'brief', 2), ('interview', 'interview', 2), ('talk', 'talk', 2), ('prospects', 'prospect', 2), ('world cup', 'world cup', 2), ('wtt', 'wtt', 2), ('trade', 'trade', 2), ('jungsu', 'jungsu', 2), ('jawa tengah', 'jawa tengah', 2), ('ina', 'ina', 2), ('hello sister', 'hello sist', 2), ('featuring', 'featur', 2), ('croptop', 'croptop', 2), ('lehenga', 'lehenga', 2), ('gown', 'gown', 2), ('kindly', 'kindli', 2), ('watch', 'watch', 2), ('full', 'full', 2), ('mookathal', 'mookath', 2), ('street', 'street', 2), ('purasaiwakkam', 'purasaiwakkam', 2), ('chennai', 'chennai', 2), ('skip', 'skip', 2), ('happy', 'happi', 2), ('pulled', 'pull', 2), ('apart', 'apart', 2), ('first computer', 'first comput', 2), ('trying', 'tri', 2), ('figure', 'figur', 2), ('worked', 'work', 2), ('first car', 'first car', 2), ('joys', 'joy', 2), ('internal combustion engine', 'internal combustion engin', 2), ('honest', 'honest', 2), ('curious', 'curiou', 2), ('mind', 'mind', 2), ('cunt', 'cunt', 2), ('hardly', 'hardli', 2), ('ever', 'ever', 2), ('sleep', 'sleep', 2), ('hello monday', 'hello monday', 2), ('could', 'could', 2), ('anything', 'anyth', 2), ('star sports', 'star sport', 2), ('disney star', 'disney star', 2), ('coverage', 'coverag', 2), ('motorsport', 'motorsport', 2), ('advertising', 'advertis', 2), ('every minutes', 'every minut', 2), ('races', 'race', 2), ('highly', 'highli', 2), ('unethical', 'uneth', 2), ('comparing', 'compar', 2), ('standards', 'standard', 2), ('broadcasters', 'broadcast', 2), ('formally', 'formal', 2), ('complaint', 'complaint', 2), ('get started', 'get start', 2), ('flew', 'flew', 2), ('older', 'older', 2), ('piggy bank', 'piggy bank', 2), ('happy birthday', 'happy birthday', 2), ('managed', 'manag', 2), ('replenish', 'replenish', 2), ('opensea', 'opensea', 2), ('piece', 'piec', 2), ('music lyrics', 'music lyr', 2), ('saying', 'say', 2), ('sliding', 'slide', 2), ('future', 'futur', 2), ('ukbritain', 'ukbritain', 2), ('behaviour', 'behaviour', 2), ('conservatives', 'conserv', 2), ('permanently', 'perman', 2), ('proof', 'proof', 2), ('bankers', 'banker', 2), ('bosses', 'boss', 2), ('pay', 'pay', 2), ('selves', 'selv', 2), ('millions', 'million', 2), ('perhaps', 'perhap', 2), ('connections', 'connect', 2), ('son', 'son', 2), ('apprenticeship', 'apprenticeship', 2), ('joshua', 'joshua', 2), ('growing', 'grow', 2), ('rapidly', 'rapidli', 2), ('every day', 'every day', 2), ('effective', 'effect', 2), ('tools', 'tool', 2), ('desktops', 'desktop', 2), ('teeth', 'teeth', 2), ('yellow', 'yellow', 2), ('tajmahal', 'tajmah', 2), ('detail', 'detail', 2), ('view', 'view', 2), ('page', 'page', 2), ('staticwebsite', 'staticwebsit', 2), ('hellohi', 'hellohi', 2), ('provide', 'provid', 2), ('world best', 'world best', 2), ('iptv', 'iptv', 2), ('subscription', 'subscript', 2), ('ener', 'ener', 2), ('hello angel', 'hello angel', 2), ('international', 'intern', 2), ('swiftie', 'swifti', 2), ('winning', 'win', 2), ('couldnt', 'couldnt', 2), ('japanese english', 'japanese english', 2), ('translation', 'translat', 2), ('via', 'via', 2), ('petrofac', 'petrofac', 2), ('disclose', 'disclos', 2), ('algeria', 'algeria', 2), ('sign', 'sign', 2), ('two new', 'two new', 2), ('deals', 'deal', 2), ('gaz', 'gaz', 2), ('big deal', 'big deal', 2), ('billion', 'billion', 2), ('senior man', 'senior man', 2), ('algerian', 'algerian', 2), ('sidence', 'sidenc', 2), ('hello friends', 'hello friend', 2), ('thought', 'thought', 2), ('might', 'might', 2), ('find', 'find', 2), ('truss', 'truss', 2), ('kwarteng', 'kwarteng', 2), ('route', 'rout', 2), ('growth', 'growth', 2), ('lateral', 'later', 2), ('energy', 'energi', 2), ('nature', 'natur', 2), ('increasingly', 'increasingli', 2), ('unfettered', 'unfett', 2), ('empowered', 'empow', 2), ('expect', 'expect', 2), ('see', 'see', 2), ('sweeping', 'sweep', 2), ('adaptive', 'adapt', 2), ('predicted', 'predict', 2), ('dodo', 'dodo', 2), ('crossed', 'cross', 2), ('first target', 'first target', 2), ('immediate', 'immedi', 2), ('short', 'short', 2), ('till', 'till', 2), ('tp tp', 'tp tp', 2), ('simple', 'simpl', 2), ('easy', 'easi', 2), ('carol', 'carol', 2), ('search', 'search', 2), ('tasty', 'tasti', 2), ('food', 'food', 2), ('greece', 'greec', 2), ('weather', 'weather', 2), ('cant', 'cant', 2), ('dont know', 'dont know', 2), ('complete strangers', 'complete strang', 2), ('active', 'activ', 2), ('user', 'user', 2), ('elsewhere', 'elsewher', 2), ('limit', 'limit', 2), ('account', 'account', 2), ('contemplating', 'contempl', 2), ('mental status', 'mental statu', 2), ('goodnight', 'goodnight', 2), ('hand', 'hand', 2), ('html', 'html', 2), ('css', 'css', 2), ('orca', 'orca', 2), ('crazy', 'crazi', 2), ('talented', 'talent', 2), ('people world', 'people world', 2), ('different', 'differ', 2), ('artistic', 'artist', 2), ('capabilities', 'capabl', 2), ('add', 'add', 2), ('three', 'three', 2), ('last supper', 'last supp', 2), ('red', 'red', 2), ('bother', 'bother', 2), ('assure', 'assur', 2), ('clear vision', 'clear vis', 2), ('whether', 'whether', 2), ('adults', 'adult', 2), ('children', 'children', 2), ('western', 'western', 2), ('invented', 'invent', 2), ('regions', 'region', 2), ('including', 'includ', 2), ('week', 'week', 2), ('presents', 'present', 2), ('dopinger', 'doping', 2), ('keep', 'keep', 2), ('digital marketing', 'digital market', 2), ('together', 'togeth', 2), ('cruel', 'cruel', 2), ('meet', 'meet', 2), ('every', 'everi', 2), ('hello goodbye', 'hello goodby', 2), ('fast', 'fast', 2), ('top', 'top', 2), ('sekai', 'sekai', 2), ('finally', 'final', 2), ('long time', 'long tim', 2), ('curse', 'curs', 2), ('second place', 'second plac', 2), ('lifted', 'lift', 2), ('solved', 'solv', 2), ('chicken', 'chicken', 2), ('time capsule', 'time capsul', 2), ('challs', 'chall', 2), ('exploit', 'exploit', 2), ('mint', 'mint', 2), ('behind', 'behind', 2), ('attention', 'attent', 2), ('joking', 'joke', 2), ('chinese', 'chines', 2), ('south korea', 'south korea', 2), ('resourceless', 'resourceless', 2), ('weve', 'weve', 2), ('survived', 'surviv', 2), ('far', 'far', 2), ('brain', 'brain', 2), ('ignore', 'ignor', 2), ('economy', 'economi', 2), ('mature', 'matur', 2), ('two', 'two', 2), ('fuo', 'fuo', 2), ('sub', 'sub', 2), ('fully', 'fulli', 2), ('point view', 'point view', 2), ('exactly', 'exactli', 2), ('invest', 'invest', 2), ('perceive', 'perceiv', 2), ('right way', 'right way', 2), ('portfolio', 'portfolio', 2), ('comprised', 'compris', 2), ('experts', 'expert', 2), ('salam', 'salam', 2), ('godmorning', 'godmorn', 2), ('extremely', 'extrem', 2), ('gorgeous', 'gorgeou', 2), ('wonderful', 'wonder', 2), ('sweet lady', 'sweet ladi', 2), ('beauty world', 'beauty world', 2), ('shall', 'shall', 2), ('assist', 'assist', 2), ('minecraft', 'minecraft', 2), ('creators', 'creator', 2), ('believe', 'believ', 2), ('holds', 'hold', 2), ('couple', 'coupl', 2), ('speed run', 'speed run', 2), ('world records', 'world record', 2), ('faceless', 'faceless', 2), ('youtuber', 'youtub', 2), ('whole', 'whole', 2), ('career', 'career', 2), ('face', 'face', 2), ('returned', 'return', 2), ('awaited', 'await', 2), ('late', 'late', 2), ('summer vacation', 'summer vac', 2), ('south france', 'south franc', 2), ('feel', 'feel', 2), ('rested', 'rest', 2), ('energized', 'energ', 2), ('ready', 'readi', 2), ('tackle', 'tackl', 2), ('last', 'last', 2), ('months', 'month', 2), ('london', 'london', 2), ('good question', 'good quest', 2), ('indeed', 'inde', 2), ('hello beautiful', 'hello beauti', 2), ('heres', 'here', 2), ('great', 'great', 2), ('big', 'big', 2), ('hodlrs', 'hodlr', 2), ('bitcoin', 'bitcoin', 2), ('maximalists', 'maximalist', 2), ('shouldnt', 'shouldnt', 2), ('lightest', 'lightest', 2), ('blockchain', 'blockchain', 2), ('mina', 'mina', 2), ('minamalists', 'minamalist', 2), ('repeiced', 'repeic', 2), ('repriced', 'repric', 2), ('retrieve', 'retriev', 2), ('revert', 'revert', 2), ('tadaaa', 'tadaaa', 2), ('example', 'exampl', 2), ('write', 'write', 2), ('message', 'messag', 2), ('encrypt', 'encrypt', 2), ('zlispglieofdciuleeodjvovkdkkyky', 'zlispglieofdciuleeodjvovkdkkyki', 2), ('store chain', 'store chain', 2), ('ipfs', 'ipf', 2), ('partnership', 'partnership', 2), ('children record', 'children record', 2), ('loyal', 'loyal', 2), ('slave', 'slave', 2), ('hours', 'hour', 2), ('random', 'random', 2), ('entertained', 'entertain', 2), ('true stories', 'true stori', 2), ('tellll', 'tellll', 2), ('outside', 'outsid', 2), ('lied', 'lie', 2), ('whooaaaaaaaa', 'whooaaaaaaaa', 2), ('oh oh', 'oh oh', 2), ('oh yeah', 'oh yeah', 2), ('family link', 'family link', 2), ('worker', 'worker', 2), ('nicola', 'nicola', 2), ('attending', 'attend', 2), ('saturday', 'saturday', 2), ('th october', 'th octob', 2), ('beacon', 'beacon', 2), ('stall', 'stall', 2), ('come along', 'come along', 2), ('say hello', 'say hello', 2), ('beautiful show', 'beautiful show', 2), ('demand', 'demand', 2), ('develop', 'develop', 2), ('static website', 'static websit', 2), ('peopel', 'peopel', 2), ('prepare', 'prepar', 2), ('repay', 'repay', 2), ('dekaron', 'dekaron', 2), ('good morning', 'good morn', 2), ('good afternoon', 'good afternoon', 2), ('asia', 'asia', 2), ('mischievous', 'mischiev', 2), ('moaning', 'moan', 2), ('love love love', 'love love lov', 2), ('wxs', 'wx', 2), ('vibes', 'vibe', 2), ('learnred', 'learnr', 2), ('arrange', 'arrang', 2), ('image', 'imag', 2), ('side side', 'side sid', 2), ('text', 'text', 2), ('inside', 'insid', 2), ('quite', 'quit', 2), ('irregular', 'irregular', 2), ('never fear', 'never fear', 2), ('safe', 'safe', 2), ('maybe', 'mayb', 2), ('michelle', 'michel', 2), ('youve', 'youv', 2), ('much', 'much', 2), ('words', 'word', 2), ('put', 'put', 2), ('super', 'super', 2), ('ginormous', 'ginorm', 2), ('smile face', 'smile fac', 2), ('unknown known', 'unknown known', 2), ('huge', 'huge', 2), ('finencial', 'finenci', 2), ('lost', 'lost', 2), ('please sir', 'please sir', 2), ('financial', 'financi', 2), ('make', 'make', 2), ('training', 'train', 2), ('trainer', 'trainer', 2), ('ers', 'er', 2), ('mentally', 'mental', 2), ('strong', 'strong', 2), ('youths', 'youth', 2), ('yearly', 'yearli', 2), ('organized', 'organ', 2), ('doph', 'doph', 2), ('department', 'depart', 2), ('public health', 'public health', 2), ('fkub', 'fkub', 2), ('commemoration', 'commemor', 2), ('time', 'time', 2), ('todays', 'today', 2), ('southerly', 'southerli', 2), ('point', 'point', 2), ('africa', 'africa', 2), ('cape agulhas', 'cape agulha', 2), ('click', 'click', 2), ('link', 'link', 2), ('tour', 'tour', 2), ('tomorrow', 'tomorrow', 2), ('location', 'locat', 2)]\n"
     ]
    }
   ],
   "source": [
    "print(results)"
   ],
   "metadata": {
    "collapsed": false,
    "pycharm": {
     "name": "#%%\n"
    }
   }
  },
  {
   "cell_type": "code",
   "execution_count": null,
   "outputs": [],
   "source": [],
   "metadata": {
    "collapsed": false,
    "pycharm": {
     "name": "#%%\n"
    }
   }
  }
 ],
 "metadata": {
  "kernelspec": {
   "display_name": "Python 3",
   "language": "python",
   "name": "python3"
  },
  "language_info": {
   "codemirror_mode": {
    "name": "ipython",
    "version": 2
   },
   "file_extension": ".py",
   "mimetype": "text/x-python",
   "name": "python",
   "nbconvert_exporter": "python",
   "pygments_lexer": "ipython2",
   "version": "2.7.6"
  }
 },
 "nbformat": 4,
 "nbformat_minor": 0
}