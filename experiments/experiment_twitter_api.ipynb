{
 "cells": [
  {
   "cell_type": "code",
   "execution_count": 9,
   "metadata": {
    "collapsed": true,
    "pycharm": {
     "name": "#%%\n"
    }
   },
   "outputs": [],
   "source": [
    "from utils.twitter_api import TwitterAPI\n",
    "from utils.cleaner import TweetCleaner\n",
    "from utils.segmenter import SEDTWikSegmenter\n",
    "from utils.grouper import Grouper\n",
    "from utils.comparer import Comparer"
   ]
  },
  {
   "cell_type": "markdown",
   "source": [
    "### Initialize Utils"
   ],
   "metadata": {
    "collapsed": false,
    "pycharm": {
     "name": "#%% md\n"
    }
   }
  },
  {
   "cell_type": "code",
   "execution_count": 10,
   "outputs": [
    {
     "name": "stdout",
     "output_type": "stream",
     "text": [
      "Initializing SEDTWik Segmenter\n",
      "SEDTWik Segmenter Ready\n",
      "\n"
     ]
    }
   ],
   "source": [
    "twitter_api = TwitterAPI()\n",
    "cleaner = TweetCleaner(True, True)\n",
    "segmenter = SEDTWikSegmenter(wiki_titles_file='data/enwiki-titles-unstemmed-no-stopwords-all.txt')\n",
    "grouper = Grouper()\n",
    "comparer = Comparer()"
   ],
   "metadata": {
    "collapsed": false,
    "pycharm": {
     "name": "#%%\n"
    }
   }
  },
  {
   "cell_type": "markdown",
   "source": [
    "### Get Article Text & Tweets"
   ],
   "metadata": {
    "collapsed": false,
    "pycharm": {
     "name": "#%% md\n"
    }
   }
  },
  {
   "cell_type": "code",
   "execution_count": 11,
   "outputs": [
    {
     "name": "stdout",
     "output_type": "stream",
     "text": [
      "Getting response from Twitter api...\n"
     ]
    }
   ],
   "source": [
    "tweets = twitter_api.get_tweets('(Russia OR Ukraine) -is:retweet', 100, 5)\n",
    "article = \"After regaining the key eastern Ukrainian city of Lyman over the weekend, Ukrainian forces have continued their counter-offensive and pushed into the Luhansk region, according to pro-Russian officials and propagandists. The Armed Forces of Ukraine managed to cross the administrative border of the LPR and gain a foothold in the direction of the settlement of Lysychansk,” Andrey Marochko, a military leader in the self-proclaimed Luhansk People’s Republic (LPR), said on Telegram on Monday. Russia controls nearly all of Ukraine’s Luhansk region; Ukrainian forces liberated the Luhansk village of Bilohorivka at the end of September. Ukrainian forces have continued their offensive towards the Russian-occupied towns of Svatove and Kreminna, in the Luhansk region, a pro-Russian journalist, military blogger and analyst said. In the face of the threat to our grouping in the area of ​​the settlement of Borova, it was decided to withdraw it to the line of the Zherebets River, which was done tonight,” Yuriy Podolyaka wrote on Telegram. In the area of ​​Kreminna, the enemy is also not particularly active today, but the concentration of troops suggests that a new offensive in this direction (towards Svatove and Kreminna) should begin any day,” he said. Kyiv is now advancing into the Luhansk region, according to military representative for the so-called People's Militia of the Luhansk People's Republic. Now the Ukrainian media have begun to very actively share information that the Armed Forces of Ukraine have crossed the administrative border of the LPR, and they are rejoicing,” Andrey Marochko said, quoted by the Luhansk Media Center. But in fact, there are no administrative borders for the military now, in fact, Ukrainian troops entered ‘the fire bag’ and are being actively destroyed by our troops, Marochko added.\""
   ],
   "metadata": {
    "collapsed": false,
    "pycharm": {
     "name": "#%%\n"
    }
   }
  },
  {
   "cell_type": "markdown",
   "source": [
    "### Clean Article and Tweets"
   ],
   "metadata": {
    "collapsed": false,
    "pycharm": {
     "name": "#%% md\n"
    }
   }
  },
  {
   "cell_type": "code",
   "execution_count": 12,
   "outputs": [],
   "source": [
    "cleaned_tweets = cleaner.clean_tweets(tweets)\n",
    "cleaned_article = cleaner.get_cleaned_text(article)"
   ],
   "metadata": {
    "collapsed": false,
    "pycharm": {
     "name": "#%%\n"
    }
   }
  },
  {
   "cell_type": "markdown",
   "source": [
    "### Segment Article and Tweets"
   ],
   "metadata": {
    "collapsed": false,
    "pycharm": {
     "name": "#%% md\n"
    }
   }
  },
  {
   "cell_type": "code",
   "execution_count": 13,
   "outputs": [],
   "source": [
    "tweet_segments = []\n",
    "for tweet in cleaned_tweets['data']:\n",
    "    tweet_segments.extend(segmenter.tweet_segmentation(tweet))\n",
    "\n",
    "article_segments = segmenter.text_segmentation(cleaned_article)"
   ],
   "metadata": {
    "collapsed": false,
    "pycharm": {
     "name": "#%%\n"
    }
   }
  },
  {
   "cell_type": "markdown",
   "source": [
    "### Compare Article and Tweet Segments\n",
    "Only return unique Tweet Segments"
   ],
   "metadata": {
    "collapsed": false,
    "pycharm": {
     "name": "#%% md\n"
    }
   }
  },
  {
   "cell_type": "code",
   "execution_count": 14,
   "outputs": [],
   "source": [
    "unique_segments = comparer.filter_segments(article_segments, tweet_segments)"
   ],
   "metadata": {
    "collapsed": false,
    "pycharm": {
     "name": "#%%\n"
    }
   }
  },
  {
   "cell_type": "markdown",
   "source": [
    "### Group by stemmed segment and sort by frequency"
   ],
   "metadata": {
    "collapsed": false,
    "pycharm": {
     "name": "#%% md\n"
    }
   }
  },
  {
   "cell_type": "code",
   "execution_count": 15,
   "outputs": [],
   "source": [
    "results = grouper.group_by_stem_and_sort_by_freq(unique_segments)"
   ],
   "metadata": {
    "collapsed": false,
    "pycharm": {
     "name": "#%%\n"
    }
   }
  },
  {
   "cell_type": "code",
   "execution_count": 16,
   "outputs": [
    {
     "name": "stdout",
     "output_type": "stream",
     "text": [
      "[('nuclear weapons', 'nuclear weapon', 11), ('whole world', 'whole world', 8), ('pro abortion', 'pro abort', 8), ('war world', 'war world', 8), ('nato members', 'nato memb', 7), ('ukraine war', 'ukraine war', 7), ('funny videos', 'funny video', 6), ('russia ukraine', 'russia ukrain', 6), ('nord stream', 'nord stream', 5), ('russian troops', 'russian troop', 5), ('disaster relief', 'disaster relief', 4), ('territorial integrity', 'territorial integr', 4), ('background duma', 'background duma', 4), ('neo nazi', 'neo nazi', 4), ('kherson region', 'kherson region', 4), ('vladimir putin', 'vladimir putin', 4), ('gon na', 'gon na', 4), ('russia ukraine war', 'russia ukraine war', 4), ('lyman ukraine', 'lyman ukrain', 3), ('fbi agent', 'fbi ag', 3), ('termination letter', 'termination lett', 3), ('tactical nuclear weapons', 'tactical nuclear weapon', 3), ('russian media', 'russian media', 3), ('nuclear war', 'nuclear war', 3), ('american citizens', 'american citizen', 3), ('sovereign country', 'sovereign countri', 3), ('russian invasion', 'russian invas', 3), ('national security', 'national secur', 3), ('late friday', 'late friday', 3), ('long range', 'long rang', 3), ('war criminals', 'war crimin', 3), ('proxy war', 'proxy war', 3), ('czech republic', 'czech republ', 3), ('peace time', 'peace tim', 3), ('russian army', 'russian armi', 3), ('western europe', 'western europ', 3), ('russia war', 'russia war', 3), ('russian forces', 'russian forc', 3), ('ramzan kadyrov', 'ramzan kadyrov', 3), ('nuclear energy', 'nuclear energi', 3), ('future generations', 'future gener', 3), ('cannon fodder', 'cannon fodd', 3), ('peoples republics', 'peoples republ', 3), ('big time', 'big tim', 3), ('young people', 'young peopl', 3), ('eastern europe', 'eastern europ', 3), ('false flag', 'false flag', 2), ('high price', 'high pric', 2), ('high tech', 'high tech', 2), ('hurricane relief', 'hurricane relief', 2), ('quantum physics', 'quantum phys', 2), ('schr dinger cat', 'schr dinger cat', 2), ('external world', 'external world', 2), ('irreconcilable differences', 'irreconcilable differ', 2), ('soviet tank', 'soviet tank', 2), ('nato countries', 'nato countri', 2), ('plaza towers', 'plaza tow', 2), ('free society', 'free societi', 2), ('brezhnev era', 'brezhnev era', 2), ('general staff', 'general staff', 2), ('nuclear submarine', 'nuclear submarin', 2), ('country flag', 'country flag', 2), ('election interference', 'election interfer', 2), ('social security', 'social secur', 2), ('china climate change', 'china climate chang', 2), ('ex girlfriend', 'ex girlfriend', 2), ('life years', 'life year', 2), ('false information', 'false inform', 2), ('industrial capacity', 'industrial capac', 2), ('hard facts', 'hard fact', 2), ('puerto rico', 'puerto rico', 2), ('russian literature', 'russian literatur', 2), ('collective responsibility', 'collective respons', 2), ('russian opposition', 'russian opposit', 2), ('crimean peninsula', 'crimean peninsula', 2), ('crimean tatars', 'crimean tatar', 2), ('war zone', 'war zon', 2), ('solid wood', 'solid wood', 2), ('locker rooms', 'locker room', 2), ('wagner group', 'wagner group', 2), ('war games', 'war gam', 2), ('russian border', 'russian bord', 2), ('nuclear strike', 'nuclear strik', 2), ('open door', 'open door', 2), ('national governments', 'national govern', 2), ('financial support', 'financial support', 2), ('black market', 'black market', 2), ('guidance systems', 'guidance system', 2), ('low income households', 'low income household', 2), ('illegal border', 'illegal bord', 2), ('economic aid', 'economic aid', 2), ('afghan refugees', 'afghan refuge', 2), ('dog lover', 'dog lov', 2), ('political terrorism', 'political terror', 2), ('high school', 'high school', 2), ('arm band', 'arm band', 2), ('right arm', 'right arm', 2), ('th century', 'th centuri', 2), ('pearl harbor hawaii', 'pearl harbor hawaii', 2), ('germany france', 'germany fr', 2), ('world time', 'world tim', 2), ('ground forces', 'ground forc', 2), ('ground attack', 'ground attack', 2), ('point blank', 'point blank', 2), ('real war', 'real war', 2), ('kaiser wilhelm', 'kaiser wilhelm', 2), ('civil war', 'civil war', 2), ('russian people', 'russian peopl', 2), ('russian government', 'russian govern', 2), ('goodbye world', 'goodbye world', 2), ('awkward moment', 'awkward mo', 2), ('nuclear blackmail', 'nuclear blackmail', 2), ('nuclear warheads', 'nuclear warhead', 2), ('nuclear attack', 'nuclear attack', 2), ('steve rosenberg', 'steve rosenberg', 2), ('ukrainian territory', 'ukrainian territori', 2), ('alice wonderland', 'alice wonderland', 2), ('communist country', 'communist countri', 2), ('top dog', 'top dog', 2), ('world elite', 'world elit', 2), ('dead relatives', 'dead rel', 2), ('russian states', 'russian st', 2), ('pro war', 'pro war', 2), ('washington post', 'washington post', 2), ('radiological fallout', 'radiological fallout', 2), ('iran culture', 'iran cultur', 2), ('conservative friends', 'conservative friend', 2), ('polish government', 'polish govern', 2), ('gas pipeline', 'gas pipelin', 2), ('bitcoin address', 'bitcoin address', 2), ('front line', 'front lin', 2), ('eu member', 'eu memb', 2), ('retail market', 'retail market', 2), ('special operation', 'special oper', 2), ('ukrainian flags', 'ukrainian flag', 2), ('god bless', 'god bless', 2), ('french president', 'french presid', 2), ('emmanuel macron', 'emmanuel macron', 2), ('big mistake', 'big mistak', 2), ('daily news podcast', 'daily news podcast', 2), ('white flags', 'white flag', 2), ('kharkiv oblast', 'kharkiv oblast', 2), ('raw materials', 'raw materi', 2), ('dutch english', 'dutch english', 2), ('crimea ukraine', 'crimea ukrain', 2), ('eastern european', 'eastern european', 2), ('nato member states', 'nato member st', 2), ('ukraine nato', 'ukraine nato', 2), ('night time', 'night tim', 2), ('great point', 'great point', 2), ('bank top', 'bank top', 2), ('yelena yemchuk', 'yelena yemchuk', 2), ('sunday times', 'sunday tim', 2), ('end war', 'end war', 2), ('erzyan mastor', 'erzyan mastor', 2), ('full clip', 'full clip', 2), ('insurance companies', 'insurance compani', 2), ('sour grapes', 'sour grap', 2), ('urban environment', 'urban environ', 2), ('first chechen war', 'first chechen war', 2), ('second chechen war', 'second chechen war', 2), ('bmpt terminator', 'bmpt termin', 2), ('key word', 'key word', 2), ('dirty money', 'dirty money', 2), ('burkina faso', 'burkina faso', 2), ('bad ideas', 'bad idea', 2), ('eastern states', 'eastern st', 2), ('nazi occupation', 'nazi occup', 2), ('rail network', 'rail network', 2), ('home time', 'home tim', 2), ('puppet president', 'puppet presid', 2), ('good people', 'good peopl', 2), ('biden presidency', 'biden presid', 2), ('american people', 'american peopl', 2), ('afghanistan taliban', 'afghanistan taliban', 2), ('florida democrats', 'florida democrat', 2), ('dnieper river', 'dnieper riv', 2), ('federal govt', 'federal govt', 2), ('world police', 'world polic', 2), ('crazy ivan', 'crazy ivan', 2), ('election fraud', 'election fraud', 2), ('russian propaganda', 'russian propaganda', 2), ('oh yeah', 'oh yeah', 2), ('reality check', 'reality check', 2), ('peter strzok', 'peter strzok', 2), ('battle tanks', 'battle tank', 2), ('makhachkala dagestan', 'makhachkala dagestan', 2), ('muslim region', 'muslim region', 2), ('gas storage', 'gas storag', 2), ('strong man', 'strong man', 2), ('men women', 'men women', 2), ('army general', 'army gener', 2), ('uk conservative party', 'uk conservative parti', 2), ('excess deaths', 'excess death', 2), ('culture wars', 'culture war', 2), ('conservative party', 'conservative parti', 2), ('long term', 'long term', 2), ('brave people', 'brave peopl', 2), ('crystal ball', 'crystal bal', 2), ('terrorist background', 'terrorist st', 2), ('world juniors', 'world junior', 2), ('sexual assaults', 'sexual assault', 2), ('vice versa', 'vice versa', 2), ('good look', 'good look', 2), ('cbn news', 'cbn new', 2), ('north korea russia', 'north korea russia', 2), ('mutual funds', 'mutual fund', 2), ('puppet master', 'puppet mast', 2), ('united states america', 'united states america', 2), ('film actor', 'film actor', 2), ('yes people', 'yes peopl', 2), ('foreign aid', 'foreign aid', 2), ('exchange prisoners', 'exchange prison', 2), ('saudi arabia', 'saudi arabia', 2), ('final days', 'final day', 2), ('red square', 'red squar', 2), ('federal reserve', 'federal reserv', 2), ('chechen republic', 'chechen republ', 2), ('taxpayer money', 'taxpayer money', 2), ('president zelensky', 'president zelenski', 2), ('liz truss', 'liz truss', 2), ('joe biden', 'joe biden', 2), ('dont care', 'dont car', 2), ('illegal war', 'illegal war', 2), ('international law', 'international law', 2), ('united democratic party', 'united democratic parti', 2), ('moscow list', 'moscow list', 2), ('slava ukraini', 'slava ukraini', 2), ('blow hole', 'blow hol', 2), ('ukrainian border', 'ukrainian bord', 2), ('kyiv ukraine', 'kyiv ukrain', 2), ('estonian foreign ministry', 'estonian foreign ministri', 2), ('explosive ordnance disposal', 'explosive ordnance dispos', 2), ('public services', 'public servic', 2), ('illegal immigrants', 'illegal immigr', 2), ('modern day', 'modern day', 2), ('mass killings', 'mass kil', 2), ('th people', 'th peopl', 2), ('exit ramp', 'exit ramp', 2), ('foreign affairs', 'foreign affair', 2), ('drone strike', 'drone strik', 2), ('central council', 'central council', 2), ('polish background', 'polish st', 2), ('atomic weapons', 'atomic weapon', 2), ('early years', 'early year', 2), ('aleksandr dugin', 'aleksandr dugin', 2), ('military train', 'military train', 2), ('human space exploration', 'human space explor', 2), ('russian air force', 'russian air forc', 2), ('lieutenant colonel', 'lieutenant colonel', 2), ('political activist', 'political activist', 2), ('southern russian', 'southern russian', 2), ('dead soldiers', 'dead soldi', 2), ('russia oh', 'russia oh', 2), ('financial future', 'financial futur', 2), ('role model', 'role model', 2), ('ukrainian refugees', 'ukrainian refuge', 2), ('political ideas', 'political idea', 2), ('background power', 'background pow', 2), ('production relations', 'production rel', 2), ('part ii', 'part ii', 2), ('defence forces', 'defence forc', 2), ('operational planning', 'operational plan', 2), ('eu member states', 'eu member st', 2), ('bargaining chip', 'bargaining chip', 2), ('full scale', 'full scal', 2), ('ukraine eu', 'ukraine eu', 2), ('matti maasikas', 'matti maasika', 2), ('rbk ukraine', 'rbk ukrain', 2), ('us foreign policy', 'us foreign polici', 2), ('zbigniew brzezinski', 'zbigniew brzezinski', 2), ('operation cyclone', 'operation cyclon', 2), ('member states', 'member st', 2), ('southern russia', 'southern russia', 2), ('russia hoax', 'russia hoax', 2), ('nazi ukraine', 'nazi ukrain', 2), ('fine gael', 'fine gael', 2), ('ukraine crisis', 'ukraine crisi', 2), ('russian oil', 'russian oil', 2), ('lot church', 'lot church', 2), ('commuter rail', 'commuter rail', 2), ('th background', 'th background', 2), ('fresh water', 'fresh wat', 2), ('sea water', 'sea wat', 2), ('surprise surprise', 'surprise surpris', 2), ('ukraine russia war', 'ukraine russia war', 2), ('war animals', 'war anim', 2), ('pope francis', 'pope fr', 2), ('russian president', 'russian presid', 2), ('political climate', 'political clim', 2), ('hush money', 'hush money', 2), ('douglas mcgregor', 'douglas mcgregor', 2), ('us army colonel', 'us army colonel', 2), ('motor sich airlines', 'motor sich airlin', 2), ('collateral damage', 'collateral damag', 2), ('john mearsheimer', 'john mearsheim', 2), ('long time ago', 'long time ago', 2), ('oil war', 'oil war', 2), ('ukraine invasion', 'ukraine invas', 2), ('abc news', 'abc new', 2), ('western europeans', 'western european', 2), ('good work', 'good work', 2), ('russia ukraine border', 'russia ukraine bord', 2), ('ukrainian war', 'ukrainian war', 2), ('silent voice', 'silent voic', 2), ('black sea fleet', 'black sea fleet', 2), ('southern front', 'southern front', 2), ('knock knock', 'knock knock', 2), ('double standards', 'double standard', 2), ('western ukraine', 'western ukrain', 2), ('ukraine army', 'ukraine armi', 2), ('good opportunity', 'good opportun', 2), ('hypersonic missiles', 'hypersonic missil', 2), ('black sea', 'black sea', 2), ('standoff distance', 'standoff dist', 2), ('ukranian people', 'ukranian peopl', 2), ('military personnel', 'military personnel', 2), ('gas station', 'gas stat', 2), ('colorectal cancer', 'colorectal canc', 2), ('intestinal obstruction', 'intestinal obstruct', 2), ('southern region', 'southern region', 2), ('nuclear bombs', 'nuclear bomb', 2), ('north atlantic treaty', 'north atlantic treati', 2), ('urban areas', 'urban area', 2), ('new york', 'new york', 2), ('los angeles', 'los angel', 2), ('russian embassy', 'russian embassi', 2), ('real men', 'real men', 1)]\n"
     ]
    }
   ],
   "source": [
    "print(results)"
   ],
   "metadata": {
    "collapsed": false,
    "pycharm": {
     "name": "#%%\n"
    }
   }
  }
 ],
 "metadata": {
  "kernelspec": {
   "display_name": "Python 3",
   "language": "python",
   "name": "python3"
  },
  "language_info": {
   "codemirror_mode": {
    "name": "ipython",
    "version": 2
   },
   "file_extension": ".py",
   "mimetype": "text/x-python",
   "name": "python",
   "nbconvert_exporter": "python",
   "pygments_lexer": "ipython2",
   "version": "2.7.6"
  }
 },
 "nbformat": 4,
 "nbformat_minor": 0
}