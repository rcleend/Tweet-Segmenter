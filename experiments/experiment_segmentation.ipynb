{
 "cells": [
  {
   "cell_type": "markdown",
   "metadata": {
    "pycharm": {
     "name": "#%% md\n"
    }
   },
   "source": [
    "## Segmentation using Wikipedia Titles"
   ]
  },
  {
   "cell_type": "code",
   "execution_count": 5,
   "outputs": [],
   "source": [
    "from utils.twitter_api import TwitterAPI\n",
    "from utils.cleaner import Cleaner\n",
    "from utils.segmenter import SEDTWikSegmenter\n",
    "import time"
   ],
   "metadata": {
    "collapsed": false,
    "pycharm": {
     "name": "#%%\n"
    }
   }
  },
  {
   "cell_type": "code",
   "execution_count": 6,
   "outputs": [
    {
     "name": "stdout",
     "output_type": "stream",
     "text": [
      "Initializing SEDTWik Segmenter\n",
      "SEDTWik Segmenter Ready\n",
      "\n"
     ]
    }
   ],
   "source": [
    "twitter_api = TwitterAPI()\n",
    "tweet_cleaner = Cleaner(True, True)\n",
    "tweet_segmenter = SEDTWikSegmenter(wiki_titles_file='../data/enwiki-titles-unstemmed-no-stopwords-all.txt')"
   ],
   "metadata": {
    "collapsed": false,
    "pycharm": {
     "name": "#%%\n"
    }
   }
  },
  {
   "cell_type": "code",
   "execution_count": 19,
   "outputs": [
    {
     "name": "stdout",
     "output_type": "stream",
     "text": [
      "Getting response from Twitter api...\n"
     ]
    }
   ],
   "source": [
    "tweets = twitter_api.get_tweets('(Ukraine OR Russia) -is:retweet', 100, 5)\n",
    "cleaned_tweets = tweet_cleaner.clean_tweets(tweets)\n"
   ],
   "metadata": {
    "collapsed": false,
    "pycharm": {
     "name": "#%%\n"
    }
   }
  },
  {
   "cell_type": "code",
   "execution_count": 8,
   "outputs": [
    {
     "name": "stdout",
     "output_type": "stream",
     "text": [
      "loss crimea eastern provinces consequence violent overthow democratically elected government bombing civilians regard post coup govt illegitimate europe sufficient resources handle russia already\n",
      "looking forward russia dlc even though coming month hope soon get popular opinion peer pressure get see russia dlc resurrected war got playing computer game\n",
      "run truth like righteous coward taught joining fight since eager fight ukraine\n",
      "junta like zelenskyy talking ethiopia starvation blaming russia laughing one starvation hoa second country working day night un sanction eritrea ethiopia lunatic\n",
      "confirmed president zelensky morning fully mobilized increase military support ukraine soon possible particular anti aircraft defence\n",
      "sea drone attack russian fleet puts focus expanded ukrainian arms\n",
      "bro live russia go trick treating die\n",
      "stupid country lmao\n",
      "trolls gon na troll ignore talk people living terrorism war every couple days lots us never forget struggle heroism important ukraine unified nation russian failed empire every week\n",
      "show solid evidence implicates uk saboteur presented russians russia nothing uk russia gdp half size uk even twice big population landmass spanning time zones pathetic\n",
      "strike knocking utility services anti aircraft weapony could save\n",
      "wars russia wrong invade us nato intentionally provoked russia\n",
      "russia killing nazis bad\n",
      "headed ukraine\n",
      "indeed arm friends support us outside ukraine\n",
      "russia deploys hypersonic missiles belarus message west\n",
      "russian government warned could attempt retaliate civilian satellites used aid ukrainian military\n",
      "middle east states often traditional clients russian arms sale stasa salacanin spoke experts find wake could change next years\n",
      "regions anexed russia recently towns\n",
      "still ukrainians panel deny agency country invaded citizens murdered nato doesnt expand countries queue join imperialist russia real path peace remove genocidal army\n",
      "russian state tv discovers halloween celebrated ukraine\n",
      "much laundered ukraine last months tbat previously owed debt\n",
      "plz go stand ukraine perhaps front russian tank\n",
      "lovely catch mighty russia\n",
      "regardless anyone thinks fault ukraine innocent sovereign nation putin pissed nato shouldnt attacked instead\n",
      "ah starting come pandemic demand starting go back shame someone encouraged opec slow production\n",
      "dont know anything feel ukraine youre comparing apples oranges statement means im correct cant defend im saying\n",
      "actually believe government institution trusted bidens laptop bidens selling us bidens interests ukraine afghanistan pullout border come wake hard see corruption\n",
      "uk said refusing drawn russia attempt cause distractions claiming uk played part damage nord stream pipeline\n",
      "either laundering money ukraine really stupid\n",
      "join invited session impact war ukraine friday november lima register\n",
      "gave security arrangements russian attack would avoidable sounds like justification fact poland part important factor security ukraine wants\n",
      "wait russia attacks giving us reason join officially\n",
      "idk man ask thousands fleeing ukraine russia countries choose russia flee\n",
      "sorry talking canada ukraine\n",
      "wondering putins strategy point bankrupt us funds requests coming ukraine\n",
      "new report estimates million ukrainians lost jobs eight months since russias full scale invasion began putting unprecedented pressure countrys social welfare system\n",
      "youre wrong united states interfered ukraine obama caused conflict\n",
      "hmm russia took ukrainian energy according zelensky sounds like winnable result\n",
      "islamic republic recruiting afghan soldiers fight without iranian government world better place west realize fact\n",
      "zelenskiy say agreed thanked macron support since russia invaded ukraine\n",
      "european union monday condemned russia suspension black sea grain deal urged reverse decision\n",
      "agree argument russia country blame take back question lead long debate putin aggrevate situation agreement partly blame\n",
      "lets talk news live via\n",
      "dems literally deny elections lose promote conspiracies damage country russia gate put morons charge several committees without even basic competence subject matter argument definitely elect democrats\n",
      "putin war home reveals inside stories activists journalists risking arrest imprisonment speak russia invasion ukraine tune tonight pm\n",
      "russia media read\n",
      "alex unit surrendered driven military base belarus could hear cries prisoners beaten reports magazine\n",
      "mind russia borders ukraine europe im muslim im indian hindu youre idi\n",
      "russia killing people killing people asians killing people heard jewish people killing race issue culture issue rip takeoff\n"
     ]
    }
   ],
   "source": [
    "for tweet in tweets['data']:\n",
    "    print(tweet['text'])"
   ],
   "metadata": {
    "collapsed": false,
    "pycharm": {
     "name": "#%%\n"
    }
   }
  },
  {
   "cell_type": "code",
   "execution_count": 20,
   "outputs": [
    {
     "name": "stdout",
     "output_type": "stream",
     "text": [
      "Execution time: 0.5036602020263672 seconds\n",
      "['vassal state', 'palestine syria', 'nazi propaganda', 'dmitry medvedev', 'gon na', 'paper clip', 'kherson region', 'military industrial complex', 'dmitry medvedev', 'gon na', 'strong reaction', 'food crisis', 'terrorist state', 'black sea fleet', 'nord stream', 'russia hoax', 'biden administration', 'southern border', 'information number', 'saudi arabia', 'federalist society', 'koch brothers', 'grocery stores', 'gas prices', 'oodua people congress', 'ukrainian forces', 'islamic republic', 'military equipment', 'good time', 'amp building', 'terrorist state', 'antibiotic resistance', 'soviet union', 'david sacks', 'black sea', 'economic output', 'new way', 'media link', 'asylum seekers', 'saudi arabia', 'twitter takeover', 'peter thiel', 'years years', 'russia ukraine', 'eastern ukraine', 'proxy war', 'proxy war', 'ballistic missiles', 'human shield', 'bad things', 'drone attack', 'biden administration', 'dmitry medvedev', 'gon na', 'white house', 'hypersonic missiles', 'good luck', 'food crisis', 'collective responsibility', 'military government', 'ukraine government', 'azov battalion', 'biden ukraine', 'free healthcare', 'free education', 'kim jung un', 'nuclear war', 'stupid people', 'ukraine flag', 'nord stream', 'germany austria', 'neo nazis', 'russian tv', 'production capacity', 'humanitarian aid', 'african nations', 'term limits', 'gas prices', 'democratic party', 'terrorist state', 'yes people', 'oil price', 'innocent victims', 'food crisis', 'terrorist state', 'food crisis', 'collective responsibility', 'nuclear weapons', 'existential threat', 'antony blinken', 'state department', 'dont care', 'rocket launcher', 'anti tank missile', 'saudi arabia', 'world business', 'budapest memorandum', 'soviet states', 'humanitarian aid', 'kim jong', 'blah blah blah', 'glory days', 'financial cost', 'tula region', 'fashion show', 'ukrainian flag', 'david sacks', 'sleepy joe', 'forced labor camps', 'lviv pogroms', 'high risk', 'biden administration', 'price cap', 'united states america', 'heroic age', 'tough guy', 'ukrainian conflict', 'president biden', 'free pass', 'biden administration', 'world order', 'terrorist state', 'food crisis', 'collective responsibility', 'ukraine conflict', 'gas oil', 'asset forfeiture', 'oil gas', 'critical materials', 'booster shots', 'afghanistan pakistan', 'iraq libya', 'brics countries', 'need dollar', 'oil gas', 'brics countries', 'white man', 'joe biden', 'good american', 'white man', 'middle ground', 'schiller institute', 'air force', 'strong reaction', 'food crisis', 'terrorist state', 'russia sanctions', 'russia war', 'russian army', 'civil population', 'russian attack', 'food crisis', 'collective responsibility', 'jd vance', 'white house', 'ukraine war', 'jd vance', 'peter thiel', 'nuclear option', 'oil companies', 'windfall tax', 'kyiv mayor', 'vitali klitschko', 'google maps', 'ukraine flag', 'new russia', 'john durham', 'western country', 'satellite states', 'latin america', 'brazil elections', 'food crisis', 'collective responsibility', 'russian army', 'eastern ukraine', 'western ukraine', 'power stations', 'drc congo', 'frozen assets', 'ukraine nato', 'old habits', 'nuclear conflict', 'ordinary people', 'black brown', 'people planet', 'new year', 'world war iii', 'air strikes', 'indian territory', 'word play', 'cook county', 'rare metals', 'moral conflict', 'nuclear power', 'dirty bombs', 'ukraine russia war', 'arms race', 'world economy', 'russia gate', 'lab leak', 'hunter biden', 'post war', 'economic recovery', 'false flags', 'free energy', 'food crisis', 'collective responsibility', 'gas prices', 'internal affairs', 'foreign policy', 'multiple intelligence', 'river port', 'sea vessel', 'general director', 'shipping company', 'neo nazis', 'bad idea', 'word year', 'ukraine flag', 'falkland islands', 'military operation', 'ballistic missiles', 'word year', 'international community', 'pro russian', 'maidan protests', 'big store', 'factor india', 'comment section', 'multipolar world', 'food crisis', 'collective responsibility', 'nazi germany', 'putin russia', 'proportionate response', 'home office', 'european union', 'energy sector', 'eu energy commissioner', 'kadri simson', 'iran attacks', 'world affairs', 'sovereign country', 'azov batallion', 'hypersonic missile', 'british intelligence', 'uk mod', 'satellite images', 'mig fighters', 'black sea', 'human beings', 'super soldiers', 'islamic republic', 'putin war', 'current issues', 'european security', 'wedding ring', 'africa asia', 'home service', 'eastern ukraine', 'home country', 'russian cities', 'food crisis', 'collective responsibility', 'european countries', 'wilhelm ii', 'army base', 'food crisis', 'terrorist state', 'russia war', 'latin america', 'caribbean region', 'derek burney', 'new cold war', 'strong reaction', 'food crisis', 'terrorist state', 'general staff', 'defense forces', 'military equipment', 'anti aircraft missile', 'russian federation', 'ukraine war', 'russia hoax', 'male prostitution', 'white folk', 'serhii plokhy', 'nuclear weapons', 'hal turner', 'radio show', 'control system', 'fake story', 'world leader', 'three dimensional chess', 'gon na win', 'western nations', 'proxy war', 'british intelligence', 'russia gate', 'hook line sinker', 'nobel peace prize', 'russian court', 'wikimedia foundation', 'ukraine war', 'gas prices', 'food crisis', 'collective responsibility', 'word year', 'feraliminal lycanthropizer', 'dominant female', 'brutal death', 'yaroslavl russia', 'release date', 'november th', 'word year', 'dmitry peskov', 'terrorist act', 'vital energy', 'internet service', 'international legion', 'social security', 'sister princess', 'nicholas ii', 'russian orthodoxy', 'funny videos', 'russian empire', 'soviet government', 'ukrainian people', 'body bags', 'us gun violence', 'hard feelings', 'glory glory hallelujah', 'russia hoax', 'people war', 'head home', 'tidal wave', 'front line', 'russia ukraine', 'food crisis', 'collective responsibility', 'russia covid', 'jimmy dore', 'vice news', 'narco terrorist', 'truth justice', 'nuclear missile', 'crimea referendum', 'taiwan china', 'gun control', 'child rapist', 'russia ukraine', 'fossil energy', 'gon na die', 'complete surrender', 'ukrainian people', 'good idea', 'late september', 'nuclear safety', 'sex war', 'torture murder', 'bye bye', 'russia war', 'ballistic missiles', 'kamikaze drones', 'black ops', 'dear world', 'ethnic russians', 'russian propaganda', 'business partner', 'video evidence', 'real evidence', 'joe biden ukraine', 'maxine waters', 'war monger', 'palestinian terrorist', 'german artist', 'first world war', 'spanish influenza', 'trump rally', 'mark rubio', 'russia hoax', 'right media', 'mom dad', 'glory glory hallelujah', 'russia hoax', 'ukraine war', 'ballistic missiles', 'brazilian president', 'war end', 'us war machine', 'corporate media', 'strong reaction', 'food crisis', 'terrorist state', 'high risk', 'obama biden', 'black people', 'home service', 'internal affairs', 'foreign policy', 'head injuries', 'ukraine war', 'food crisis', 'terrorist state']\n",
      "Stored 'segments_wiki' (list)\n"
     ]
    }
   ],
   "source": [
    "st = time.time()\n",
    "segments_wiki = []\n",
    "for tweet in cleaned_tweets['data']:\n",
    "    segments_wiki.extend(tweet_segmenter.tweet_segmentation(tweet))\n",
    "\n",
    "et = time.time()\n",
    "elapsed_time = et - st\n",
    "print('Execution time:', elapsed_time, 'seconds')\n",
    "print(segments_wiki)\n",
    "%store segments_wiki"
   ],
   "metadata": {
    "collapsed": false,
    "pycharm": {
     "name": "#%%\n"
    }
   }
  },
  {
   "cell_type": "markdown",
   "source": [
    "## Segmentation using NLTK and Stanford NERTagger"
   ],
   "metadata": {
    "collapsed": false,
    "pycharm": {
     "name": "#%% md\n"
    }
   }
  },
  {
   "cell_type": "code",
   "execution_count": 10,
   "outputs": [],
   "source": [
    "import nltk\n",
    "from nltk.tag import StanfordNERTagger"
   ],
   "metadata": {
    "collapsed": false,
    "pycharm": {
     "name": "#%%\n"
    }
   }
  },
  {
   "cell_type": "code",
   "execution_count": 11,
   "outputs": [],
   "source": [
    "st3 = StanfordNERTagger('../classifiers/english.all.3class.distsim.crf.ser.gz', \n",
    "                       '../classifiers/stanford-ner.jar', \n",
    "                       encoding='utf-8') \n",
    "\n",
    "st4 = StanfordNERTagger('../classifiers/english.conll.4class.distsim.crf.ser.gz', \n",
    "                       '../classifiers/stanford-ner.jar', \n",
    "                       encoding='utf-8') \n",
    "\n",
    "st7 = StanfordNERTagger('../classifiers/english.muc.7class.distsim.crf.ser.gz', \n",
    "                       '../classifiers/stanford-ner.jar', \n",
    "                       encoding='utf-8') "
   ],
   "metadata": {
    "collapsed": false,
    "pycharm": {
     "name": "#%%\n"
    }
   }
  },
  {
   "cell_type": "code",
   "execution_count": 12,
   "outputs": [
    {
     "name": "stdout",
     "output_type": "stream",
     "text": [
      "[('loss', 'O'), ('crimea', 'O'), ('eastern', 'O'), ('provinces', 'O'), ('consequence', 'O'), ('violent', 'O'), ('overthow', 'O'), ('democratically', 'O'), ('elected', 'O'), ('government', 'O'), ('bombing', 'O'), ('civilians', 'O'), ('regard', 'O'), ('post', 'O'), ('coup', 'O'), ('govt', 'O'), ('illegitimate', 'O'), ('europe', 'O'), ('sufficient', 'O'), ('resources', 'O'), ('handle', 'O'), ('russia', 'LOCATION'), ('already', 'O')]\n",
      "[('looking', 'O'), ('forward', 'O'), ('russia', 'LOCATION'), ('dlc', 'O'), ('even', 'O'), ('though', 'O'), ('coming', 'O'), ('month', 'O'), ('hope', 'O'), ('soon', 'O'), ('get', 'O'), ('popular', 'O'), ('opinion', 'O'), ('peer', 'O'), ('pressure', 'O'), ('get', 'O'), ('see', 'O'), ('russia', 'LOCATION'), ('dlc', 'O'), ('resurrected', 'O'), ('war', 'O'), ('got', 'O'), ('playing', 'O'), ('computer', 'O'), ('game', 'O')]\n",
      "[('run', 'O'), ('truth', 'O'), ('like', 'O'), ('righteous', 'O'), ('coward', 'O'), ('taught', 'O'), ('joining', 'O'), ('fight', 'O'), ('since', 'O'), ('eager', 'O'), ('fight', 'O'), ('ukraine', 'O')]\n",
      "[('junta', 'O'), ('like', 'O'), ('zelenskyy', 'O'), ('talking', 'O'), ('ethiopia', 'LOCATION'), ('starvation', 'O'), ('blaming', 'O'), ('russia', 'LOCATION'), ('laughing', 'O'), ('one', 'O'), ('starvation', 'O'), ('hoa', 'O'), ('second', 'O'), ('country', 'O'), ('working', 'O'), ('day', 'O'), ('night', 'O'), ('un', 'O'), ('sanction', 'O'), ('eritrea', 'LOCATION'), ('ethiopia', 'O'), ('lunatic', 'O')]\n",
      "[('confirmed', 'O'), ('president', 'O'), ('zelensky', 'PERSON'), ('morning', 'O'), ('fully', 'O'), ('mobilized', 'O'), ('increase', 'O'), ('military', 'O'), ('support', 'O'), ('ukraine', 'LOCATION'), ('soon', 'O'), ('possible', 'O'), ('particular', 'O'), ('anti', 'O'), ('aircraft', 'O'), ('defence', 'O')]\n",
      "[('sea', 'O'), ('drone', 'O'), ('attack', 'O'), ('russian', 'LOCATION'), ('fleet', 'O'), ('puts', 'O'), ('focus', 'O'), ('expanded', 'O'), ('ukrainian', 'O'), ('arms', 'O')]\n",
      "[('bro', 'O'), ('live', 'O'), ('russia', 'LOCATION'), ('go', 'O'), ('trick', 'O'), ('treating', 'O'), ('die', 'O')]\n",
      "[('stupid', 'O'), ('country', 'O'), ('lmao', 'O')]\n",
      "[('trolls', 'O'), ('gon', 'O'), ('na', 'O'), ('troll', 'O'), ('ignore', 'O'), ('talk', 'O'), ('people', 'O'), ('living', 'O'), ('terrorism', 'O'), ('war', 'O'), ('every', 'O'), ('couple', 'O'), ('days', 'O'), ('lots', 'O'), ('us', 'O'), ('never', 'O'), ('forget', 'O'), ('struggle', 'O'), ('heroism', 'O'), ('important', 'O'), ('ukraine', 'O'), ('unified', 'O'), ('nation', 'O'), ('russian', 'LOCATION'), ('failed', 'O'), ('empire', 'O'), ('every', 'O'), ('week', 'O')]\n",
      "[('show', 'O'), ('solid', 'O'), ('evidence', 'O'), ('implicates', 'O'), ('uk', 'O'), ('saboteur', 'O'), ('presented', 'O'), ('russians', 'O'), ('russia', 'LOCATION'), ('nothing', 'O'), ('uk', 'O'), ('russia', 'LOCATION'), ('gdp', 'O'), ('half', 'O'), ('size', 'O'), ('uk', 'O'), ('even', 'O'), ('twice', 'O'), ('big', 'O'), ('population', 'O'), ('landmass', 'O'), ('spanning', 'O'), ('time', 'O'), ('zones', 'O'), ('pathetic', 'O')]\n",
      "[('strike', 'O'), ('knocking', 'O'), ('utility', 'O'), ('services', 'O'), ('anti', 'O'), ('aircraft', 'O'), ('weapony', 'O'), ('could', 'O'), ('save', 'O')]\n",
      "[('wars', 'O'), ('russia', 'LOCATION'), ('wrong', 'O'), ('invade', 'O'), ('us', 'O'), ('nato', 'O'), ('intentionally', 'O'), ('provoked', 'O'), ('russia', 'LOCATION')]\n",
      "[('russia', 'LOCATION'), ('killing', 'O'), ('nazis', 'O'), ('bad', 'O')]\n",
      "[('headed', 'O'), ('ukraine', 'O')]\n",
      "[('indeed', 'O'), ('arm', 'O'), ('friends', 'O'), ('support', 'O'), ('us', 'O'), ('outside', 'O'), ('ukraine', 'LOCATION')]\n",
      "[('russia', 'LOCATION'), ('deploys', 'O'), ('hypersonic', 'O'), ('missiles', 'O'), ('belarus', 'O'), ('message', 'O'), ('west', 'O')]\n",
      "[('russian', 'LOCATION'), ('government', 'O'), ('warned', 'O'), ('could', 'O'), ('attempt', 'O'), ('retaliate', 'O'), ('civilian', 'O'), ('satellites', 'O'), ('used', 'O'), ('aid', 'O'), ('ukrainian', 'O'), ('military', 'O')]\n",
      "[('middle', 'O'), ('east', 'O'), ('states', 'O'), ('often', 'O'), ('traditional', 'O'), ('clients', 'O'), ('russian', 'LOCATION'), ('arms', 'O'), ('sale', 'O'), ('stasa', 'O'), ('salacanin', 'O'), ('spoke', 'O'), ('experts', 'O'), ('find', 'O'), ('wake', 'O'), ('could', 'O'), ('change', 'O'), ('next', 'O'), ('years', 'O')]\n",
      "[('regions', 'O'), ('anexed', 'O'), ('russia', 'LOCATION'), ('recently', 'O'), ('towns', 'O')]\n",
      "[('still', 'O'), ('ukrainians', 'O'), ('panel', 'O'), ('deny', 'O'), ('agency', 'O'), ('country', 'O'), ('invaded', 'O'), ('citizens', 'O'), ('murdered', 'O'), ('nato', 'O'), ('doesnt', 'O'), ('expand', 'O'), ('countries', 'O'), ('queue', 'O'), ('join', 'O'), ('imperialist', 'O'), ('russia', 'LOCATION'), ('real', 'O'), ('path', 'O'), ('peace', 'O'), ('remove', 'O'), ('genocidal', 'O'), ('army', 'O')]\n",
      "[('russian', 'LOCATION'), ('state', 'O'), ('tv', 'O'), ('discovers', 'O'), ('halloween', 'O'), ('celebrated', 'O'), ('ukraine', 'O')]\n",
      "[('much', 'O'), ('laundered', 'O'), ('ukraine', 'LOCATION'), ('last', 'O'), ('months', 'O'), ('tbat', 'O'), ('previously', 'O'), ('owed', 'O'), ('debt', 'O')]\n",
      "[('plz', 'O'), ('go', 'O'), ('stand', 'O'), ('ukraine', 'O'), ('perhaps', 'O'), ('front', 'O'), ('russian', 'LOCATION'), ('tank', 'O')]\n",
      "[('lovely', 'O'), ('catch', 'O'), ('mighty', 'O'), ('russia', 'LOCATION')]\n",
      "[('regardless', 'O'), ('anyone', 'O'), ('thinks', 'O'), ('fault', 'O'), ('ukraine', 'O'), ('innocent', 'O'), ('sovereign', 'O'), ('nation', 'O'), ('putin', 'PERSON'), ('pissed', 'O'), ('nato', 'O'), ('shouldnt', 'O'), ('attacked', 'O'), ('instead', 'O')]\n",
      "[('ah', 'O'), ('starting', 'O'), ('come', 'O'), ('pandemic', 'O'), ('demand', 'O'), ('starting', 'O'), ('go', 'O'), ('back', 'O'), ('shame', 'O'), ('someone', 'O'), ('encouraged', 'O'), ('opec', 'O'), ('slow', 'O'), ('production', 'O')]\n",
      "[('dont', 'O'), ('know', 'O'), ('anything', 'O'), ('feel', 'O'), ('ukraine', 'O'), ('youre', 'O'), ('comparing', 'O'), ('apples', 'O'), ('oranges', 'O'), ('statement', 'O'), ('means', 'O'), ('im', 'O'), ('correct', 'O'), ('cant', 'O'), ('defend', 'O'), ('im', 'O'), ('saying', 'O')]\n",
      "[('actually', 'O'), ('believe', 'O'), ('government', 'O'), ('institution', 'O'), ('trusted', 'O'), ('bidens', 'O'), ('laptop', 'O'), ('bidens', 'O'), ('selling', 'O'), ('us', 'O'), ('bidens', 'O'), ('interests', 'O'), ('ukraine', 'O'), ('afghanistan', 'O'), ('pullout', 'O'), ('border', 'O'), ('come', 'O'), ('wake', 'O'), ('hard', 'O'), ('see', 'O'), ('corruption', 'O')]\n",
      "[('uk', 'O'), ('said', 'O'), ('refusing', 'O'), ('drawn', 'O'), ('russia', 'LOCATION'), ('attempt', 'O'), ('cause', 'O'), ('distractions', 'O'), ('claiming', 'O'), ('uk', 'O'), ('played', 'O'), ('part', 'O'), ('damage', 'O'), ('nord', 'O'), ('stream', 'O'), ('pipeline', 'O')]\n",
      "[('either', 'O'), ('laundering', 'O'), ('money', 'O'), ('ukraine', 'O'), ('really', 'O'), ('stupid', 'O')]\n",
      "[('join', 'O'), ('invited', 'O'), ('session', 'O'), ('impact', 'O'), ('war', 'O'), ('ukraine', 'LOCATION'), ('friday', 'O'), ('november', 'O'), ('lima', 'O'), ('register', 'O')]\n",
      "[('gave', 'O'), ('security', 'O'), ('arrangements', 'O'), ('russian', 'LOCATION'), ('attack', 'O'), ('would', 'O'), ('avoidable', 'O'), ('sounds', 'O'), ('like', 'O'), ('justification', 'O'), ('fact', 'O'), ('poland', 'LOCATION'), ('part', 'O'), ('important', 'O'), ('factor', 'O'), ('security', 'O'), ('ukraine', 'LOCATION'), ('wants', 'O')]\n",
      "[('wait', 'O'), ('russia', 'LOCATION'), ('attacks', 'O'), ('giving', 'O'), ('us', 'O'), ('reason', 'O'), ('join', 'O'), ('officially', 'O')]\n",
      "[('idk', 'O'), ('man', 'O'), ('ask', 'O'), ('thousands', 'O'), ('fleeing', 'O'), ('ukraine', 'LOCATION'), ('russia', 'LOCATION'), ('countries', 'O'), ('choose', 'O'), ('russia', 'LOCATION'), ('flee', 'O')]\n",
      "[('sorry', 'O'), ('talking', 'O'), ('canada', 'O'), ('ukraine', 'O')]\n",
      "[('wondering', 'O'), ('putins', 'O'), ('strategy', 'O'), ('point', 'O'), ('bankrupt', 'O'), ('us', 'O'), ('funds', 'O'), ('requests', 'O'), ('coming', 'O'), ('ukraine', 'O')]\n",
      "[('new', 'O'), ('report', 'O'), ('estimates', 'O'), ('million', 'O'), ('ukrainians', 'O'), ('lost', 'O'), ('jobs', 'O'), ('eight', 'O'), ('months', 'O'), ('since', 'O'), ('russias', 'O'), ('full', 'O'), ('scale', 'O'), ('invasion', 'O'), ('began', 'O'), ('putting', 'O'), ('unprecedented', 'O'), ('pressure', 'O'), ('countrys', 'O'), ('social', 'O'), ('welfare', 'O'), ('system', 'O')]\n",
      "[('youre', 'O'), ('wrong', 'O'), ('united', 'O'), ('states', 'O'), ('interfered', 'O'), ('ukraine', 'O'), ('obama', 'O'), ('caused', 'O'), ('conflict', 'O')]\n",
      "[('hmm', 'O'), ('russia', 'LOCATION'), ('took', 'O'), ('ukrainian', 'O'), ('energy', 'O'), ('according', 'O'), ('zelensky', 'O'), ('sounds', 'O'), ('like', 'O'), ('winnable', 'O'), ('result', 'O')]\n",
      "[('islamic', 'O'), ('republic', 'O'), ('recruiting', 'O'), ('afghan', 'O'), ('soldiers', 'O'), ('fight', 'O'), ('without', 'O'), ('iranian', 'O'), ('government', 'O'), ('world', 'O'), ('better', 'O'), ('place', 'O'), ('west', 'O'), ('realize', 'O'), ('fact', 'O')]\n",
      "[('zelenskiy', 'O'), ('say', 'O'), ('agreed', 'O'), ('thanked', 'O'), ('macron', 'O'), ('support', 'O'), ('since', 'O'), ('russia', 'LOCATION'), ('invaded', 'O'), ('ukraine', 'LOCATION')]\n",
      "[('european', 'O'), ('union', 'O'), ('monday', 'O'), ('condemned', 'O'), ('russia', 'LOCATION'), ('suspension', 'O'), ('black', 'O'), ('sea', 'O'), ('grain', 'O'), ('deal', 'O'), ('urged', 'O'), ('reverse', 'O'), ('decision', 'O')]\n",
      "[('agree', 'O'), ('argument', 'O'), ('russia', 'LOCATION'), ('country', 'O'), ('blame', 'O'), ('take', 'O'), ('back', 'O'), ('question', 'O'), ('lead', 'O'), ('long', 'O'), ('debate', 'O'), ('putin', 'PERSON'), ('aggrevate', 'O'), ('situation', 'O'), ('agreement', 'O'), ('partly', 'O'), ('blame', 'O')]\n",
      "[('lets', 'O'), ('talk', 'O'), ('news', 'O'), ('live', 'O'), ('via', 'O')]\n",
      "[('dems', 'O'), ('literally', 'O'), ('deny', 'O'), ('elections', 'O'), ('lose', 'O'), ('promote', 'O'), ('conspiracies', 'O'), ('damage', 'O'), ('country', 'O'), ('russia', 'LOCATION'), ('gate', 'O'), ('put', 'O'), ('morons', 'O'), ('charge', 'O'), ('several', 'O'), ('committees', 'O'), ('without', 'O'), ('even', 'O'), ('basic', 'O'), ('competence', 'O'), ('subject', 'O'), ('matter', 'O'), ('argument', 'O'), ('definitely', 'O'), ('elect', 'O'), ('democrats', 'O')]\n",
      "[('putin', 'PERSON'), ('war', 'O'), ('home', 'O'), ('reveals', 'O'), ('inside', 'O'), ('stories', 'O'), ('activists', 'O'), ('journalists', 'O'), ('risking', 'O'), ('arrest', 'O'), ('imprisonment', 'O'), ('speak', 'O'), ('russia', 'LOCATION'), ('invasion', 'O'), ('ukraine', 'LOCATION'), ('tune', 'O'), ('tonight', 'O'), ('pm', 'O')]\n",
      "[('russia', 'LOCATION'), ('media', 'O'), ('read', 'O')]\n",
      "[('alex', 'O'), ('unit', 'O'), ('surrendered', 'O'), ('driven', 'O'), ('military', 'O'), ('base', 'O'), ('belarus', 'O'), ('could', 'O'), ('hear', 'O'), ('cries', 'O'), ('prisoners', 'O'), ('beaten', 'O'), ('reports', 'O'), ('magazine', 'O')]\n",
      "[('mind', 'O'), ('russia', 'LOCATION'), ('borders', 'O'), ('ukraine', 'LOCATION'), ('europe', 'O'), ('im', 'O'), ('muslim', 'O'), ('im', 'O'), ('indian', 'O'), ('hindu', 'O'), ('youre', 'O'), ('idi', 'O')]\n",
      "[('russia', 'LOCATION'), ('killing', 'O'), ('people', 'O'), ('killing', 'O'), ('people', 'O'), ('asians', 'O'), ('killing', 'O'), ('people', 'O'), ('heard', 'O'), ('jewish', 'O'), ('people', 'O'), ('killing', 'O'), ('race', 'O'), ('issue', 'O'), ('culture', 'O'), ('issue', 'O'), ('rip', 'O'), ('takeoff', 'O')]\n",
      "Execution time: 40.471004247665405 seconds\n"
     ]
    }
   ],
   "source": [
    "# ST3\n",
    "st = time.time()\n",
    "for tweet in cleaned_tweets['data']:\n",
    "    tagged = st3.tag(tweet['text'].split())\n",
    "    print(tagged)\n",
    "    \n",
    "et = time.time()\n",
    "elapsed_time = et - st\n",
    "print('Execution time:', elapsed_time, 'seconds')"
   ],
   "metadata": {
    "collapsed": false,
    "pycharm": {
     "name": "#%%\n"
    }
   }
  },
  {
   "cell_type": "code",
   "execution_count": 13,
   "outputs": [
    {
     "name": "stdout",
     "output_type": "stream",
     "text": [
      "[('loss', 'O'), ('crimea', 'O'), ('eastern', 'O'), ('provinces', 'O'), ('consequence', 'O'), ('violent', 'O'), ('overthow', 'O'), ('democratically', 'O'), ('elected', 'O'), ('government', 'O'), ('bombing', 'O'), ('civilians', 'O'), ('regard', 'O'), ('post', 'O'), ('coup', 'O'), ('govt', 'O'), ('illegitimate', 'O'), ('europe', 'O'), ('sufficient', 'O'), ('resources', 'O'), ('handle', 'O'), ('russia', 'LOCATION'), ('already', 'O')]\n",
      "[('looking', 'O'), ('forward', 'O'), ('russia', 'LOCATION'), ('dlc', 'O'), ('even', 'O'), ('though', 'O'), ('coming', 'O'), ('month', 'O'), ('hope', 'O'), ('soon', 'O'), ('get', 'O'), ('popular', 'O'), ('opinion', 'O'), ('peer', 'O'), ('pressure', 'O'), ('get', 'O'), ('see', 'O'), ('russia', 'LOCATION'), ('dlc', 'O'), ('resurrected', 'O'), ('war', 'O'), ('got', 'O'), ('playing', 'O'), ('computer', 'O'), ('game', 'O')]\n",
      "[('run', 'O'), ('truth', 'O'), ('like', 'O'), ('righteous', 'O'), ('coward', 'O'), ('taught', 'O'), ('joining', 'O'), ('fight', 'O'), ('since', 'O'), ('eager', 'O'), ('fight', 'O'), ('ukraine', 'O')]\n",
      "[('junta', 'O'), ('like', 'O'), ('zelenskyy', 'O'), ('talking', 'O'), ('ethiopia', 'LOCATION'), ('starvation', 'O'), ('blaming', 'O'), ('russia', 'LOCATION'), ('laughing', 'O'), ('one', 'O'), ('starvation', 'O'), ('hoa', 'O'), ('second', 'O'), ('country', 'O'), ('working', 'O'), ('day', 'O'), ('night', 'O'), ('un', 'O'), ('sanction', 'O'), ('eritrea', 'LOCATION'), ('ethiopia', 'LOCATION'), ('lunatic', 'O')]\n",
      "[('confirmed', 'O'), ('president', 'O'), ('zelensky', 'O'), ('morning', 'O'), ('fully', 'O'), ('mobilized', 'O'), ('increase', 'O'), ('military', 'O'), ('support', 'O'), ('ukraine', 'LOCATION'), ('soon', 'O'), ('possible', 'O'), ('particular', 'O'), ('anti', 'O'), ('aircraft', 'O'), ('defence', 'O')]\n",
      "[('sea', 'O'), ('drone', 'O'), ('attack', 'O'), ('russian', 'MISC'), ('fleet', 'O'), ('puts', 'O'), ('focus', 'O'), ('expanded', 'O'), ('ukrainian', 'O'), ('arms', 'O')]\n",
      "[('bro', 'O'), ('live', 'O'), ('russia', 'LOCATION'), ('go', 'O'), ('trick', 'O'), ('treating', 'O'), ('die', 'O')]\n",
      "[('stupid', 'O'), ('country', 'O'), ('lmao', 'O')]\n",
      "[('trolls', 'O'), ('gon', 'O'), ('na', 'O'), ('troll', 'O'), ('ignore', 'O'), ('talk', 'O'), ('people', 'O'), ('living', 'O'), ('terrorism', 'O'), ('war', 'O'), ('every', 'O'), ('couple', 'O'), ('days', 'O'), ('lots', 'O'), ('us', 'O'), ('never', 'O'), ('forget', 'O'), ('struggle', 'O'), ('heroism', 'O'), ('important', 'O'), ('ukraine', 'LOCATION'), ('unified', 'O'), ('nation', 'O'), ('russian', 'MISC'), ('failed', 'O'), ('empire', 'O'), ('every', 'O'), ('week', 'O')]\n",
      "[('show', 'O'), ('solid', 'O'), ('evidence', 'O'), ('implicates', 'O'), ('uk', 'O'), ('saboteur', 'O'), ('presented', 'O'), ('russians', 'O'), ('russia', 'LOCATION'), ('nothing', 'O'), ('uk', 'O'), ('russia', 'LOCATION'), ('gdp', 'O'), ('half', 'O'), ('size', 'O'), ('uk', 'O'), ('even', 'O'), ('twice', 'O'), ('big', 'O'), ('population', 'O'), ('landmass', 'O'), ('spanning', 'O'), ('time', 'O'), ('zones', 'O'), ('pathetic', 'O')]\n",
      "[('strike', 'O'), ('knocking', 'O'), ('utility', 'O'), ('services', 'O'), ('anti', 'O'), ('aircraft', 'O'), ('weapony', 'O'), ('could', 'O'), ('save', 'O')]\n",
      "[('wars', 'O'), ('russia', 'LOCATION'), ('wrong', 'O'), ('invade', 'O'), ('us', 'O'), ('nato', 'O'), ('intentionally', 'O'), ('provoked', 'O'), ('russia', 'O')]\n",
      "[('russia', 'LOCATION'), ('killing', 'O'), ('nazis', 'O'), ('bad', 'O')]\n",
      "[('headed', 'O'), ('ukraine', 'O')]\n",
      "[('indeed', 'O'), ('arm', 'O'), ('friends', 'O'), ('support', 'O'), ('us', 'O'), ('outside', 'O'), ('ukraine', 'O')]\n",
      "[('russia', 'LOCATION'), ('deploys', 'O'), ('hypersonic', 'O'), ('missiles', 'O'), ('belarus', 'O'), ('message', 'O'), ('west', 'O')]\n",
      "[('russian', 'MISC'), ('government', 'O'), ('warned', 'O'), ('could', 'O'), ('attempt', 'O'), ('retaliate', 'O'), ('civilian', 'O'), ('satellites', 'O'), ('used', 'O'), ('aid', 'O'), ('ukrainian', 'MISC'), ('military', 'O')]\n",
      "[('middle', 'O'), ('east', 'O'), ('states', 'O'), ('often', 'O'), ('traditional', 'O'), ('clients', 'O'), ('russian', 'MISC'), ('arms', 'O'), ('sale', 'O'), ('stasa', 'O'), ('salacanin', 'O'), ('spoke', 'O'), ('experts', 'O'), ('find', 'O'), ('wake', 'O'), ('could', 'O'), ('change', 'O'), ('next', 'O'), ('years', 'O')]\n",
      "[('regions', 'O'), ('anexed', 'O'), ('russia', 'LOCATION'), ('recently', 'O'), ('towns', 'O')]\n",
      "[('still', 'O'), ('ukrainians', 'O'), ('panel', 'O'), ('deny', 'O'), ('agency', 'O'), ('country', 'O'), ('invaded', 'O'), ('citizens', 'O'), ('murdered', 'O'), ('nato', 'O'), ('doesnt', 'O'), ('expand', 'O'), ('countries', 'O'), ('queue', 'O'), ('join', 'O'), ('imperialist', 'O'), ('russia', 'LOCATION'), ('real', 'O'), ('path', 'O'), ('peace', 'O'), ('remove', 'O'), ('genocidal', 'O'), ('army', 'O')]\n",
      "[('russian', 'MISC'), ('state', 'O'), ('tv', 'O'), ('discovers', 'O'), ('halloween', 'O'), ('celebrated', 'O'), ('ukraine', 'O')]\n",
      "[('much', 'O'), ('laundered', 'O'), ('ukraine', 'LOCATION'), ('last', 'O'), ('months', 'O'), ('tbat', 'O'), ('previously', 'O'), ('owed', 'O'), ('debt', 'O')]\n",
      "[('plz', 'O'), ('go', 'O'), ('stand', 'O'), ('ukraine', 'O'), ('perhaps', 'O'), ('front', 'O'), ('russian', 'MISC'), ('tank', 'O')]\n",
      "[('lovely', 'O'), ('catch', 'O'), ('mighty', 'O'), ('russia', 'LOCATION')]\n",
      "[('regardless', 'O'), ('anyone', 'O'), ('thinks', 'O'), ('fault', 'O'), ('ukraine', 'O'), ('innocent', 'O'), ('sovereign', 'O'), ('nation', 'O'), ('putin', 'O'), ('pissed', 'O'), ('nato', 'O'), ('shouldnt', 'O'), ('attacked', 'O'), ('instead', 'O')]\n",
      "[('ah', 'O'), ('starting', 'O'), ('come', 'O'), ('pandemic', 'O'), ('demand', 'O'), ('starting', 'O'), ('go', 'O'), ('back', 'O'), ('shame', 'O'), ('someone', 'O'), ('encouraged', 'O'), ('opec', 'O'), ('slow', 'O'), ('production', 'O')]\n",
      "[('dont', 'O'), ('know', 'O'), ('anything', 'O'), ('feel', 'O'), ('ukraine', 'O'), ('youre', 'O'), ('comparing', 'O'), ('apples', 'O'), ('oranges', 'O'), ('statement', 'O'), ('means', 'O'), ('im', 'O'), ('correct', 'O'), ('cant', 'O'), ('defend', 'O'), ('im', 'O'), ('saying', 'O')]\n",
      "[('actually', 'O'), ('believe', 'O'), ('government', 'O'), ('institution', 'O'), ('trusted', 'O'), ('bidens', 'O'), ('laptop', 'O'), ('bidens', 'O'), ('selling', 'O'), ('us', 'O'), ('bidens', 'O'), ('interests', 'O'), ('ukraine', 'LOCATION'), ('afghanistan', 'O'), ('pullout', 'O'), ('border', 'O'), ('come', 'O'), ('wake', 'O'), ('hard', 'O'), ('see', 'O'), ('corruption', 'O')]\n",
      "[('uk', 'O'), ('said', 'O'), ('refusing', 'O'), ('drawn', 'O'), ('russia', 'LOCATION'), ('attempt', 'O'), ('cause', 'O'), ('distractions', 'O'), ('claiming', 'O'), ('uk', 'O'), ('played', 'O'), ('part', 'O'), ('damage', 'O'), ('nord', 'O'), ('stream', 'O'), ('pipeline', 'O')]\n",
      "[('either', 'O'), ('laundering', 'O'), ('money', 'O'), ('ukraine', 'LOCATION'), ('really', 'O'), ('stupid', 'O')]\n",
      "[('join', 'O'), ('invited', 'O'), ('session', 'O'), ('impact', 'O'), ('war', 'O'), ('ukraine', 'O'), ('friday', 'O'), ('november', 'O'), ('lima', 'O'), ('register', 'O')]\n",
      "[('gave', 'O'), ('security', 'O'), ('arrangements', 'O'), ('russian', 'O'), ('attack', 'O'), ('would', 'O'), ('avoidable', 'O'), ('sounds', 'O'), ('like', 'O'), ('justification', 'O'), ('fact', 'O'), ('poland', 'LOCATION'), ('part', 'O'), ('important', 'O'), ('factor', 'O'), ('security', 'O'), ('ukraine', 'LOCATION'), ('wants', 'O')]\n",
      "[('wait', 'O'), ('russia', 'LOCATION'), ('attacks', 'O'), ('giving', 'O'), ('us', 'O'), ('reason', 'O'), ('join', 'O'), ('officially', 'O')]\n",
      "[('idk', 'O'), ('man', 'O'), ('ask', 'O'), ('thousands', 'O'), ('fleeing', 'O'), ('ukraine', 'O'), ('russia', 'LOCATION'), ('countries', 'O'), ('choose', 'O'), ('russia', 'LOCATION'), ('flee', 'O')]\n",
      "[('sorry', 'O'), ('talking', 'O'), ('canada', 'LOCATION'), ('ukraine', 'O')]\n",
      "[('wondering', 'O'), ('putins', 'O'), ('strategy', 'O'), ('point', 'O'), ('bankrupt', 'O'), ('us', 'O'), ('funds', 'O'), ('requests', 'O'), ('coming', 'O'), ('ukraine', 'O')]\n",
      "[('new', 'O'), ('report', 'O'), ('estimates', 'O'), ('million', 'O'), ('ukrainians', 'MISC'), ('lost', 'O'), ('jobs', 'O'), ('eight', 'O'), ('months', 'O'), ('since', 'O'), ('russias', 'O'), ('full', 'O'), ('scale', 'O'), ('invasion', 'O'), ('began', 'O'), ('putting', 'O'), ('unprecedented', 'O'), ('pressure', 'O'), ('countrys', 'O'), ('social', 'O'), ('welfare', 'O'), ('system', 'O')]\n",
      "[('youre', 'O'), ('wrong', 'O'), ('united', 'O'), ('states', 'O'), ('interfered', 'O'), ('ukraine', 'LOCATION'), ('obama', 'O'), ('caused', 'O'), ('conflict', 'O')]\n",
      "[('hmm', 'O'), ('russia', 'LOCATION'), ('took', 'O'), ('ukrainian', 'MISC'), ('energy', 'O'), ('according', 'O'), ('zelensky', 'O'), ('sounds', 'O'), ('like', 'O'), ('winnable', 'O'), ('result', 'O')]\n",
      "[('islamic', 'O'), ('republic', 'O'), ('recruiting', 'O'), ('afghan', 'O'), ('soldiers', 'O'), ('fight', 'O'), ('without', 'O'), ('iranian', 'MISC'), ('government', 'O'), ('world', 'O'), ('better', 'O'), ('place', 'O'), ('west', 'O'), ('realize', 'O'), ('fact', 'O')]\n",
      "[('zelenskiy', 'O'), ('say', 'O'), ('agreed', 'O'), ('thanked', 'O'), ('macron', 'O'), ('support', 'O'), ('since', 'O'), ('russia', 'LOCATION'), ('invaded', 'O'), ('ukraine', 'O')]\n",
      "[('european', 'O'), ('union', 'O'), ('monday', 'O'), ('condemned', 'O'), ('russia', 'LOCATION'), ('suspension', 'O'), ('black', 'O'), ('sea', 'O'), ('grain', 'O'), ('deal', 'O'), ('urged', 'O'), ('reverse', 'O'), ('decision', 'O')]\n",
      "[('agree', 'O'), ('argument', 'O'), ('russia', 'LOCATION'), ('country', 'O'), ('blame', 'O'), ('take', 'O'), ('back', 'O'), ('question', 'O'), ('lead', 'O'), ('long', 'O'), ('debate', 'O'), ('putin', 'O'), ('aggrevate', 'O'), ('situation', 'O'), ('agreement', 'O'), ('partly', 'O'), ('blame', 'O')]\n",
      "[('lets', 'O'), ('talk', 'O'), ('news', 'O'), ('live', 'O'), ('via', 'O')]\n",
      "[('dems', 'O'), ('literally', 'O'), ('deny', 'O'), ('elections', 'O'), ('lose', 'O'), ('promote', 'O'), ('conspiracies', 'O'), ('damage', 'O'), ('country', 'O'), ('russia', 'LOCATION'), ('gate', 'O'), ('put', 'O'), ('morons', 'O'), ('charge', 'O'), ('several', 'O'), ('committees', 'O'), ('without', 'O'), ('even', 'O'), ('basic', 'O'), ('competence', 'O'), ('subject', 'O'), ('matter', 'O'), ('argument', 'O'), ('definitely', 'O'), ('elect', 'O'), ('democrats', 'O')]\n",
      "[('putin', 'O'), ('war', 'O'), ('home', 'O'), ('reveals', 'O'), ('inside', 'O'), ('stories', 'O'), ('activists', 'O'), ('journalists', 'O'), ('risking', 'O'), ('arrest', 'O'), ('imprisonment', 'O'), ('speak', 'O'), ('russia', 'LOCATION'), ('invasion', 'O'), ('ukraine', 'O'), ('tune', 'O'), ('tonight', 'O'), ('pm', 'O')]\n",
      "[('russia', 'LOCATION'), ('media', 'O'), ('read', 'O')]\n",
      "[('alex', 'O'), ('unit', 'O'), ('surrendered', 'O'), ('driven', 'O'), ('military', 'O'), ('base', 'O'), ('belarus', 'O'), ('could', 'O'), ('hear', 'O'), ('cries', 'O'), ('prisoners', 'O'), ('beaten', 'O'), ('reports', 'O'), ('magazine', 'O')]\n",
      "[('mind', 'O'), ('russia', 'LOCATION'), ('borders', 'O'), ('ukraine', 'LOCATION'), ('europe', 'O'), ('im', 'O'), ('muslim', 'O'), ('im', 'O'), ('indian', 'MISC'), ('hindu', 'O'), ('youre', 'O'), ('idi', 'O')]\n",
      "[('russia', 'LOCATION'), ('killing', 'O'), ('people', 'O'), ('killing', 'O'), ('people', 'O'), ('asians', 'O'), ('killing', 'O'), ('people', 'O'), ('heard', 'O'), ('jewish', 'O'), ('people', 'O'), ('killing', 'O'), ('race', 'O'), ('issue', 'O'), ('culture', 'O'), ('issue', 'O'), ('rip', 'O'), ('takeoff', 'O')]\n",
      "Execution time: 34.20359396934509 seconds\n"
     ]
    }
   ],
   "source": [
    "# ST4\n",
    "st = time.time()\n",
    "for tweet in cleaned_tweets['data']:\n",
    "    tagged = st4.tag(tweet['text'].split())\n",
    "    print(tagged)\n",
    "    \n",
    "et = time.time()\n",
    "elapsed_time = et - st\n",
    "print('Execution time:', elapsed_time, 'seconds')"
   ],
   "metadata": {
    "collapsed": false,
    "pycharm": {
     "name": "#%%\n"
    }
   }
  },
  {
   "cell_type": "code",
   "execution_count": 14,
   "outputs": [
    {
     "name": "stdout",
     "output_type": "stream",
     "text": [
      "[('loss', 'O'), ('crimea', 'O'), ('eastern', 'O'), ('provinces', 'O'), ('consequence', 'O'), ('violent', 'O'), ('overthow', 'O'), ('democratically', 'O'), ('elected', 'O'), ('government', 'O'), ('bombing', 'O'), ('civilians', 'O'), ('regard', 'O'), ('post', 'O'), ('coup', 'O'), ('govt', 'O'), ('illegitimate', 'O'), ('europe', 'O'), ('sufficient', 'O'), ('resources', 'O'), ('handle', 'O'), ('russia', 'LOCATION'), ('already', 'O')]\n",
      "[('looking', 'O'), ('forward', 'O'), ('russia', 'LOCATION'), ('dlc', 'O'), ('even', 'O'), ('though', 'O'), ('coming', 'O'), ('month', 'O'), ('hope', 'O'), ('soon', 'O'), ('get', 'O'), ('popular', 'O'), ('opinion', 'O'), ('peer', 'O'), ('pressure', 'O'), ('get', 'O'), ('see', 'O'), ('russia', 'LOCATION'), ('dlc', 'O'), ('resurrected', 'O'), ('war', 'O'), ('got', 'O'), ('playing', 'O'), ('computer', 'O'), ('game', 'O')]\n",
      "[('run', 'O'), ('truth', 'O'), ('like', 'O'), ('righteous', 'O'), ('coward', 'O'), ('taught', 'O'), ('joining', 'O'), ('fight', 'O'), ('since', 'O'), ('eager', 'O'), ('fight', 'O'), ('ukraine', 'LOCATION')]\n",
      "[('junta', 'O'), ('like', 'O'), ('zelenskyy', 'O'), ('talking', 'O'), ('ethiopia', 'LOCATION'), ('starvation', 'O'), ('blaming', 'O'), ('russia', 'LOCATION'), ('laughing', 'O'), ('one', 'O'), ('starvation', 'O'), ('hoa', 'O'), ('second', 'O'), ('country', 'O'), ('working', 'TIME'), ('day', 'TIME'), ('night', 'TIME'), ('un', 'O'), ('sanction', 'O'), ('eritrea', 'LOCATION'), ('ethiopia', 'LOCATION'), ('lunatic', 'O')]\n",
      "[('confirmed', 'O'), ('president', 'O'), ('zelensky', 'O'), ('morning', 'O'), ('fully', 'O'), ('mobilized', 'O'), ('increase', 'O'), ('military', 'O'), ('support', 'O'), ('ukraine', 'O'), ('soon', 'O'), ('possible', 'O'), ('particular', 'O'), ('anti', 'O'), ('aircraft', 'O'), ('defence', 'O')]\n",
      "[('sea', 'O'), ('drone', 'O'), ('attack', 'O'), ('russian', 'O'), ('fleet', 'O'), ('puts', 'O'), ('focus', 'O'), ('expanded', 'O'), ('ukrainian', 'O'), ('arms', 'O')]\n",
      "[('bro', 'O'), ('live', 'O'), ('russia', 'LOCATION'), ('go', 'O'), ('trick', 'O'), ('treating', 'O'), ('die', 'O')]\n",
      "[('stupid', 'O'), ('country', 'O'), ('lmao', 'O')]\n",
      "[('trolls', 'O'), ('gon', 'O'), ('na', 'O'), ('troll', 'O'), ('ignore', 'O'), ('talk', 'O'), ('people', 'O'), ('living', 'O'), ('terrorism', 'O'), ('war', 'O'), ('every', 'O'), ('couple', 'O'), ('days', 'O'), ('lots', 'O'), ('us', 'O'), ('never', 'O'), ('forget', 'O'), ('struggle', 'O'), ('heroism', 'O'), ('important', 'O'), ('ukraine', 'O'), ('unified', 'O'), ('nation', 'O'), ('russian', 'O'), ('failed', 'O'), ('empire', 'O'), ('every', 'O'), ('week', 'O')]\n",
      "[('show', 'O'), ('solid', 'O'), ('evidence', 'O'), ('implicates', 'O'), ('uk', 'O'), ('saboteur', 'O'), ('presented', 'O'), ('russians', 'O'), ('russia', 'LOCATION'), ('nothing', 'O'), ('uk', 'O'), ('russia', 'LOCATION'), ('gdp', 'O'), ('half', 'O'), ('size', 'O'), ('uk', 'O'), ('even', 'O'), ('twice', 'O'), ('big', 'O'), ('population', 'O'), ('landmass', 'O'), ('spanning', 'O'), ('time', 'O'), ('zones', 'O'), ('pathetic', 'O')]\n",
      "[('strike', 'O'), ('knocking', 'O'), ('utility', 'O'), ('services', 'O'), ('anti', 'O'), ('aircraft', 'O'), ('weapony', 'O'), ('could', 'O'), ('save', 'O')]\n",
      "[('wars', 'O'), ('russia', 'LOCATION'), ('wrong', 'O'), ('invade', 'O'), ('us', 'O'), ('nato', 'O'), ('intentionally', 'O'), ('provoked', 'O'), ('russia', 'LOCATION')]\n",
      "[('russia', 'O'), ('killing', 'O'), ('nazis', 'O'), ('bad', 'O')]\n",
      "[('headed', 'O'), ('ukraine', 'LOCATION')]\n",
      "[('indeed', 'O'), ('arm', 'O'), ('friends', 'O'), ('support', 'O'), ('us', 'O'), ('outside', 'O'), ('ukraine', 'LOCATION')]\n",
      "[('russia', 'O'), ('deploys', 'O'), ('hypersonic', 'O'), ('missiles', 'O'), ('belarus', 'O'), ('message', 'O'), ('west', 'O')]\n",
      "[('russian', 'O'), ('government', 'O'), ('warned', 'O'), ('could', 'O'), ('attempt', 'O'), ('retaliate', 'O'), ('civilian', 'O'), ('satellites', 'O'), ('used', 'O'), ('aid', 'O'), ('ukrainian', 'O'), ('military', 'O')]\n",
      "[('middle', 'O'), ('east', 'O'), ('states', 'O'), ('often', 'O'), ('traditional', 'O'), ('clients', 'O'), ('russian', 'O'), ('arms', 'O'), ('sale', 'O'), ('stasa', 'O'), ('salacanin', 'O'), ('spoke', 'O'), ('experts', 'O'), ('find', 'O'), ('wake', 'O'), ('could', 'O'), ('change', 'O'), ('next', 'O'), ('years', 'O')]\n",
      "[('regions', 'O'), ('anexed', 'O'), ('russia', 'O'), ('recently', 'O'), ('towns', 'O')]\n",
      "[('still', 'O'), ('ukrainians', 'O'), ('panel', 'O'), ('deny', 'O'), ('agency', 'O'), ('country', 'O'), ('invaded', 'O'), ('citizens', 'O'), ('murdered', 'O'), ('nato', 'O'), ('doesnt', 'O'), ('expand', 'O'), ('countries', 'O'), ('queue', 'O'), ('join', 'O'), ('imperialist', 'O'), ('russia', 'LOCATION'), ('real', 'O'), ('path', 'O'), ('peace', 'O'), ('remove', 'O'), ('genocidal', 'O'), ('army', 'O')]\n",
      "[('russian', 'O'), ('state', 'O'), ('tv', 'O'), ('discovers', 'O'), ('halloween', 'O'), ('celebrated', 'O'), ('ukraine', 'LOCATION')]\n",
      "[('much', 'O'), ('laundered', 'O'), ('ukraine', 'O'), ('last', 'O'), ('months', 'O'), ('tbat', 'O'), ('previously', 'O'), ('owed', 'O'), ('debt', 'O')]\n",
      "[('plz', 'O'), ('go', 'O'), ('stand', 'O'), ('ukraine', 'O'), ('perhaps', 'O'), ('front', 'O'), ('russian', 'O'), ('tank', 'O')]\n",
      "[('lovely', 'O'), ('catch', 'O'), ('mighty', 'O'), ('russia', 'LOCATION')]\n",
      "[('regardless', 'O'), ('anyone', 'O'), ('thinks', 'O'), ('fault', 'O'), ('ukraine', 'O'), ('innocent', 'O'), ('sovereign', 'O'), ('nation', 'O'), ('putin', 'O'), ('pissed', 'O'), ('nato', 'O'), ('shouldnt', 'O'), ('attacked', 'O'), ('instead', 'O')]\n",
      "[('ah', 'O'), ('starting', 'O'), ('come', 'O'), ('pandemic', 'O'), ('demand', 'O'), ('starting', 'O'), ('go', 'O'), ('back', 'O'), ('shame', 'O'), ('someone', 'O'), ('encouraged', 'O'), ('opec', 'O'), ('slow', 'O'), ('production', 'O')]\n",
      "[('dont', 'O'), ('know', 'O'), ('anything', 'O'), ('feel', 'O'), ('ukraine', 'LOCATION'), ('youre', 'O'), ('comparing', 'O'), ('apples', 'O'), ('oranges', 'O'), ('statement', 'O'), ('means', 'O'), ('im', 'O'), ('correct', 'O'), ('cant', 'O'), ('defend', 'O'), ('im', 'O'), ('saying', 'O')]\n",
      "[('actually', 'O'), ('believe', 'O'), ('government', 'O'), ('institution', 'O'), ('trusted', 'O'), ('bidens', 'O'), ('laptop', 'O'), ('bidens', 'O'), ('selling', 'O'), ('us', 'O'), ('bidens', 'O'), ('interests', 'O'), ('ukraine', 'LOCATION'), ('afghanistan', 'O'), ('pullout', 'O'), ('border', 'O'), ('come', 'O'), ('wake', 'O'), ('hard', 'O'), ('see', 'O'), ('corruption', 'O')]\n",
      "[('uk', 'O'), ('said', 'O'), ('refusing', 'O'), ('drawn', 'O'), ('russia', 'LOCATION'), ('attempt', 'O'), ('cause', 'O'), ('distractions', 'O'), ('claiming', 'O'), ('uk', 'O'), ('played', 'O'), ('part', 'O'), ('damage', 'O'), ('nord', 'O'), ('stream', 'O'), ('pipeline', 'O')]\n",
      "[('either', 'O'), ('laundering', 'O'), ('money', 'O'), ('ukraine', 'O'), ('really', 'O'), ('stupid', 'O')]\n",
      "[('join', 'O'), ('invited', 'O'), ('session', 'O'), ('impact', 'O'), ('war', 'O'), ('ukraine', 'O'), ('friday', 'DATE'), ('november', 'DATE'), ('lima', 'O'), ('register', 'O')]\n",
      "[('gave', 'O'), ('security', 'O'), ('arrangements', 'O'), ('russian', 'O'), ('attack', 'O'), ('would', 'O'), ('avoidable', 'O'), ('sounds', 'O'), ('like', 'O'), ('justification', 'O'), ('fact', 'O'), ('poland', 'LOCATION'), ('part', 'O'), ('important', 'O'), ('factor', 'O'), ('security', 'O'), ('ukraine', 'O'), ('wants', 'O')]\n",
      "[('wait', 'O'), ('russia', 'LOCATION'), ('attacks', 'O'), ('giving', 'O'), ('us', 'O'), ('reason', 'O'), ('join', 'O'), ('officially', 'O')]\n",
      "[('idk', 'O'), ('man', 'O'), ('ask', 'O'), ('thousands', 'O'), ('fleeing', 'O'), ('ukraine', 'LOCATION'), ('russia', 'O'), ('countries', 'O'), ('choose', 'O'), ('russia', 'LOCATION'), ('flee', 'O')]\n",
      "[('sorry', 'O'), ('talking', 'O'), ('canada', 'LOCATION'), ('ukraine', 'LOCATION')]\n",
      "[('wondering', 'O'), ('putins', 'O'), ('strategy', 'O'), ('point', 'O'), ('bankrupt', 'O'), ('us', 'O'), ('funds', 'O'), ('requests', 'O'), ('coming', 'O'), ('ukraine', 'O')]\n",
      "[('new', 'O'), ('report', 'O'), ('estimates', 'O'), ('million', 'O'), ('ukrainians', 'O'), ('lost', 'O'), ('jobs', 'O'), ('eight', 'O'), ('months', 'O'), ('since', 'O'), ('russias', 'O'), ('full', 'O'), ('scale', 'O'), ('invasion', 'O'), ('began', 'O'), ('putting', 'O'), ('unprecedented', 'O'), ('pressure', 'O'), ('countrys', 'O'), ('social', 'O'), ('welfare', 'O'), ('system', 'O')]\n",
      "[('youre', 'O'), ('wrong', 'O'), ('united', 'O'), ('states', 'O'), ('interfered', 'O'), ('ukraine', 'LOCATION'), ('obama', 'O'), ('caused', 'O'), ('conflict', 'O')]\n",
      "[('hmm', 'O'), ('russia', 'LOCATION'), ('took', 'O'), ('ukrainian', 'O'), ('energy', 'O'), ('according', 'O'), ('zelensky', 'O'), ('sounds', 'O'), ('like', 'O'), ('winnable', 'O'), ('result', 'O')]\n",
      "[('islamic', 'O'), ('republic', 'O'), ('recruiting', 'O'), ('afghan', 'O'), ('soldiers', 'O'), ('fight', 'O'), ('without', 'O'), ('iranian', 'O'), ('government', 'O'), ('world', 'O'), ('better', 'O'), ('place', 'O'), ('west', 'O'), ('realize', 'O'), ('fact', 'O')]\n",
      "[('zelenskiy', 'O'), ('say', 'O'), ('agreed', 'O'), ('thanked', 'O'), ('macron', 'O'), ('support', 'O'), ('since', 'O'), ('russia', 'LOCATION'), ('invaded', 'O'), ('ukraine', 'LOCATION')]\n",
      "[('european', 'O'), ('union', 'O'), ('monday', 'DATE'), ('condemned', 'O'), ('russia', 'LOCATION'), ('suspension', 'O'), ('black', 'O'), ('sea', 'O'), ('grain', 'O'), ('deal', 'O'), ('urged', 'O'), ('reverse', 'O'), ('decision', 'O')]\n",
      "[('agree', 'O'), ('argument', 'O'), ('russia', 'O'), ('country', 'O'), ('blame', 'O'), ('take', 'O'), ('back', 'O'), ('question', 'O'), ('lead', 'O'), ('long', 'O'), ('debate', 'O'), ('putin', 'O'), ('aggrevate', 'O'), ('situation', 'O'), ('agreement', 'O'), ('partly', 'O'), ('blame', 'O')]\n",
      "[('lets', 'O'), ('talk', 'O'), ('news', 'O'), ('live', 'O'), ('via', 'O')]\n",
      "[('dems', 'O'), ('literally', 'O'), ('deny', 'O'), ('elections', 'O'), ('lose', 'O'), ('promote', 'O'), ('conspiracies', 'O'), ('damage', 'O'), ('country', 'O'), ('russia', 'LOCATION'), ('gate', 'O'), ('put', 'O'), ('morons', 'O'), ('charge', 'O'), ('several', 'O'), ('committees', 'O'), ('without', 'O'), ('even', 'O'), ('basic', 'O'), ('competence', 'O'), ('subject', 'O'), ('matter', 'O'), ('argument', 'O'), ('definitely', 'O'), ('elect', 'O'), ('democrats', 'O')]\n",
      "[('putin', 'O'), ('war', 'O'), ('home', 'O'), ('reveals', 'O'), ('inside', 'O'), ('stories', 'O'), ('activists', 'O'), ('journalists', 'O'), ('risking', 'O'), ('arrest', 'O'), ('imprisonment', 'O'), ('speak', 'O'), ('russia', 'LOCATION'), ('invasion', 'O'), ('ukraine', 'O'), ('tune', 'O'), ('tonight', 'O'), ('pm', 'O')]\n",
      "[('russia', 'O'), ('media', 'O'), ('read', 'O')]\n",
      "[('alex', 'O'), ('unit', 'O'), ('surrendered', 'O'), ('driven', 'O'), ('military', 'O'), ('base', 'O'), ('belarus', 'O'), ('could', 'O'), ('hear', 'O'), ('cries', 'O'), ('prisoners', 'O'), ('beaten', 'O'), ('reports', 'O'), ('magazine', 'O')]\n",
      "[('mind', 'O'), ('russia', 'LOCATION'), ('borders', 'O'), ('ukraine', 'LOCATION'), ('europe', 'O'), ('im', 'O'), ('muslim', 'O'), ('im', 'O'), ('indian', 'O'), ('hindu', 'O'), ('youre', 'O'), ('idi', 'O')]\n",
      "[('russia', 'O'), ('killing', 'O'), ('people', 'O'), ('killing', 'O'), ('people', 'O'), ('asians', 'O'), ('killing', 'O'), ('people', 'O'), ('heard', 'O'), ('jewish', 'O'), ('people', 'O'), ('killing', 'O'), ('race', 'O'), ('issue', 'O'), ('culture', 'O'), ('issue', 'O'), ('rip', 'O'), ('takeoff', 'O')]\n",
      "Execution time: 31.589985132217407 seconds\n"
     ]
    }
   ],
   "source": [
    "# ST7\n",
    "st = time.time()\n",
    "for tweet in cleaned_tweets['data']:\n",
    "    tagged = st7.tag(tweet['text'].split())\n",
    "    print(tagged)\n",
    "    \n",
    "et = time.time()\n",
    "elapsed_time = et - st\n",
    "print('Execution time:', elapsed_time, 'seconds')"
   ],
   "metadata": {
    "collapsed": false,
    "pycharm": {
     "name": "#%%\n"
    }
   }
  },
  {
   "cell_type": "markdown",
   "source": [
    "## Segmentation using TextBlob"
   ],
   "metadata": {
    "collapsed": false,
    "pycharm": {
     "name": "#%% md\n"
    }
   }
  },
  {
   "cell_type": "code",
   "execution_count": 15,
   "outputs": [],
   "source": [
    "# TODO: experiment with TEXTBLOB noun tagger\n",
    "from textblob import TextBlob"
   ],
   "metadata": {
    "collapsed": false,
    "pycharm": {
     "name": "#%%\n"
    }
   }
  },
  {
   "cell_type": "code",
   "execution_count": 21,
   "outputs": [
    {
     "name": "stdout",
     "output_type": "stream",
     "text": [
      "Execution time: 0.12149500846862793 seconds\n",
      "['corrupt country world ukraine', 'lessons centuries', 'problem ukraine weak country', 'vassal state', 'shirt source', 'dont palestine syria', 'russia todays russia eg', 'current regime', 'nazi propaganda nazism', 'future russia', 'russia trump', 'lol news', 'weapons equipment', 'dmitry medvedev', 'nuclear strikes ukraine', 'gon na stand', 'ukraine youll', 'india ukraine bechtel', 'jumper cat engine ecm', 'paper clip', 'parts flown', 'money russia', 'russia reinforces', 'military expands kherson evacuations', 'katsap troll followers mod ukraine chart', 'legit list sources', 'actual war situation tales geroman zoka wargonzo rybar amp co ruaf', 'shirt source', 'interesting trajectory', 'kherson region', 'russia russian ministry defence destroys mercenaries numbers', 'prevalent donbass fight', 'russia invade ukraine', 'agreement land', 'eyes truth usa', 'countries claims', 'permanent property', 'recall trump', 'trade iceland lol', 'blank checks ukraine enrich', 'military industrial complex', 'spot disinformation bot', 'cooking playground', 'bulky cries foul nonsense', 'thats fact', 'world besides', 'rice wheat yeah', 'people times day', 'free past years warehouses', 'full dont need wheat ukraine', 'zelensky dont criticize government war communicate', 'adequate victory ukraine', 'dmitry medvedev', 'nuclear strikes ukraine', 'gon na stand', 'fight ukraine', 'tax dollars', 'shirt source', 'immediate strong reaction food crisis', 'russia terrorist state place', 'russia accuses uk involvement attack', 'black sea fleet nord stream gas pipelines', 'fbi hillary democrats media', 'russia hoax', 'hey genius biden administration', 'billions dollars ukraine', 'need meet responsibilities', 'invasion southern border', 'money ukraine', 'damnit russia', 'country submit', 'force ukraine', 'population submits', 'destruction youre disgrace humanity saviour way', 'ships sail ukraine', 'thats baseless information number ships', 'ukraine grains', 'europe asia fraction', 'pak dont', 'slave thats russia', 'russia summons dutch ambassador claim uk', 'russian diplomat hague nl times', 'russia saudi arabia federalist society heritage society koch brothers', 'grocery stores', 'able purchase albertsons', 'register republicans biden', 'mess fact putin', 'gas prices', 'ukraine reuse cement', 'cities russia', 'wey local vigilante wan chuk mouth russian ukraine convo joke oodua people congress', 'nato bases kazakhstan uzbekistan azerbaijan', 'northern coast russia', 'evidence bases support bases kazakhstan scale', 'time goodwill gesture', 'kidney ebay', 'shirt source', 'horrible attack ukrainian forces', 'bombs russian', 'regime islamic republic', 'heavy military equipment', 'war ukraine world', 'good time', 'zalenksy government', 'tweet urkaines', 'ethnic russian actions nato', 'ukrainian nazis war ussr spiessoboteursanto communistfascists acitivists', 'amp building nato ukraine', 'initiative handful individuals kremlin', 'food tables people egypt bangladesh terrorist state place', 'mind discussion medicine mam russia', 'people antibiotics', 'chance antibiotic resistance', 'right movement', 'show proof', 'soviet union', 'shirt source', 'political saber', 'legal workaround russia station conscripts', 'conscript mobilize citizens', 'propaganda mouth pieces', 'david sacks ukraine turning woke war iii', 'black sea amp', 'economic output ukraine', 'death brave ukrainian soldiers delusional', 'examples covid bioweapon gain function fauci vaccines', 'harm good vaccines', 'ovaries vaccines protein spikes', 'blood bbb russia pipeline hunter laptop mask lockdowns etc', 'russia invade ukraine', 'war use provoke excuse', 'russia past imperialist need fix bio peter wannabe', 'democrats shut economy businesses', 'millions illegals pandemic', 'ur guns ur freedom speech dems shut ur ability visit', 'family hospitals dems shut stimulus', 'russia adolf putin', 'new way', 'problems adolf putin years', 'issues chechnya syria ukraine contribution world differ usa', 'ukraine missiles himars', 'tungsten balls', 'source media link', 'world events vienna police polish news', 'asylum seekers immigrants', 'dover centres regimes persecute war', 'leaves home', 'odd opportunist ukraine', 'enthusiastic apartheid', 'country brutalist colonizers', 'africa musk saudi arabia', 'twitter takeover rhodesia peter thiel', 'australia murdochs amp russia', 'glory ukraine glory heroes putler', 'world stage years years reparations', 'money ukraine', 'rich pigs', 'difference russia', 'ukraine russia', 'nato country', 'troops jets forces', 'fight russia ukraine', 'karene bartlett', 'journalist ground eastern ukraine', 'portugal ukrainian', 'lady liberation vibes', 'discourse show dont support proxy war ukraine', 'whole thing', 'ukraine proxy war russia', 'shirt source', 'additional weapons', 'ballistic missiles russia', 'missiles russia', 'lmao russians', 'ukrainians human shield', 'attack ukrainians', 'bad things ukr', 'putin ukraine drone attack', 'hey genius biden administration', 'billions dollars ukraine', 'yeah ukraines', 'defeat russia', 'ake care peopl hey', 'sanctions russia', 'ukrainian children need', 'fascists russia', 'cool mil', 'dmitry medvedev', 'nuclear strikes ukraine', 'gon na stand', 'white house reports hypersonic missiles', 'russia belarus', 'russia scandal', 'huge hoax', 'good luck years', 'pretty sure siberia', 'food crisis whats', 'long world', 'terrorism russia place', 'international stage', 'collective responsibility', 'monster act', 'saudis wouldnt', 'fight iran', 'military government', 'weird fuck gasfood deals', 'iran russia', 'shirt source', 'ukraine government', 'corrupt fascist mess money', 'people ukraine victims', 'azov battalion', 'nice little fish er bird ukraine building drones buying drones iran', 'biden ukraine war', 'free healthcare', 'free education', 'nice hotels food', 'country people', 'theres thing', 'present maga gop', 'fascist authoritarian dictatorship fad', 'russia putin korea kim jung un', 'solution unconditional capitulation russia', 'pentagon ukraine enemy russia', 'nuclear war', 'ally partner crime okay', 'intelligence russia nonetheless russia bail', 'stupid people', 'weapons ukraine', 'finland sweden denmark netherlands europe', 'ukraine flag nuff', 'putin bot guy country', 'ukraine country remind date belgium', 'diamonds russia nord stream', 'germany austria netherlands uk france putin bot', 'neo nazis', 'target roma minority', 'elon charge twitter blatant racism', 'russian tv desatanisation', 'shirt source', 'conflict stil ys', 'pro western government', 'russian gas', 'war production capacity moldova', 'countrys needs', 'humanitarian aid russia africa aid', 'true aid wo strings', 'punish amp suffocate african nations sanctions amp', 'funds amp loans', 'btw term limits age limits', 'high cost', 'inflation high gas prices', 'money ukraine vs', 'stimulus checks', 'public cost', 'democratic party seats', 'russia terrorist state', 'lot limitations russia', 'visit press tweet website retweet action', 'yes people', 'war sends', 'strong message countries', 'land making russia', 'attacks ukraine infrastructure', 'response attack sevastopol rt', 'sure oil price cap agaisnt russia', 'russia todays russia', 'theres threat russia', 'current regime', 'shirt source', 'basic problem', 'american woke empire russias', 'historic russian territory', 'place arent', 'innocent victims', 'citizens support iraq afghanistan libya', 'reaction food crisis', 'russia terrorist state place kind reaction world', 'food crisis whats', 'long world', 'terrorism russia place', 'international stage', 'collective responsibility', 'monster act', 'nuclear weapons case existential threat land', 'counts ukraines existence', 'secretary state antony blinken travel germany week meet counterparts group', 'russias invasion ukraine climate', 'energy issues state department', 'ukraine pay simp', 'healthy chunk gdp ukraine energycost', 'trudeau dont care teachers', 'sense perspective rocket launcher', 'tank missile wont', 'haiti pakistan', 'march russia', 'oil willbe', 'support nazis russkis', 'end tears', 'war russia flat lie', 'saudi arabia', 'world business perspective russia invasion ukraine', 'saudis reason', 'partnership riyadh', 'actions control suppress russian energy', 'words budapest memorandum look youll', 'ukraine ex soviet states', 'nukes wouldnt situation', 'liberation rts roman kosarov crew', 'humanitarian aid residents', 'ones safety', 'google search', 'evidence biden', 'asses putin kim jong', 'dmitry clown speaks russia', 'murderous exploits', 'blah blah blah glory days yearn dmitry', 'western leaders', 'putins threat engagement amp appeasement', 'war price ukraine human amp', 'financial cost', 'repeat mistake', 'russia tula region romantsev mountains lets', 'phenomenal fashion show moscow ukraine girl ukrainian flag dress', 'inadequate creature', 'david sacks ukraine turning woke war iii', 'desatanisation choice invoke nafomet bonkstick pentagram ritual unleash shiba shaitans slayer', 'month year objective', 'ukraine hostile state nato', 'sort ot peace dmzautonomy', 'predictable statement', 'initiative handful individuals kremlin', 'food tables people egypt bangladesh demand', 'neocon insanity usa', 'deploys nukes finland taiwan sleepy joe handlers', 'russia amp china', 'shirt source', 'yea laws', 'lviv poland wwii', 'labor camps', 'ukraine people lviv pogroms', 'percent high risk weapons', 'biden administration launches', 'new measures', 'reroute oil', 'new price cap analysts', 'belgium inbev people', 'hell crisis times', 'babies ukraine bro', 'states america son charity', 'cant hold home cant', 'sense heroic age ukraine energy', 'palpable miles', 'need nukes', 'fight ukraine need', 'tough guy online dude', 'peace ukraine', 'energy prospect partner russia meditator russia ukrainian conflict', 'ukraine america', 'president biden', 'suspicious shut pipeline', 'sanctions russia', 'free pass biden administration', 'speech putin america europe', 'willing work russia', 'secret tranny world order', 'ok russia making noises ukraine', 'grain agreement', 'drone boats', 'grain corridor agreement blocks ships aircraft uavs', 'shirt source', 'initiative handful individuals kremlin', 'food tables people egypt bangladesh terrorist state place', 'exposure winter fair', 'russian soldiers ukraine', 'food crisis whats', 'long world', 'terrorism russia place', 'international stage', 'collective responsibility', 'monster act', 'donation page', 'steps step click ukraine conflict donation', 'ukraine projects', 'solar generators hospitals solar reading lights powerpacs', 'gas oil russia months', 'russian assets sanctions asset forfeiture', 'ukraine nazis', 'elon putin bffs havent', 'tweets timeline ukraine', 'measures stimulate oil gas production', 'reliance china russia', 'critical materials', 'new report', 'democrat update booster shots', 'syria afghanistan pakistan iran sudan iraq libya lebanon yemen', 'countries usauknatofranceukraineaus amp', 'isnt guy ukraine', 'brics countries', 'india russia', 'need dollar india russia', 'oil gas currencies', 'india matter time brics countries', 'brilliant white man town joe biden', 'good american citizens fight good russia way', 'good brilliance stupid', 'white man town', 'vote republican', 'traitor repubs disrupt election', 'final goal', 'country racist autocracy', 'putins russia xis china doj', 'americans fight', 'boycott gap products covert support russian federations genoicidal practices ukraine disgusts', 'stand ukraine stand russia theres middle ground', 'shirt source', 'countries plan defence', 'aggressive regimes', 'russia larouche schiller institute larouche candidate diane sare', 'dictatorship tv', 'sides invasion ukraine putin', 'vicious military sides msm', 'military genocidal maniacs', 'plans deploy', 'defence air force spokesman', 'immediate strong reaction food crisis', 'russia terrorist state place', 'kosovo issue', 'drive dismantle russia sanctions', 'fact europe', 'matter fact ireland', 'russia war', 'minister murder russia shoigu', 'speech mentions interception himars rockets past days claims russian army', 'order harm', 'civil population ukraine hypocrite', 'russian attack ukraine february', 'security assistance support government ukraine', 'qualitative precedents', 'shirt source', 'food crisis whats', 'long world', 'terrorism russia place', 'international stage', 'collective responsibility', 'monster act', 'great means', 'russia america france', 'time russia', 'force backs', 'time russia', 'weakness escalates', 'exact quote', 'direct citation jd vance', 'white house', 'conflict russia', 'situation ukraine', 'check reps bro lots', 'czechoslovakia poland countries', 'free worlds perspective', 'side aggressor state', 'pretty easy solution russia leaves ukraine war', 'jd vance disgrace traitor america americans', 'war vance', 'platform peter thiel', 'big chunk vance', 'seat board', 'diplomatic nuclear option russia opinion', 'biden accuses oil companies war', 'threatens windfall tax', 'shirt source', 'america slice ukraine russia show america', 'border agreement', 'kyiv mayor vitali klitschko discusses', 'russian attacks ukraine', 'support ukraine bomb', 'nuts endless hours google maps', 'name villages', 'attack men', 'attack man', 'bmp soldiers', 'orlyanka kupyansk direction', 'military alliances', 'strong military nations world', 'ok bud ukraine flag', 'nope leftist search slurs twitter', 'leftist account', 'accounts prev', 'pro ukraine bs', 'new russia russia russia tweets', 'years delete john durham report', 'war cnn reports', 'western country', 'monitors iran', 'coincidience autocratsdictators', 'poor diplomatic skills', 'shirt source', 'right germany', 'dependent russia energy', 'mirror way russia', 'satellite states', 'eu nato capitalism washington', 'stem tide', 'latin america brazil elections lula', 'boebert home boebert', 'russia window', 'food crisis whats', 'long world', 'terrorism russia place', 'international stage', 'collective responsibility', 'monster act', 'retaliate blow uk', 'russian army', 'reports russians', 'city eastern ukraine', 'defnotbakhmut clarification', 'shirt source', 'ancient news', 'western ukraine people', 'sense guess ukrainian missiles', 'power stations ukraine', 'truth world america britain', 'full responsibility', 'syria iraq ukraine libya somalia afganistan yemen sudan drc congo eth', 'dangerous civilians', 'amp europe use russian frozen assets billions', 'cost war reconstruction ukraine nato', 'russian money zelensky', 'old habits', 'stories russian soldiers refuse fight putin ukraine', 'ukraine britain', 'nuclear conflict', 'europe doesnt', 'friend ukraine', 'npc russias enemy', 'yes putin devil', 'ordinary people worldukraine', 'dictator putins genocide kyiv uses', 'weapons tactics', 'ordinary russian', 'prison ukraine mass kills', 'ordinary russians brads', 'black brown people need support', 'nations world seediest people planet tax money ukraine', 'grasp use term', 'war isnt', 'difficult figure ukraine amp nato', 'ammo troops money rus isnt nato', 'new year', 'corner need', 'past look', 'imperialism wont', 'globalise world use ukraine', 'world war iii', 'everyday mercy', 'air strikes indian territory', 'pogroms hindus bangaladesh', 'word play yall', 'crazy youre', 'oh youre hitler dont', 'billions dollars ukraine theyre', 'cook county', 'rare metals', 'military aircraft', 'moral conflict', 'nuclear power agency tuesday', 'sites russia', 'claims ukraine', 'dirty bombs', 'isnt inspection ascertain', 'ukraine russia war', 'shirt source', 'cuba dont', 'convoy thing', 'pirates im', 'cigars russia', 'arms race', 'usa top world economy', 'strike russia', 'ukrainian victory', 'ukraine attacks eastern areas', 'advantages money eu beimg', 'possible eu conflict russia', 'difficult situation', 'work gathers lot information russia', 'children ukraine', 'occasions zero consequences world', 'ministry emergency situations', 'electrocity ukraine', 'manage post unfunny memes', 'people iran', 'ir terrorist regime', 'sorry honest situation isnt', 'till end', 'joke russia gate way lab leak hunter biden vaccine', 'shirt source', 'medvedev ukraines victory war', 'threat russias existence', 'amcham ukraine leadership', 'gizo uglava', 'director focus accountability mechanisms', 'international funds expenditures post war', 'economic recovery', 'possible ways cooperation amcham members', 'center parties', 'illegal centrists', 'corbett report schrodingers bomb', 'false flags', 'war bat rescue', 'anyones planet putin buildings', 'pile junk', 'energy secrets', 'regular energy', 'free energy russia', 'energy card', 'fake narratives news', 'weapons ukraine', 'crime circles', 'official statement', 'food crisis whats', 'long world', 'terrorism russia place', 'international stage', 'collective responsibility', 'monster act', 'ukraine cat', 'drawing cats', 'auction pictures ukraine kitty', 'machines machines microprocessors', 'machines home russia', 'controls kharkiv russia', 'assimilate kharkiv part federation', 'donetsk luganks etc', 'kherson mykolaiv', 'russian territories', 'record inflation record high gas prices', 'unemployment conflict ukraine', 'boots fight', 'neonazi brigade ukraine', 'ukraine countries', 'corrupt fascistic shit holes', 'internal affairs', 'foreign policy dictate others', 'theyve power respect sovereignty others', 'fall wall kgb result', 'multiple intelligence agencies', 'counter info ops country', 'danube grain route project', 'safe transportation', 'agricultural products river port', 'sea vessel', 'dmytro moskalenko general director ukrainian danube shipping company', 'russiachina phobic sadistic war', 'hungry satanic sanctions', 'braun lapdog lookalike amp neo nazis', 'luxury oilgashotelexpenses lifestylewant humans masochistic inflation poverty', 'hunger climate', 'shirt source', 'trump fraudulent lawsuits', 'concessions russia', 'imperial aggression', 'negotiations akin', 'negotiations hitler', 'bad idea', 'stand doctoral way ruzzia invades land grabs kills civilians rapes children tortures people ffs', 'russia trump', 'ony action', 'ukraine abyss', 'contributors side', 'gop fec', 'vote penalize company', 'russian money louisiana candidates amp pacs guess', 'illegal contributions russia scalise kennedy vote', 'permacrisis tops collins word year list', 'im misunderstanding', 'military budget earth', 'money ukraine', 'russia knees', 'evil vs', 'tree play play satan', 'fix ehh vs', 'accounts ukraine flag bots', 'actual americans support ukraine nazis', 'shirt source', 'argentina size falkland islands', 'military operation', 'time stuxnet iran', 'additional weapons', 'ballistic missiles russia use ukraine', 'western officials', 'permacrisis tops collins word year list', 'ukrainian drone drops bomb', 'open russian tank hatch precision', 'russia calls', 'international community condemn removal soviet monuments latvia', 'main study mine primary conflict time university', 'leader ukraine time', 'pro russian', 'maidan protests', 'russia country iran', 'itd reap', 'rich harvest times', 'russia iran', 'big store', 'sophisticated weapons whichr', 'russia ukrain lethal effect worrisome factor india', 'npcs comment section', 'multipolar world russia china axis refuses', 'comment leaves', 'food crisis whats', 'long world', 'terrorism russia place', 'international stage', 'collective responsibility', 'monster act', 'western corporations', 'nazi germany', 'putin russia study history', 'guess needs assurances', 'proportionate response', 'nukes russia', 'ukraine dozen', 'message immigration expert ukraine awful situation home office delays suella disputes', 'tory statements', 'whole debate', 'destabilize russia decades', 'russias geopolitical allies building proxy armies russias border', 'shirt source', 'real path peace ukraine spot ukrainians', 'european union', 'ways increase', 'ukraines energy sector', 'weeks russian attacks eu energy commissioner kadri simson', 'visit kyiv tuesday', 'part territory america', 'iran attacks justification', 'weapons iran', 'russia use ukraine', 'ignorance world affairs', 'unbelievable ignorant gop russian puppets russia', 'sovereign country amp', 'wrong youre fool', 'western security inc', 'worrisome iran', 'way stopdestroy arrival russia', 'attacktarget launch bases launch bases', 'care doesnt', 'fact azov batallion wouldnt', 'werent russia master strategist', 'friend ukraine', 'real challenge', 'views democracy', 'terrorist russias hypersonic missile kinzhal', 'british intelligence uk mod', 'satellite images machulishchi airfield show', 'mig fighters', 'food war', 'ukrainian exports flow corridor', 'black sea', 'challenging elections ensure', 'free fair', 'similar current exists', 'korea iran belarus russia', 'admin war', 'shirt source', 'big zoo', 'russia cant behave', 'human beings', 'narrative nato', 'enslave russia ukrainian', 'super soldiers outskirts moscow', 'ready release mosquitoes', 'difference islamic republic russia putin putin war', 'eyes dont appease european', 'current issues colleague vienna', 'excellent cooperation', 'austria finland', 'views ways', 'european security situation', 'amazing ritual', 'old jewish', 'rare judaica jewish', 'large silver', 'unique wedding ring jews items russia', 'judaica jewish hanukkah gift', 'good ukrainians part', 'russias withdrawal ukraine grain', 'tons russian grain cost', 'free grain', 'market countries africa asia', 'massage riaydh massgge riyadh home service', 'world russia', 'shortage fertilizer eastern ukraine', 'impact war', 'shirt source', 'peace ukraine russia', 'war person', 'peace home country cost russian invaders', 'basic stuff', 'basic questions', 'belarus needs', 'message support russia', 'toilets bombing civilian infrastructure fun', 'rockets arent', 'toilets russia', 'ukraine dimwit', 'iran major escalation', 'major way iran', 'choice attack iran', 'ukraine ability', 'attack major russian cities', 'akar discusses grain shipments ukraines defense infrastructure ministers', 'food crisis whats', 'long world', 'terrorism russia place', 'international stage', 'collective responsibility', 'monster act', 'portable weapons', 'hands criminals', 'european countries wonder zelensky', 'shirt source', 'untrue confession', 'wilhelm ii', 'political interest', 'relations russia germany', 'usd day ukraine usd', 'usd usa', 'shit bio bernie humanitarian', 'side ukraine', 'excellent thread', 'current situation ukraine', 'army base', 'russia guess dont', 'things toys shouldnt', 'putin deaths ukraine needs grief misfortune world demand', 'immediate decisive response food crisis', 'russia terrorist state place', 'pandemic russia war ukraine', 'recent economic developments latin america amp caribbean region', 'global financial conditions', 'chile press', 'shirt source', 'derek burney', 'needs shape', 'new cold war', 'immediate strong reaction food crisis', 'russia terrorist state place', 'general staff aviation defense forces ukraine', 'current day', 'strikes areas concentration weapons', 'military equipment', 'aircraft missile systems russian federation', 'ukraine war', 'country world', 'voice peace diplomacy', 'work peace civilans life', 'important un', 'war purpose existence', 'belgorod ukraine', 'hilarious day twitter end', 'hoax people', 'smollet hoax kavanaugh hoax russia hoax sandman hoax etc', 'rate male prostitution', 'honest kind', 'youre hitler', 'billions dollars', 'white folk ukraine dont', 'shit iraqis dont', 'shit haitians', 'hitler tbh', 'political programs', 'willing state', 'organisation work', 'russia china', 'hypersonic weapons', 'rest world awake night', 'editor chief months check issue', 'colossal challenge', 'period ukraine satellite republic', 'sources wikipedia', 'professor serhii plokhy', 'nuclear weapons', 'satellite republic ukraine period', 'hal turner radio show russians hack', 'delta command amp control system', 'complete ukraine battle plans', 'musk worthless piece amp scummy', 'fake story pelosi hubby', 'shut satellite ukraine', 'american amp folks kiss butt', 'man guys dont', 'ukraine look', 'james bonds', 'shoot archives', 'successful russia', 'world leader enterprise treats soldiers guns', 'general dacha', 'days speculation pelosi havent', 'years russia smolet covid etc', 'shirt source', 'beginner chess russia', 'dimensional chess', 'didnt project', 'ukraine gon na', 'war stops', 'western puppet media', 'western nations russia', 'invasion eh', 'people ukraine', 'dreadful person', 'yeah russias', 'epitome strength', 'lol usa', 'proxy war russia', 'british intelligence war map nov', 'energy runs', 'independent biden', 'barrels day russia', 'reserve oil cuz', 'fuel rethink facts shut', 'russia gate hook line sinker', 'nobel peace prize winner company supports russia agent', 'russian court tuesday', 'wikipedia owner wikimedia foundation', 'roubles articles', 'ukraine war head foundations russia chapter', 'moron war ukraine', 'production demand opec reason high gas prices moron', 'predictable statement', 'initiative handful individuals kremlin', 'food tables people egypt bangladesh demand', 'bombing ukraine', 'innocent civilians', 'drones missiles iran cant', 'attack ukraines infrastructure', 'defense isnt', 'sen murphy', 'food crisis whats', 'long world', 'terrorism russia place', 'international stage', 'collective responsibility', 'monster act', 'permacrisis tops collins word year list', 'feraliminal lycanthropizer anal conception dominant female brutal death metalgoregrind yaroslavl russia release date november th', 'simple solution russia problem', 'permacrisis tops collins word year list', 'shirt source', 'kremlin spokesperson dmitry peskov', 'evidence britain', 'sabotage terrorist act', 'vital energy infrastructure', 'whilst russia bombing amp', 'critical civilian infrastructure ukraine yeh', 'hey stevie', 'straight ukraine im', 'spacexs starlink constellation internet', 'satellites russia', 'internet service nation', 'international legion ukraine', 'thermite thats', 'wp syria yeah bunch', 'sake country russia', 'oh guess', 'right web propaganda', 'attacks blame russia', 'old stance provocation', 'shirt source', 'sure theyve', 'negotiation terms withdrawal troops putin hague reparations ball russias court', 'curve inflation', 'social security ukraine', 'story wilhelms sister princess alix hesse', 'marry nicholas ii', 'emperor russia', 'commitment lutheranism', 'russian orthodoxy', 'shot vessels', 'guarantees order corridor ukraine wont attack crimea bases', 'funny videos', 'enemy russian empire', 'ukraine enemy ukraine', 'cautious russia didnt', 'attach label enemy', 'thing obama', 'support people ukraine overthrow treasonous', 'pro soviet government', 'russians ukrainians despise yrs occupation ukrainian people', 'traitors obama', 'massive amounts lng suppliers', 'putin russian children', 'sexier american ones taste', 'ww war americans', 'body bags', 'gun violence', 'gangs gangs', 'primary backbone sovereignty ukraine opportunity', 'account value support extent', 'intact ukraine supports crimes tragedies', 'hard feelings', 'glory glory hallelujah', 'covid shot cure hunters laptop', 'real trump racist border', 'russia hoax others', 'america flaws freedom', 'hope gop', 'topple democracy protects rights gop', 'alternative freedom', 'korea china russia', 'loans fund war', 'funds people war', 'foreign nations war', 'funds weapons', 'accountability repayment suckers representa', 'shirt source', 'yeah luck', 'pack head home things', 'sucks putin pos', 'russians solovyevs', 'brilliant leadership', 'tidal wave', 'unarmed looters storm ukraine front line ukrainian', 'safe dept', 'nukes border russia ukraine', 'dangerous sanatism', 'money weapons hope', 'russia attacks poland', 'kind propaganda', 'god sortem', 'food crisis whats', 'long world', 'terrorism russia place', 'international stage', 'collective responsibility', 'monster act', 'corrupt country', 'corrupt leader money', 'russia russia russia russia covid hoax vaccines', 'forces ground ukraine', 'jimmy dore', 'people years pin tool', 'vice news', 'party loyalist narco terrorist', 'ireland epic journos truth justice', 'shirt source', 'office people ukraine', 'nuclear missile', 'head country blow', 'thousands people route', 'ukraine gov', 'crimea referendum', 'place theres', 'case taiwan china', 'referendum wud deem illegitimate', 'office problem', 'wars gun control', 'arms ukraine', 'russia putins propagandist', 'war protesters detroit', 'govt ukraine', 'youth iran child rapist regime', 'northern countries', 'russia ukraine mongolia etc', 'way feed', 'fossil energy lots gon na', 'shirt source', 'short complete surrender ukraine end hostilities russia putin', 'ukrainian people hes', 'riddles metaphors pal', 'ok money ukraine', 'good idea', 'late september', 'kremlin fabricate crisis znpp iaea proposal ukraine', 'nuclear safety security protection zone', 'check article', 'iran missiles', 'polls inflation surges', 'russias war ukrainedanes', 'crunch disruption gas supplies russia', 'pressure government', 'sex war criminal', 'rape torture murder civilians yes supports impotent work brian najoyg ray', 'bye bye russia lets swim', 'dont presume', 'german default distrust people', 'object ire leaders past decisions hand russia power', 'additional weapons russia war ukraine iran', 'weapons russia', 'ballistic missiles kamikaze drones doesnt', 'black ops interdict supplies terrorist terrorists mossad', 'dear world russia', 'ethnic russians', 'javelins nlaws nasams', 'russian propaganda', 'trumpian ignorant way russia communist putin', 'ukraine american', 'orlyanka wet militants', 'forces ukraine work divisions kupyansk direction', 'worthy business partner', 'russian liars spit russian', 'lot republicans', 'weapons materials ukraine', 'democrats video evidence', 'real evidence joe biden ukraine story hunter bidens laptop videos pictures maxine waters', 'incitement violence etc', 'ukraine refugees', 'shirt source', 'invade ukraine', 'war monger criminal needs', 'stand murderers', 'ukrainian terrorist russias eyes palestinian terrorist israel allies eyes', 'german artist kollwitz', 'famous poster', 'people europe', 'russia continent', 'world war ravages spanish influenza', 'drones missiles russia', 'unrealistic view war amp russians', 'rescue gt ukr children russia', 'qualifies genocide', 'russia tho dont', 'ur point', 'problems turbine delivery', 'estonia lithuania', 'view things', 'nato order', 'fascist russia', 'specific benefit', 'trump rally stand warmonger mark rubio', 'calls nato', 'war russia', 'bogus impeachments russia hoax witch huntsman didnt hurt rush', 'media didnt', 'media cant', 'mom dad', 'candy russia', 'ukraine run sams rockets', 'glory glory hallelujah', 'covid shot cure hunters laptop', 'real trump racist border', 'russia hoax others', 'express view hes', 'shirt source', 'distinct difference', 'people ukraine victims', 'government ukraine fascist azov battalions nazis', 'corrupt regime', 'ukraine war', 'money sales', 'intro iranian ballistic missiles tripwire', 'introduction atacms russia', 'foreign supplier', 'weapons range km', 'rational rejoinder usnato', 'sure russia', 'spare missiles', 'pants soldiers', 'new brazilian president lula', 'selensky biden blame war', 'america calls talks yeah theyre', 'war end blame sides', 'war machine', 'corporate media', 'syria example russia', 'ref flag operations distract', 'citizens election', 'ukraine hasnt', 'biden amp co', 'withdrawal un grain', 'grain corridor', 'directions ships way ukrainian grains', 'leech hope russia', 'correction needs', 'eu russia arrogant', 'immediate strong reaction food crisis', 'russia terrorist state place', 'alliance russia', 'ukraine high risk diversion officials', 'washington kyiv', 'trump record russia putin', 'obama biden lot', 'president ukraine', 'black people', 'fight putin', 'yr course need yr support', 'fight kaguta museveni masters', 'massage riaydh massgge riyadh home service', 'internal affairs', 'foreign policy dictate others', 'theyve power respect sovereignty others', 'part propaganda machine', 'corrupt country war', 'real truth', 'gop fec', 'vote penalize company', 'russian money louisiana candidates amp pacs guess', 'illegal contributions russia scalise kennedy vote', 'russia russia russia wow', 'ua nukes', 'nk advantage', 'karpov coma hospital', 'head injuries karpov mp', 'putin loyalist', 'end ukraine war', 'domestic incident', 'reaction food crisis', 'russia terrorist state place kind reaction world', 'palestine russia', 'common theyre aggressors fudge', 'medic team stay ukraine russia country name country care people']\n",
      "Stored 'segments_blob' (list)\n"
     ]
    }
   ],
   "source": [
    "st = time.time()\n",
    "segments_blob = []\n",
    "for tweet in cleaned_tweets['data']:\n",
    "    segments_blob.extend(TextBlob(tweet['text']).noun_phrases)\n",
    "\n",
    "et = time.time()\n",
    "elapsed_time = et - st\n",
    "print('Execution time:', elapsed_time, 'seconds')\n",
    "print(segments_blob)\n",
    "%store segments_blob"
   ],
   "metadata": {
    "collapsed": false,
    "pycharm": {
     "name": "#%%\n"
    }
   }
  },
  {
   "cell_type": "code",
   "execution_count": 16,
   "metadata": {
    "collapsed": false,
    "jupyter": {
     "outputs_hidden": false
    },
    "pycharm": {
     "name": "#%%\n"
    }
   },
   "outputs": [],
   "source": [
    "# TODO: experiment with TEXTBLOB noun tagger\n",
    "from textblob import TextBlob"
   ]
  },
  {
   "cell_type": "code",
   "execution_count": 24,
   "metadata": {
    "collapsed": false,
    "jupyter": {
     "outputs_hidden": false
    },
    "pycharm": {
     "name": "#%%\n"
    }
   },
   "outputs": [
    {
     "name": "stdout",
     "output_type": "stream",
     "text": [
      "Execution time: 0.025507211685180664 seconds\n",
      "['collaboration waterford', 'centre waterford integration services olha kyiv ukraine', 'class energy practices thursday', 'central library lady lane entrance', 'free contact alina volunteerwaterfordie register', 'appeal state duma russian federation threat peace', 'speaker armenian parliament alan simonian', 'states th', 'protection armenia', 'mental compacity father', 'bozo america', 'blueprint amp', 'social media', 'lonestar uses un amp nato amp', 'amp russia petri', 'mature cops arrest', 'whites okay', 'govt doesnt care youmeus nerves', 'way end problem', 'wake americans fact check', 'china russia', 'big guys', 'old child', 'fit right local preschool', 'needs time corner', 'medvedev delusional alcoholic', 'gosloto results analysis stats', 'blake masters', 'aid ukraine', 'endless war', 'current senator mark', 'border state', 'dollars support', 'foreign nation', 'courage stand party', 'ukraine naziiis', 'nuclear missiles finland russian border finland', 'ukraine billionaire oleg tinkov renounces russian citizenship', 'short range ballistic missiles', 'point dont need', 'observe failure', 'bad comparison russia attacks civilian infrastructure war design', 'sufficient amenities toilets', 'natural state', 'money war yachts', 'scott ritter bird twitter', 'endless middle', 'previous presidency blame biden', 'occupiers liberators people ukraine zvezda news', 'elon comedy', 'legal twitter', 'nuclear war russia', 'morning news', 'full broadcast nov', 'big brother russia', 'dead russian media armenian parliament speaker', 'protection armenia', 'pro russian', 'hard traditional turf caucasus backyard', 'severe setback ukraine', 'tiktok users', 'experiences end almond mom culture', 'forces ground ukraine', 'ukraine optimism humour admist', 'destruction cruise missiles', 'boo cute', 'immigrants somalia', 'africa middle', 'health care', 'nazi pass', 'oh yes', 'putin choice noose', 'siberia dont', 'freedom russia', 'citizens respect', 'bellicose language', 'isnt good idea rot', 'gop administration inflation results self evident', 'sober moment', 'americans nuke', 'general assembly', 'nuclear disarmament state israel friday ukraine', 'chief rabbi calls', 'norwegian spanish companies benefit', 'ukraine war', 'mind end war death', 'russian soldiers planet needs regreen tiens', 'abrdn rules russia investment', 'foreseeable future', 'news updates june zelenskyy', 'stalemate russia option yellen', 'congress step inflation fight', 'military forces', 'onsite inspections ensure ukrainian troops', 'troops ground ukraine', 'ashes country end choice', 'resident biden', 'oil companies war', 'russia invasion ukraine excuse', 'americans mobility options', 'texas instruments dallas', 'improper parts', 'invasion ukraine reports', 'result russian aggression ukraine russians', 'missile strikes airstrikes mlrs attacks past day settlements ukraine', 'sick government', 'russia end ultra hyper mega bubble worthless digital ledger pyramid', 'gosloto results analysis stats', 'russia guess russian border kind weird way phrase imo', 'lol twits dont', 'beholden russia iss', 'spacex leftists morons', 'russia horrible country', 'full horrible people', 'states horrible country', 'full horrible people canada horrible country', 'full horrible people france horrible country', 'full horrible people', 'heres interview', 'impact suspension', 'global market markets jittery risks', 'rise prices', 'great argument', 'videos ukraine morning', 'upfront russia credit good days', 'war costs money', 'russia deploys mig jets ballistic killjoy missile belarus uk intel']\n"
     ]
    }
   ],
   "source": [
    "st = time.time()\n",
    "segments = []\n",
    "for tweet in cleaned_tweets['data']:\n",
    "    segments.extend(TextBlob(tweet['text']).noun_phrases)\n",
    "\n",
    "et = time.time()\n",
    "elapsed_time = et - st\n",
    "print('Execution time:', elapsed_time, 'seconds')\n",
    "print(segments)"
   ]
  },
  {
   "cell_type": "code",
   "execution_count": null,
   "metadata": {
    "collapsed": false,
    "jupyter": {
     "outputs_hidden": false
    },
    "pycharm": {
     "name": "#%%\n"
    }
   },
   "outputs": [],
   "source": []
  }
 ],
 "metadata": {
  "kernelspec": {
   "display_name": "Python 3 (ipykernel)",
   "language": "python",
   "name": "python3"
  },
  "language_info": {
   "codemirror_mode": {
    "name": "ipython",
    "version": 3
   },
   "file_extension": ".py",
   "mimetype": "text/x-python",
   "name": "python",
   "nbconvert_exporter": "python",
   "pygments_lexer": "ipython3",
   "version": "3.8.13"
  }
 },
 "nbformat": 4,
 "nbformat_minor": 4
}