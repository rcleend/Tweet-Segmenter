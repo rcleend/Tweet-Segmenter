{
 "cells": [
  {
   "cell_type": "markdown",
   "id": "62740e1b-f05f-47d0-b1dd-a17b84fa54fa",
   "metadata": {
    "pycharm": {
     "name": "#%% md\n"
    }
   },
   "source": [
    "## Grouping Algorithm\n",
    "- TODO: research valid grouping algorithms\n",
    "- TODO: compare quality results grouping for all segmentation methods with different thresholds"
   ]
  },
  {
   "cell_type": "code",
   "execution_count": 29,
   "outputs": [],
   "source": [
    "from nltk.stem.porter import PorterStemmer\n",
    "from nltk.stem.snowball import SnowballStemmer\n",
    "from hunspell import Hunspell\n",
    "from nltk.stem import WordNetLemmatizer"
   ],
   "metadata": {
    "collapsed": false,
    "pycharm": {
     "name": "#%%\n"
    }
   }
  },
  {
   "cell_type": "code",
   "execution_count": 28,
   "outputs": [
    {
     "name": "stderr",
     "output_type": "stream",
     "text": [
      "[nltk_data] Downloading package wordnet to\n",
      "[nltk_data]     /Users/roelleenders/nltk_data...\n",
      "[nltk_data]   Package wordnet is already up-to-date!\n"
     ]
    },
    {
     "data": {
      "text/plain": "True"
     },
     "execution_count": 28,
     "metadata": {},
     "output_type": "execute_result"
    }
   ],
   "source": [
    "import nltk\n",
    "nltk.download(\"wordnet\")"
   ],
   "metadata": {
    "collapsed": false,
    "pycharm": {
     "name": "#%%\n"
    }
   }
  },
  {
   "cell_type": "code",
   "execution_count": 19,
   "outputs": [],
   "source": [
    "stemmer = PorterStemmer()"
   ],
   "metadata": {
    "collapsed": false,
    "pycharm": {
     "name": "#%%\n"
    }
   }
  },
  {
   "cell_type": "code",
   "execution_count": 22,
   "outputs": [],
   "source": [
    "stemmer = SnowballStemmer(\"english\")"
   ],
   "metadata": {
    "collapsed": false,
    "pycharm": {
     "name": "#%%\n"
    }
   }
  },
  {
   "cell_type": "code",
   "execution_count": 25,
   "outputs": [],
   "source": [
    "stemmer = Hunspell()"
   ],
   "metadata": {
    "collapsed": false,
    "pycharm": {
     "name": "#%%\n"
    }
   }
  },
  {
   "cell_type": "code",
   "execution_count": 30,
   "outputs": [],
   "source": [
    "stemmer = WordNetLemmatizer()"
   ],
   "metadata": {
    "collapsed": false,
    "pycharm": {
     "name": "#%%\n"
    }
   }
  },
  {
   "cell_type": "code",
   "execution_count": 33,
   "id": "a44ebdda-d786-49c1-8059-73c73bdf5165",
   "metadata": {
    "pycharm": {
     "name": "#%%\n"
    }
   },
   "outputs": [],
   "source": [
    "# Method 1: grouping by frequency\n",
    "\n",
    "def group_by_frequency(segments):\n",
    "    grouped_segments = []\n",
    "    grouped_segments_len = 0\n",
    "    \n",
    "    for segment in segments:\n",
    "        # Create stem to group by stem instead\n",
    "        stem = stemmer.lemmatize(segment)\n",
    "\n",
    "        # Add first segment to grouped segments list so it isn't empty\n",
    "        if grouped_segments_len == 0:\n",
    "            grouped_segments.append((segment, stem, 1))\n",
    "            grouped_segments_len += 1\n",
    "            continue\n",
    "\n",
    "        for i, (grouped_segment, grouped_stem, freq) in enumerate(grouped_segments):\n",
    "            # Save index of segment with at least one frequency higher than current segment\n",
    "            if i == 0 or higher_freq > freq:\n",
    "                higher_freq_index = i\n",
    "                higher_freq = freq\n",
    "                \n",
    "            # Update frequency grouped segment when found\n",
    "            if grouped_stem == stem:\n",
    "                freq += 1\n",
    "                entry = (grouped_segment, grouped_stem, freq)\n",
    "                \n",
    "                # Sort grouped segment to higher freq\n",
    "                if higher_freq <= freq:\n",
    "                    grouped_segments.pop(i)\n",
    "                    grouped_segments.insert(higher_freq_index, entry)\n",
    "                else:\n",
    "                    grouped_segments[i] = entry\n",
    "                \n",
    "                break\n",
    "                \n",
    "            # Append grouped segments list if no equal segment has been found\n",
    "            elif i == grouped_segments_len - 1:\n",
    "                grouped_segments.append((segment, stem, 1))\n",
    "                grouped_segments_len += 1\n",
    "            \n",
    "    print(grouped_segments)\n",
    "        \n",
    "        "
   ]
  },
  {
   "cell_type": "code",
   "execution_count": 34,
   "id": "4000685f-019a-4991-8f71-c242f3dae4b1",
   "metadata": {
    "pycharm": {
     "name": "#%%\n"
    }
   },
   "outputs": [
    {
     "name": "stdout",
     "output_type": "stream",
     "text": [
      "[('ukraine', 'ukraine', 91), ('russia', 'russia', 32), ('russian', 'russian', 21), ('war', 'war', 20), ('der', 'der', 20), ('die', 'die', 18), ('putin', 'putin', 14), ('von', 'von', 9), ('des', 'de', 9), ('russland', 'russland', 9), ('ukrainians', 'ukrainian', 8), ('want', 'want', 8), ('das', 'da', 8), ('den', 'den', 8), ('und', 'und', 8), ('les', 'le', 8), ('months', 'month', 8), ('please', 'please', 8), ('skofka', 'skofka', 7), ('ist', 'ist', 7), ('since', 'since', 7), ('see', 'see', 7), ('wie', 'wie', 7), ('says', 'say', 7), ('kalush', 'kalush', 6), ('eine', 'eine', 6), ('called', 'called', 6), ('krieg', 'krieg', 6), ('even', 'even', 6), ('ukraine war', 'ukraine war', 6), ('situation', 'situation', 6), ('today', 'today', 6), ('need', 'need', 6), ('day', 'day', 6), ('got', 'got', 6), ('west', 'west', 6), ('erz', 'erz', 5), ('top', 'top', 5), ('clean', 'clean', 5), ('chico', 'chico', 5), ('qatoshi', 'qatoshi', 5), ('conflict', 'conflict', 5), ('rt russia', 'rt russia', 5), ('begging', 'begging', 5), ('stop', 'stop', 5), ('sending', 'sending', 5), ('auf', 'auf', 5), ('students', 'student', 5), ('russian invasion', 'russian invasion', 5), ('well', 'well', 5), ('people', 'people', 5), ('man', 'man', 5), ('dont', 'dont', 5), ('leaders', 'leader', 5), ('zelensky', 'zelensky', 5), ('using', 'using', 5), ('already', 'already', 5), ('poutine', 'poutine', 5), ('every', 'every', 5), ('german', 'german', 5), ('stand', 'stand', 5), ('interview', 'interview', 5), ('look', 'look', 5), ('wird', 'wird', 5), ('milliarden', 'milliarden', 5), ('via', 'via', 5), ('que', 'que', 4), ('hour', 'hour', 4), ('reach', 'reach', 4), ('sie', 'sie', 4), ('losses', 'loss', 4), ('haben', 'haben', 4), ('mit', 'mit', 4), ('medien', 'medien', 4), ('killed', 'killed', 4), ('report', 'report', 4), ('countries', 'country', 4), ('nazi', 'nazi', 4), ('update', 'update', 4), ('belarus', 'belarus', 4), ('reuters', 'reuters', 4), ('global', 'global', 4), ('events', 'event', 4), ('costs', 'cost', 4), ('launch', 'launch', 4), ('call', 'call', 4), ('amp', 'amp', 4), ('cant', 'cant', 4), ('nicht', 'nicht', 4), ('ich', 'ich', 4), ('collective', 'collective', 4), ('purposefully', 'purposefully', 4), ('destroying', 'destroying', 4), ('european security', 'european security', 4), ('system', 'system', 4), ('think', 'think', 4), ('missiles', 'missile', 4), ('theres', 'there', 4), ('weapons', 'weapon', 4), ('kill', 'kill', 4), ('soldiers', 'soldier', 4), ('new', 'new', 4), ('energy', 'energy', 4), ('supplies', 'supply', 4), ('still', 'still', 4), ('pathetic', 'pathetic', 4), ('thing', 'thing', 4), ('embassies', 'embassy', 4), ('weap', 'weap', 4), ('video', 'video', 4), ('aug', 'aug', 4), ('ago', 'ago', 4), ('thousands', 'thousand', 4), ('african', 'african', 4), ('fled', 'fled', 4), ('following', 'following', 4), ('documented', 'documented', 4), ('governments', 'government', 4), ('taken', 'taken', 4), ('wenn', 'wenn', 4), ('talks', 'talk', 4), ('world', 'world', 4), ('said', 'said', 4), ('france', 'france', 4), ('germany', 'germany', 4), ('make', 'make', 4), ('victory', 'victory', 4), ('state', 'state', 4), ('ont', 'ont', 4), ('going', 'going', 4), ('clear', 'clear', 4), ('read', 'read', 4), ('article', 'article', 4), ('go back', 'go back', 4), ('recent', 'recent', 4), ('swiss radio', 'swiss radio', 4), ('broadcaster', 'broadcaster', 4), ('srf', 'srf', 4), ('incorruptibles', 'incorruptibles', 4), ('kyiv independent', 'kyiv independent', 4), ('euro', 'euro', 4), ('likely', 'likely', 4), ('explosions', 'explosion', 4), ('help', 'help', 4), ('played', 'played', 3), ('thread', 'thread', 3), ('conflit', 'conflit', 3), ('mehr', 'mehr', 3), ('former', 'former', 3), ('offer', 'offer', 3), ('know', 'know', 3), ('galloping inflation', 'galloping inflation', 3), ('result', 'result', 3), ('excessive', 'excessive', 3), ('money printing', 'money printing', 3), ('central banks', 'central banks', 3), ('new coronavirus', 'new coronavirus', 3), ('cases', 'case', 3), ('past', 'past', 3), ('cross mark', 'cross mark', 3), ('first time', 'first time', 3), ('mid', 'mid', 3), ('march', 'march', 3), ('started', 'started', 3), ('white', 'white', 3), ('body bags', 'body bags', 3), ('company', 'company', 3), ('money', 'money', 3), ('verluste', 'verluste', 3), ('gooood', 'gooood', 3), ('morning', 'morning', 3), ('one day closer', 'one day closer', 3), ('bis', 'bi', 3), ('zum', 'zum', 3), ('download', 'download', 3), ('lot', 'lot', 3), ('seit', 'seit', 3), ('hlen', 'hlen', 3), ('tollsten', 'tollsten', 3), ('armee', 'armee', 3), ('erde', 'erde', 3), ('unbesiegbar', 'unbesiegbar', 3), ('uns', 'un', 3), ('hlt', 'hlt', 3), ('hat', 'hat', 3), ('ber', 'ber', 3), ('wollen', 'wollen', 3), ('pres', 'pres', 3), ('chief', 'chief', 3), ('streitkr', 'streitkr', 3), ('fte', 'fte', 3), ('threatened', 'threatened', 3), ('definitely', 'definitely', 3), ('maybe', 'maybe', 3), ('use', 'use', 3), ('getting', 'getting', 3), ('endanger', 'endanger', 3), ('region', 'region', 3), ('armed forces', 'armed forces', 3), ('climate change', 'climate change', 3), ('august', 'august', 3), ('pour', 'pour', 3), ('avec', 'avec', 3), ('enleo', 'enleo', 3), ('nous', 'nous', 3), ('february', 'february', 3), ('men', 'men', 3), ('decision', 'decision', 3), ('become', 'become', 3), ('together', 'together', 3), ('nuclear', 'nuclear', 3), ('tension', 'tension', 3), ('amid', 'amid', 3), ('austria', 'austria', 3), ('attack', 'attack', 3), ('major', 'major', 3), ('hold', 'hold', 3), ('single', 'single', 3), ('rome', 'rome', 3), ('pandemic', 'pandemic', 3), ('wonder', 'wonder', 3), ('high', 'high', 3), ('perfil', 'perfil', 3), ('autor', 'autor', 3), ('demand', 'demand', 3), ('peace', 'peace', 3), ('pushing', 'pushing', 3), ('idiot', 'idiot', 3), ('deeper', 'deeper', 3), ('sage', 'sage', 3), ('dass', 'das', 3), ('military', 'military', 3), ('nach', 'nach', 3), ('dem', 'dem', 3), ('aus', 'au', 3), ('zur', 'zur', 3), ('covid', 'covid', 3), ('many', 'many', 3), ('politicians', 'politician', 3), ('kann', 'kann', 3), ('sein', 'sein', 3), ('leadership', 'leadership', 3), ('strikes', 'strike', 3), ('crimea', 'crimea', 3), ('guerre', 'guerre', 3), ('excellente', 'excellente', 3), ('border', 'border', 3), ('making', 'making', 3), ('take', 'take', 3), ('decades', 'decade', 3), ('biden', 'biden', 3), ('returned', 'returned', 3), ('pay', 'pay', 3), ('destroy', 'destroy', 3), ('everything', 'everything', 3), ('president', 'president', 3), ('deutschlands', 'deutschland', 3), ('gas', 'gas', 3), ('failing', 'failing', 3), ('croatia', 'croatia', 3), ('like', 'like', 3), ('show', 'show', 3), ('chinas', 'china', 3), ('angegriffen', 'angegriffen', 3), ('unter', 'unter', 3), ('son', 'son', 3), ('prisoner', 'prisoner', 3), ('mother', 'mother', 3), ('russian soldier', 'russian soldier', 3), ('also', 'also', 3), ('support', 'support', 3), ('source', 'source', 3), ('one', 'one', 3), ('diplomats', 'diplomat', 3), ('mentioned', 'mentioned', 3), ('join', 'join', 3), ('jeunes', 'jeunes', 3), ('side', 'side', 3), ('choose', 'choose', 3), ('hier', 'hier', 3), ('drop', 'drop', 3), ('terrorism', 'terrorism', 3), ('done', 'done', 3), ('res', 're', 3), ('qui', 'qui', 3), ('western', 'western', 3), ('firmly', 'firmly', 3), ('stated', 'stated', 3), ('olig', 'olig', 3), ('feels like', 'feels like', 3), ('bigger', 'bigger', 3), ('news', 'news', 3), ('confessed', 'confessed', 3), ('entire', 'entire', 3), ('civilian population', 'civilian population', 3), ('hum', 'hum', 3), ('zaporizhzhia oblast', 'zaporizhzhia oblast', 3), ('fall', 'fall', 3), ('years', 'year', 3), ('keep', 'keep', 3), ('sent', 'sent', 3), ('soviet', 'soviet', 3), ('normal', 'normal', 3), ('egal', 'egal', 3), ('neben', 'neben', 3), ('ihm', 'ihm', 3), ('holocaust', 'holocaust', 3), ('geleugnet', 'geleugnet', 3), ('berf', 'berf', 3), ('llt', 'llt', 3), ('oder', 'oder', 3), ('hinterzogen', 'hinterzogen', 3), ('werde', 'werde', 3), ('waiting', 'waiting', 3), ('rt uk', 'rt uk', 3), ('intellligence', 'intellligence', 3), ('increasingly', 'increasingly', 3), ('concerned', 'concerned', 3), ('crimea russia', 'crimea russia', 3), ('acknowl', 'acknowl', 3), ('preserve', 'preserve', 3), ('americans', 'american', 3), ('took', 'took', 3), ('macht', 'macht', 3), ('beloved', 'beloved', 3), ('last years', 'last years', 3), ('get even', 'get even', 2), ('junkers', 'junker', 2), ('clerical fascism', 'clerical fascism', 2), ('doctrine', 'doctrine', 2), ('near', 'near', 2), ('shouldnt', 'shouldnt', 2), ('happen', 'happen', 2), ('eu member state', 'eu member state', 2), ('lets', 'let', 2), ('skip', 'skip', 2), ('american politics', 'american politics', 2), ('china japan', 'china japan', 2), ('discussion', 'discussion', 2), ('university', 'university', 2), ('mykolayiv', 'mykolayiv', 2), ('le pr', 'le pr', 2), ('et le', 'et le', 2), ('indien', 'indien', 2), ('convenu', 'convenu', 2), ('travailler', 'travailler', 2), ('ensemble', 'ensemble', 2), ('prenne', 'prenne', 2), ('fin', 'fin', 2), ('deux', 'deux', 2), ('dirigeants', 'dirigeants', 2), ('ihr', 'ihr', 2), ('gef', 'gef', 2), ('habt', 'habt', 2), ('beim', 'beim', 2), ('ganz', 'ganz', 2), ('date', 'date', 2), ('ein', 'ein', 2), ('kurzer', 'kurzer', 2), ('din', 'din', 2), ('doubtful', 'doubtful', 2), ('youve', 'youve', 2), ('garland', 'garland', 2), ('flying', 'flying', 2), ('flag', 'flag', 2), ('gave', 'gave', 2), ('away', 'away', 2), ('naive', 'naive', 2), ('gullible', 'gullible', 2), ('simple', 'simple', 2), ('comes', 'come', 2), ('climate', 'climate', 2), ('protest', 'protest', 2), ('protesters', 'protester', 2), ('inside', 'inside', 2), ('signify', 'signify', 2), ('catastro', 'catastro', 2), ('steven', 'steven', 2), ('sest', 'sest', 2), ('galement', 'galement', 2), ('personnellement', 'personnellement', 2), ('familiaris', 'familiaris', 2), ('fragments', 'fragment', 2), ('prouvent', 'prouvent', 2), ('limplica', 'limplica', 2), ('thats', 'thats', 2), ('superman', 'superman', 2), ('maintenant', 'maintenant', 2), ('il est', 'il est', 2), ('vident', 'vident', 2), ('lop', 'lop', 2), ('ration', 'ration', 2), ('militaire', 'militaire', 2), ('russe', 'russe', 2), ('tait', 'tait', 2), ('justifi', 'justifi', 2), ('une', 'une', 2), ('blame', 'blame', 2), ('living', 'living', 2), ('crisis', 'crisis', 2), ('montre', 'montre', 2), ('tats unis', 'tats unis', 2), ('tentent', 'tentent', 2), ('prolonger', 'prolonger', 2), ('laventure', 'laventure', 2), ('ric', 'ric', 2), ('wagner group', 'wagner group', 2), ('reportedly', 'reportedly', 2), ('carried', 'carried', 2), ('military operations', 'military operations', 2), ('outskirts', 'outskirt', 2), ('bakhmut', 'bakhmut', 2), ('trying', 'trying', 2), ('breaking', 'breaking', 2), ('cyberhackers', 'cyberhackers', 2), ('three', 'three', 2), ('nuclear power', 'nuclear power', 2), ('energoatom', 'energoatom', 2), ('website', 'website', 2), ('schwachsinn', 'schwachsinn', 2), ('ren', 'ren', 2), ('aufgrund', 'aufgrund', 2), ('krieges', 'krieges', 2), ('steigen', 'steigen', 2), ('energiepreise', 'energiepreise', 2), ('wahr', 'wahr', 2), ('vielme', 'vielme', 2), ('whore', 'whore', 2), ('slaves', 'slave', 2), ('respect', 'respect', 2), ('course', 'course', 2), ('lithuanian', 'lithuanian', 2), ('raises', 'raise', 2), ('loitering munitions', 'loitering munitions', 2), ('challenging', 'challenging', 2), ('peninsula', 'peninsula', 2), ('new york times', 'new york times', 2), ('macron', 'macron', 2), ('appelle', 'appelle', 2), ('retrait', 'retrait', 2), ('forces', 'force', 2), ('russes', 'rus', 2), ('de la', 'de la', 2), ('centrale', 'centrale', 2), ('zaporijjia', 'zaporijjia', 2), ('ponse', 'ponse', 2), ('cest', 'cest', 2), ('un general secretary', 'un general secretary', 2), ('antonio guterres', 'antonio guterres', 2), ('erdogan', 'erdogan', 2), ('meet', 'meet', 2), ('thursday', 'thursday', 2), ('lviv', 'lviv', 2), ('latest', 'latest', 2), ('defence intelligence', 'defence intelligence', 2), ('find', 'find', 2), ('respond', 'respond', 2), ('best', 'best', 2), ('killing civilians', 'killing civilians', 2), ('estonian', 'estonian', 2), ('spy', 'spy', 2), ('moscow', 'moscow', 2), ('retaliate', 'retaliate', 2), ('puerto rican independence', 'puerto rican independence', 2), ('activist', 'activist', 2), ('political prisoner', 'political prisoner', 2), ('astute', 'astute', 2), ('geopoli', 'geopoli', 2), ('celebrate', 'celebrate', 2), ('independence day', 'independence day', 2), ('ten days', 'ten days', 2), ('august th', 'august th', 2), ('get ready', 'get ready', 2), ('imagination', 'imagination', 2), ('adaptation', 'adaptation', 2), ('demonstrated', 'demonstrated', 2), ('edge', 'edge', 2), ('break', 'break', 2), ('horrific', 'horrific', 2), ('grinding', 'grinding', 2), ('suffered', 'suffered', 2), ('way', 'way', 2), ('anythi', 'anythi', 2), ('asking', 'asking', 2), ('supposed', 'supposed', 2), ('military drills', 'military drills', 2), ('fail', 'fail', 2), ('deter', 'deter', 2), ('taiwanese', 'taiwanese', 2), ('beach', 'beach', 2), ('goers', 'goer', 2), ('jet', 'jet', 2), ('closer', 'closer', 2), ('sabre rattling', 'sabre rattling', 2), ('neighbour', 'neighbour', 2), ('archiv', 'archiv', 2), ('juni', 'juni', 2), ('juli', 'juli', 2), ('werden', 'werden', 2), ('gegenoffensive', 'gegenoffensive', 2), ('gehen', 'gehen', 2), ('alle', 'alle', 2), ('besetzten', 'besetzten', 2), ('gebiet', 'gebiet', 2), ('macedonia', 'macedonia', 2), ('post', 'post', 2), ('ottoman state', 'ottoman state', 2), ('pass', 'pas', 2), ('post soviet', 'post soviet', 2), ('girls', 'girl', 2), ('tweeting', 'tweeting', 2), ('shiny', 'shiny', 2), ('research', 'research', 2), ('labs', 'lab', 2), ('friends', 'friend', 2), ('ukraine name', 'ukraine name', 2), ('diversity', 'diversity', 2), ('reported', 'reported', 2), ('equipment', 'equipment', 2), ('surpass', 'surpass', 2), ('average', 'average', 2), ('rt news', 'rt news', 2), ('allegedly', 'allegedly', 2), ('showing', 'showing', 2), ('staged', 'staged', 2), ('crisis actors', 'crisis actors', 2), ('climate policy', 'climate policy', 2), ('demo', 'demo', 2), ('founder', 'founder', 2), ('food sustainability', 'food sustainability', 2), ('speaks', 'speaks', 2), ('digit', 'digit', 2), ('global food crisis', 'global food crisis', 2), ('tech help', 'tech help', 2), ('cheev', 'cheev', 2), ('skylerr', 'skylerr', 2), ('kola', 'kola', 2), ('shumei', 'shumei', 2), ('keinen', 'keinen', 2), ('spa', 'spa', 2), ('selbst', 'selbst', 2), ('erleidet', 'erleidet', 2), ('vielleicht', 'vielleicht', 2), ('berlegt', 'berlegt', 2), ('diese', 'diese', 2), ('nationalistische', 'nationalistische', 2), ('jugend', 'jugend', 2), ('nochmal', 'nochmal', 2), ('warum', 'warum', 2), ('ihre', 'ihre', 2), ('br der', 'br der', 2), ('sterben', 'sterben', 2), ('wrote', 'wrote', 2), ('really want', 'really want', 2), ('normal person', 'normal person', 2), ('someone', 'someone', 2), ('elses', 'el', 2), ('children', 'child', 2), ('atacms', 'atacms', 2), ('govts', 'govts', 2), ('willing', 'willing', 2), ('arrangements', 'arrangement', 2), ('affected', 'affected', 2), ('ind', 'ind', 2), ('med', 'med', 2), ('central govt', 'central govt', 2), ('taxesmore', 'taxesmore', 2), ('money laundering', 'money laundering', 2), ('bank accounts', 'bank accounts', 2), ('ter', 'ter', 2), ('gasimporteur', 'gasimporteur', 2), ('ersten', 'ersten', 2), ('halbjahr', 'halbjahr', 2), ('dieses', 'diesis', 2), ('jahres', 'jahres', 2), ('gemacht', 'gemacht', 2), ('nur gut', 'nur gut', 2), ('lfte', 'lfte', 2), ('davon', 'davon', 2), ('ckzuf', 'ckzuf', 2), ('hren', 'hren', 2), ('striking', 'striking', 2), ('occupied ukrainian territory', 'occupied ukrainian territory', 2), ('get right', 'get right', 2), ('traveling', 'traveling', 2), ('poison', 'poison', 2), ('interfere', 'interfere', 2), ('elections', 'election', 2), ('warehouse', 'warehouse', 2), ('sho', 'sho', 2), ('rt online', 'rt online', 2), ('classes', 'class', 2), ('accepted', 'accepted', 2), ('taking', 'taking', 2), ('transfer', 'transfer', 2), ('risky', 'risky', 2), ('online class', 'online class', 2), ('ende', 'ende', 2), ('sommers', 'sommers', 2), ('nnte', 'nnte', 2), ('sich', 'sich', 2), ('fronten', 'fronten', 2), ('dramatisch', 'dramatisch', 2), ('zuspitzen', 'zuspitzen', 2), ('hei', 'hei', 2), ('generalsekret', 'generalsekret', 2), ('guterres', 'guterres', 2), ('rkische', 'rkische', 2), ('pr sident', 'pr sident', 2), ('erdo', 'erdo', 2), ('kiew', 'kiew', 2), ('einem', 'einem', 2), ('diplomatischen', 'diplomatischen', 2), ('weg', 'weg', 2), ('suchen', 'suchen', 2), ('weitere', 'weitere', 2), ('explosionen', 'explosionen', 2), ('krim', 'krim', 2), ('requested', 'requested', 2), ('ready', 'ready', 2), ('invading', 'invading', 2), ('ads', 'ad', 2), ('instead', 'instead', 2), ('ukraine flag', 'ukraine flag', 2), ('tweet', 'tweet', 2), ('tune', 'tune', 2), ('pop media', 'pop media', 2), ('ashton', 'ashton', 2), ('kutscher', 'kutscher', 2), ('caught', 'caught', 2), ('surprise', 'surprise', 2), ('passio', 'passio', 2), ('lieber', 'lieber', 2), ('geschossen', 'geschossen', 2), ('konflikt', 'konflikt', 2), ('erst', 'erst', 2), ('angeheizt', 'angeheizt', 2), ('damit', 'damit', 2), ('instabil', 'instabil', 2), ('bleibt', 'bleibt', 2), ('jetzt', 'jetzt', 2), ('annektieren', 'annektieren', 2), ('richtig', 'richtig', 2), ('keine', 'keine', 2), ('schutzmacht', 'schutzmacht', 2), ('donezk', 'donezk', 2), ('luhansk', 'luhansk', 2), ('ukrainische', 'ukrainische', 2), ('angelegenheit', 'angelegenheit', 2), ('wor', 'wor', 2), ('verhandeln', 'verhandeln', 2), ('indicative', 'indicative', 2), ('estimates', 'estimate', 2), ('combat', 'combat', 2), ('according', 'according', 2), ('spoke', 'spoke', 2), ('phone', 'phone', 2), ('facilities', 'facility', 2), ('pourquoi pas', 'pourquoi pas', 2), ('soutenir', 'soutenir', 2), ('washington post', 'washington post', 2), ('intelligence', 'intelligence', 2), ('informed', 'informed', 2), ('last', 'last', 2), ('october', 'october', 2), ('intentions', 'intention', 2), ('heute', 'heute', 2), ('nacht', 'nacht', 2), ('dorf', 'dorf', 2), ('panteleimonovka', 'panteleimonovka', 2), ('einer', 'einer', 2), ('rakete', 'rakete', 2), ('taktischen', 'taktischen', 2), ('raketensystems', 'raketensystems', 2), ('tochka', 'tochka', 2), ('westlichen', 'westlichen', 2), ('schweigen', 'schweigen', 2), ('insanity', 'insanity', 2), ('affair', 'affair', 2), ('dismantled', 'dismantled', 2), ('monument', 'monument', 2), ('part', 'part', 2), ('lib', 'lib', 2), ('something', 'something', 2), ('spanish government', 'spanish government', 2), ('demanding', 'demanding', 2), ('europe', 'europe', 2), ('long time', 'long time', 2), ('prime minister', 'prime minister', 2), ('pedro sanchez', 'pedro sanchez', 2), ('saying', 'saying', 2), ('russophobic', 'russophobic', 2), ('sympathizers', 'sympathizer', 2), ('blatantly', 'blatantly', 2), ('order', 'order', 2), ('destruction', 'destruction', 2), ('save', 'save', 2), ('big', 'big', 2), ('problem', 'problem', 2), ('evidence', 'evidence', 2), ('genocide', 'genocide', 2), ('outside', 'outside', 2), ('russian propaganda', 'russian propaganda', 2), ('channels', 'channel', 2), ('azov', 'azov', 2), ('militia', 'militia', 2), ('reason', 'reason', 2), ('rape', 'rape', 2), ('innocent', 'innocent', 2), ('civilians', 'civilian', 2), ('brain', 'brain', 2), ('vomit', 'vomit', 2), ('given', 'given', 2), ('bitcoin', 'bitcoin', 2), ('dip', 'dip', 2), ('expectations', 'expectation', 2), ('another', 'another', 2), ('run', 'run', 2), ('btc', 'btc', 2), ('price', 'price', 2), ('prayer', 'prayer', 2), ('gary moore', 'gary moore', 2), ('dir', 'dir', 2), ('reminder', 'reminder', 2), ('russianldnr', 'russianldnr', 2), ('units', 'unit', 2), ('obsolete', 'obsolete', 2), ('tanks', 'tank', 2), ('older', 'older', 2), ('models', 'model', 2), ('pulled', 'pulled', 2), ('storage', 'storage', 2), ('objective', 'objective', 2), ('exists', 'exists', 2), ('capacity', 'capacity', 2), ('remember', 'remember', 2), ('achieving', 'achieving', 2), ('army', 'army', 2), ('continue', 'continue', 2), ('shell', 'shell', 2), ('districts', 'district', 2), ('sumy', 'sumy', 2), ('general staff', 'general staff', 2), ('morning report', 'morning report', 2), ('genji', 'genji', 2), ('seeks', 'seek', 2), ('balance', 'balance', 2), ('kosovo', 'kosovo', 2), ('auch', 'auch', 2), ('schmutzige', 'schmutzige', 2), ('wahrheit', 'wahrheit', 2), ('teppich', 'teppich', 2), ('gekehrt', 'gekehrt', 2), ('extremnews', 'extremnews', 2), ('intricate', 'intricate', 2), ('web', 'web', 2), ('energy supply', 'energy supply', 2), ('hugely', 'hugely', 2), ('disrupted', 'disrupted', 2), ('finding', 'finding', 2), ('suppliers', 'supplier', 2), ('top priority', 'top priority', 2), ('eclipsing', 'eclipsing', 2), ('indonesian president', 'indonesian president', 2), ('joko widodo', 'joko widodo', 2), ('tuesday', 'tuesday', 2), ('hailed', 'hailed', 2), ('growing', 'growing', 2), ('stature', 'stature', 2), ('stage', 'stage', 2), ('reiterated', 'reiterated', 2), ('southeast asian', 'southeast asian', 2), ('nation', 'nation', 2), ('bridge', 'bridge', 2), ('russia ukraine', 'russia ukraine', 2), ('journaleux', 'journaleux', 2), ('politicards', 'politicards', 2), ('carton', 'carton', 2), ('arr', 'arr', 2), ('tez', 'tez', 2), ('prendre', 'prendre', 2), ('vres', 'vres', 2), ('sait', 'sait', 2), ('manu chao', 'manu chao', 2), ('playamane', 'playamane', 2), ('nateki', 'nateki', 2), ('alyona alyona', 'alyona alyona', 2), ('jerry heil', 'jerry heil', 2), ('ela', 'ela', 2), ('lost', 'lost', 2), ('himars', 'himars', 2), ('missile system', 'missile system', 2), ('full scale', 'full scale', 2), ('defense', 'defense', 2), ('mini', 'mini', 2), ('rt ce', 'rt ce', 2), ('mec', 'mec', 2), ('clique', 'clique', 2), ('sont', 'sont', 2), ('danger', 'danger', 2), ('pour le monde', 'pour le monde', 2), ('avait', 'avait', 2), ('venu', 'venu', 2), ('couillons', 'couillons', 2), ('doccidentaux', 'doccidentaux', 2), ('animal shelter', 'animal shelter', 2), ('dogs cats', 'dogs cats', 2), ('need help', 'need help', 2), ('raising', 'raising', 2), ('funds', 'fund', 2), ('food', 'food', 2), ('animals', 'animal', 2), ('paypal', 'paypal', 2), ('launched', 'launched', 2), ('massive', 'massive', 2), ('onslaught', 'onslaught', 2), ('tribute', 'tribute', 2), ('heroic', 'heroic', 2), ('women', 'woman', 2), ('market', 'market', 2), ('biggest', 'biggest', 2), ('rise', 'rise', 2), ('foreign workers', 'foreign workers', 2), ('covid pandemic', 'covid pandemic', 2), ('fertiliser', 'fertiliser', 2), ('firm', 'firm', 2), ('eurochem', 'eurochem', 2), ('asks', 'asks', 2), ('bondholders', 'bondholder', 2), ('postpone', 'postpone', 2), ('debt', 'debt', 2), ('payments', 'payment', 2), ('cfo', 'cfo', 2), ('confident', 'confident', 2), ('correct', 'correct', 2), ('profitable', 'profitable', 2), ('liberals', 'liberal', 2), ('brought', 'brought', 2), ('path', 'path', 2), ('accession', 'accession', 2), ('united states', 'united states', 2), ('successfully', 'successfully', 2), ('tests', 'test', 2), ('capable', 'capable', 2), ('ballistic missile', 'ballistic missile', 2), ('twice', 'twice', 2), ('postponing', 'postponing', 2), ('avoid', 'avoid', 2), ('fueling', 'fueling', 2), ('taiwan', 'taiwan', 2), ('watch', 'watch', 2), ('hope', 'hope', 2), ('one step', 'one step', 2), ('enters', 'enters', 2), ('instant', 'instant', 2), ('fly zone', 'fly zone', 2), ('mass strike', 'mass strike', 2), ('target', 'target', 2), ('coming', 'coming', 2), ('across', 'across', 2), ('replace', 'replace', 2), ('nigerian', 'nigerian', 2), ('account', 'account', 2), ('withheld', 'withheld', 2), ('portugal', 'portugal', 2), ('finland', 'finland', 2), ('sweden', 'sweden', 2), ('ireland', 'ireland', 2), ('slovenia', 'slovenia', 2), ('czech republic', 'czech republic', 2), ('poland', 'poland', 2), ('slovakia hungary', 'slovakia hungary', 2), ('italy', 'italy', 2), ('malta', 'malta', 2), ('greece', 'greece', 2), ('romania', 'romania', 2), ('netherlands', 'netherlands', 2), ('bulgaria', 'bulgaria', 2), ('luxembourg', 'luxembourg', 2), ('latvia', 'latvia', 2), ('united kingdom', 'united kingdom', 2), ('denmark', 'denmark', 2), ('lithuania', 'lithuania', 2), ('estonia', 'estonia', 2), ('cyprus', 'cyprus', 2), ('spain', 'spain', 2), ('belgium', 'belgium', 2), ('response', 'response', 2), ('legal', 'legal', 2), ('learn', 'learn', 2), ('shuckworm', 'shuckworm', 2), ('cyber', 'cyber', 2), ('group', 'group', 2), ('launching', 'launching', 2), ('ongoing', 'ongoing', 2), ('hey', 'hey', 2), ('fam', 'fam', 2), ('fortunate', 'fortunate', 2), ('live', 'live', 2), ('moscow russia', 'moscow russia', 2), ('number', 'number', 2), ('came', 'came', 2), ('back', 'back', 2), ('south africa', 'south africa', 2), ('ive', 'ive', 2), ('decided', 'decided', 2), ('start', 'start', 2), ('sharing', 'sharing', 2), ('adventure', 'adventure', 2), ('everyone', 'everyone', 2), ('guys', 'guy', 2), ('lived', 'lived', 2), ('besides', 'besides', 2), ('home country', 'home country', 2), ('player', 'player', 2), ('world history', 'world history', 2), ('still remains', 'still remains', 2), ('true', 'true', 2), ('russian war', 'russian war', 2), ('significant', 'significant', 2), ('present', 'present', 2), ('un chief', 'un chief', 2), ('turkish', 'turkish', 2), ('recep tayyip erdogan', 'recep tayyip erdogan', 2), ('discuss', 'discus', 2), ('solution', 'solution', 2), ('defense minister', 'defense minister', 2), ('contradicted', 'contradicted', 2), ('claims', 'claim', 2), ('propagandists', 'propagandist', 2), ('mlrs', 'mlrs', 2), ('researchers', 'researcher', 2), ('warn', 'warn', 2), ('acute', 'acute', 2), ('food crisis', 'food crisis', 2), ('nigeria', 'nigeria', 2), ('developing nations', 'developing nations', 2), ('nuclear war', 'nuclear war', 2), ('cia cia', 'cia cia', 2), ('cia', 'cia', 2), ('ukr', 'ukr', 2), ('roman law', 'roman law', 2), ('caesar', 'caesar', 2), ('brutus', 'brutus', 2), ('vikings', 'viking', 2), ('attila', 'attila', 2), ('sac', 'sac', 2), ('natural law', 'natural law', 2), ('civil law', 'civil law', 2), ('common law', 'common law', 2), ('either', 'either', 2), ('force majeure', 'force majeure', 2), ('justification', 'justification', 2), ('cheapest', 'cheapest', 2), ('products', 'product', 2), ('cudnt', 'cudnt', 2), ('anything', 'anything', 2), ('merosdetel', 'merosdetel', 2), ('fonodeucrania', 'fonodeucrania', 2), ('blog', 'blog', 2), ('del', 'del', 2), ('facebook', 'facebook', 2), ('twitter', 'twitter', 2), ('paulo', 'paulo', 2), ('faustino', 'faustino', 2), ('thought', 'thought', 2), ('lying', 'lying', 2), ('halfwit', 'halfwit', 2), ('individual', 'individual', 2), ('sovereign nations', 'sovereign nations', 2), ('purchase', 'purchase', 2), ('based', 'based', 2), ('resources', 'resource', 2), ('umbrella organisation', 'umbrella organisation', 2), ('working', 'working', 2), ('hard', 'hard', 2), ('member states', 'member states', 2), ('reduce', 'reduce', 2), ('dependancy', 'dependancy', 2), ('diversify', 'diversify', 2), ('extremely', 'extremely', 2), ('sensible', 'sensible', 2), ('idea', 'idea', 2), ('nato', 'nato', 2), ('contrary', 'contrary', 2), ('nuclear power plants', 'nuclear power plants', 2), ('opens', 'open', 2), ('stalker', 'stalker', 2), ('themed', 'themed', 2), ('supermarket', 'supermarket', 2), ('space', 'space', 2), ('providing', 'providing', 2), ('information war', 'information war', 2), ('orcs', 'orcs', 2), ('autopiloters', 'autopiloters', 2), ('infiltrators', 'infiltrator', 2), ('clamoring', 'clamoring', 2), ('violence', 'violence', 2), ('first call', 'first call', 2), ('agitation', 'agitation', 2), ('rand paul', 'rand paul', 2), ('repeal', 'repeal', 2), ('espionage act', 'espionage act', 2), ('soon', 'soon', 2), ('master', 'master', 2), ('investigation', 'investigation', 2), ('espionage', 'espionage', 2), ('rand', 'rand', 2), ('far', 'far', 2), ('relatively', 'relatively', 2), ('free', 'free', 2), ('push', 'push', 2), ('anti air', 'anti air', 2), ('umbrella', 'umbrella', 2), ('controlled', 'controlled', 2), ('territory', 'territory', 2), ('swath', 'swath', 2), ('direct', 'direct', 2), ('advisorywe', 'advisorywe', 2), ('stuck', 'stuck', 2), ('middle', 'middle', 2), ('form', 'form', 2), ('energie', 'energie', 2), ('sicherer', 'sicherer', 2), ('als', 'al', 2), ('die andere', 'die andere', 2), ('nur', 'nur', 2), ('vermutlich', 'vermutlich', 2), ('kein', 'kein', 2), ('zufall', 'zufall', 2), ('zone', 'zone', 2), ('meeting', 'meeting', 2), ('senior', 'senior', 2), ('political', 'political', 2), ('clearly', 'clearly', 2), ('save us', 'save us', 2), ('please give', 'please give', 2), ('guidelines', 'guideline', 2), ('september', 'september', 2), ('kurz', 'kurz', 2), ('deutschen', 'deutschen', 2), ('einmarsch', 'einmarsch', 2), ('polen', 'polen', 2), ('wikipedia', 'wikipedia', 2), ('chronologie', 'chronologie', 2), ('erschreckend', 'erschreckend', 2), ('oh really', 'oh really', 2), ('brexit', 'brexit', 2), ('recension', 'recension', 2), ('ass', 'as', 2), ('head', 'head', 2), ('turd', 'turd', 2), ('starmer', 'starmer', 2), ('rayner', 'rayner', 2), ('better', 'better', 2), ('get better', 'get better', 2), ('education', 'education', 2), ('nearly', 'nearly', 2), ('began', 'began', 2), ('explore', 'explore', 2), ('potential', 'potential', 2), ('counteroffensive', 'counteroffensive', 2), ('twisted', 'twisted', 2), ('levels', 'level', 2), ('let us', 'let us', 2), ('without', 'without', 2), ('resistance', 'resistance', 2), ('left', 'left', 2), ('corbyn', 'corbyn', 2), ('um himmels willen', 'um himmels willen', 2), ('bei', 'bei', 2), ('diesem', 'diesem', 2), ('nicht auf', 'nicht auf', 2), ('seite', 'seite', 2), ('sondern', 'sondern', 2), ('seiten', 'seiten', 2), ('dikators', 'dikators', 2), ('rders', 'rders', 2), ('gners', 'gners', 2), ('gab', 'gab', 2), ('selten', 'selten', 2), ('einen', 'einen', 2), ('eindeutig', 'eindeutig', 2), ('schuldigen', 'schuldigen', 2), ('benennen', 'benennen', 2), ('konnte', 'konnte', 2), ('expects', 'expects', 2), ('ukrainia', 'ukrainia', 2), ('russian mp', 'russian mp', 2), ('mikhail sheremet', 'mikhail sheremet', 2), ('justify', 'justify', 2), ('cou', 'cou', 2), ('analyse', 'analyse', 2), ('yves', 'yves', 2), ('pozzo di borgo', 'pozzo di borgo', 2), ('bravo', 'bravo', 2), ('nateur', 'nateur', 2), ('dire', 'dire', 2), ('la rit', 'la rit', 2), ('propos', 'propos', 2), ('non', 'non', 2), ('deployed', 'deployed', 2), ('helicopters', 'helicopter', 2), ('aircraft', 'aircraft', 2), ('life', 'life', 2), ('difficult', 'difficult', 2), ('ordinary', 'ordinary', 2), ('parking', 'parking', 2), ('btrs', 'btrs', 2), ('bit', 'bit', 2), ('recklessly', 'recklessly', 2), ('street', 'street', 2), ('city', 'city', 2), ('heart', 'heart', 2), ('aches', 'ache', 2), ('kharkiv', 'kharkiv', 2), ('goalkeeper', 'goalkeeper', 2), ('denys sydorenko', 'denys sydorenko', 2), ('hit training', 'hit training', 2), ('ground', 'ground', 2), ('could', 'could', 2), ('vladimir putin', 'vladimir putin', 2), ('face', 'face', 2), ('nuremberg', 'nuremberg', 2), ('style', 'style', 2), ('tribunal', 'tribunal', 2), ('stunt', 'stunt', 2), ('simulation', 'simulation', 2), ('invasion', 'invasion', 2), ('injures', 'injures', 2), ('gove', 'gove', 2), ('possibly', 'possibly', 2), ('dawn', 'dawn', 2), ('free russia', 'free russia', 2), ('stupid', 'stupid', 2), ('headlines', 'headline', 2), ('distract', 'distract', 2), ('fact', 'fact', 2), ('fucking', 'fucking', 2), ('corrupting', 'corrupting', 2), ('sanctions', 'sanction', 2), ('revenue', 'revenue', 2), ('higher', 'higher', 2), ('invaded', 'invaded', 2), ('share', 'share', 2), ('world economic forum', 'world economic forum', 2), ('control', 'control', 2), ('around', 'around', 2), ('imdt', 'imdt', 2), ('abbott', 'abbott', 2), ('texas', 'texas', 2), ('cause', 'cause', 2), ('damages', 'damage', 2), ('yet', 'yet', 2), ('clarified', 'clarified', 2), ('dzhankoi', 'dzhankoi', 2), ('strategic', 'strategic', 2), ('road', 'road', 2), ('rail junction', 'rail junction', 2), ('tired', 'tired', 2), ('fighting', 'fighting', 2), ('address', 'address', 2), ('volodymyr', 'volodymyr', 2), ('zelensk', 'zelensk', 2), ('freedomforfuture', 'freedomforfuture', 2), ('verzichtet', 'verzichtet', 2), ('russisches', 'russisches', 2), ('leiht', 'leiht', 2), ('ukrain', 'ukrain', 2), ('volunteers', 'volunteer', 2), ('stepping', 'stepping', 2), ('view', 'view', 2), ('comment', 'comment', 2), ('communists', 'communist', 2), ('rich famous', 'rich famous', 2), ('tourists', 'tourist', 2), ('west us', 'west us', 2), ('must', 'must', 2), ('military action', 'military action', 2), ('brd', 'brd', 2), ('rde', 'rde', 2), ('viele', 'viele', 2), ('stunden', 'stunden', 2), ('rden', 'rden', 2), ('die deutschen', 'die deutschen', 2), ('truppen', 'truppen', 2), ('oberbef', 'oberbef', 2), ('win', 'win', 2), ('every day', 'every day', 2), ('war day', 'war day', 2), ('dictatorship', 'dictatorship', 2), ('fight', 'fight', 2), ('free world', 'free world', 2), ('promises', 'promise', 2), ('never', 'never', 2), ('made', 'made', 2), ('gorbachov', 'gorbachov', 2), ('apart', 'apart', 2), ('initial', 'initial', 2), ('negotiations', 'negotiation', 2), ('ukraine nato', 'ukraine nato', 2), ('offered', 'offered', 2), ('vowed', 'vowed', 2), ('veto', 'veto', 2), ('merci', 'merci', 2), ('dieu', 'dieu', 2), ('davoir', 'davoir', 2), ('donn', 'donn', 2), ('comme', 'comme', 2), ('vol', 'vol', 2), ('republicans', 'republican', 2), ('put', 'put', 2), ('record', 'record', 2), ('normalerweise', 'normalerweise', 2), ('bereits', 'bereits', 2), ('hochhalten', 'hochhalten', 2), ('eines', 'eines', 2), ('leeren', 'leeren', 2), ('plakates', 'plakates', 2), ('eingesperrt', 'eingesperrt', 2), ('demonstrieren', 'demonstrieren', 2), ('russische', 'russische', 2), ('rger', 'rger', 2), ('vor', 'vor', 2), ('botschaften', 'botschaften', 2), ('usa', 'usa', 2), ('gro', 'gro', 2), ('britanniens', 'britanniens', 2), ('gegen', 'gegen', 2), ('waffenlieferungen', 'waffenlieferungen', 2), ('staatlich', 'staatlich', 2), ('organisiertes', 'organisiertes', 2), ('russian admiral', 'russian admiral', 2), ('fleet', 'fleet', 2), ('completr', 'completr', 2), ('fool', 'fool', 2), ('would', 'would', 2), ('complete', 'complete', 2), ('time', 'time', 2), ('sponsor', 'sponsor', 2), ('tag', 'tag', 2), ('get', 'get', 2), ('nom', 'nom', 2), ('toutes', 'toutes', 2), ('perdu', 'perdu', 2), ('leurs', 'leurs', 2), ('enfants', 'enfants', 2), ('ceux', 'ceux', 2), ('les enfants', 'les enfants', 2), ('mutil', 'mutil', 2), ('voudrais', 'voudrais', 2), ('alert', 'alert', 2), ('length', 'length', 2), ('message', 'message', 2), ('generated', 'generated', 2), ('municipal', 'municipal', 2), ('data', 'data', 2), ('check', 'check', 2), ('boot', 'boot', 2), ('chef', 'chef', 2), ('huge', 'huge', 2), ('wagner', 'wagner', 2), ('wiped', 'wiped', 2), ('gdp', 'gdp', 2), ('projected', 'projected', 2), ('next year', 'next year', 2), ('ukrainian economy', 'ukrainian economy', 2), ('shrunk', 'shrunk', 2), ('congress', 'congress', 2), ('allow', 'allow', 2), ('inspector general', 'inspector general', 2), ('track', 'track', 2), ('billions', 'billion', 2), ('dollars', 'dollar', 2), ('encore', 'encore', 2), ('un crime', 'un crime', 2), ('brilliant', 'brilliant', 2), ('ukraine genocide', 'ukraine genocide', 2), ('rooted', 'rooted', 2), ('impunity', 'impunity', 2), ('crimes', 'crime', 2), ('atlantic', 'atlantic', 2), ('coun', 'coun', 2), ('freed', 'freed', 2), ('imperialist', 'imperialist', 2), ('ambitions', 'ambition', 2), ('dumb', 'dumb', 2), ('scholz', 'scholz', 2), ('wrong', 'wrong', 2), ('possible', 'possible', 2), ('issue', 'issue', 2), ('beg', 'beg', 2), ('differ', 'differ', 2), ('helping', 'helping', 2), ('democracy', 'democracy', 2), ('bombed', 'bombed', 2), ('hunter', 'hunter', 2), ('stuff', 'stuff', 2), ('deflection', 'deflection', 2), ('right', 'right', 2), ('trump', 'trump', 2), ('certainly', 'certainly', 2), ('declassify', 'declassify', 2), ('docs', 'doc', 2), ('trotz', 'trotz', 2), ('lawsuits', 'lawsuit', 1)]\n"
     ]
    }
   ],
   "source": [
    "%store -r segments\n",
    "group_by_frequency(segments)"
   ]
  }
 ],
 "metadata": {
  "kernelspec": {
   "display_name": "Python 3 (ipykernel)",
   "language": "python",
   "name": "python3"
  },
  "language_info": {
   "codemirror_mode": {
    "name": "ipython",
    "version": 3
   },
   "file_extension": ".py",
   "mimetype": "text/x-python",
   "name": "python",
   "nbconvert_exporter": "python",
   "pygments_lexer": "ipython3",
   "version": "3.8.13"
  }
 },
 "nbformat": 4,
 "nbformat_minor": 5
}