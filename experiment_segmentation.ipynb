{
 "cells": [
  {
   "cell_type": "markdown",
   "metadata": {
    "pycharm": {
     "name": "#%% md\n"
    }
   },
   "source": [
    "## Segmentation using Wikipedia Titles"
   ]
  },
  {
   "cell_type": "code",
   "execution_count": 1,
   "metadata": {
    "pycharm": {
     "name": "#%%\n"
    },
    "tags": []
   },
   "outputs": [],
   "source": [
    "from utils.twitter_api import TwitterAPI\n",
    "from utils.cleaner import TweetCleaner\n",
    "from utils.segmenter import SEDTWikSegmenter"
   ]
  },
  {
   "cell_type": "code",
   "execution_count": 2,
   "metadata": {
    "pycharm": {
     "name": "#%%\n"
    }
   },
   "outputs": [
    {
     "name": "stdout",
     "output_type": "stream",
     "text": [
      "Initializing SEDTWik Segmenter\n",
      "SEDTWik Segmenter Ready\n",
      "\n"
     ]
    }
   ],
   "source": [
    "twitter_api = TwitterAPI()\n",
    "tweet_cleaner = TweetCleaner(True, True)\n",
    "tweet_segmenter = SEDTWikSegmenter(wiki_titles_file='data/enwiki-titles-unstemmed-no-stopwords-all.txt')"
   ]
  },
  {
   "cell_type": "code",
   "execution_count": 5,
   "metadata": {
    "pycharm": {
     "name": "#%%\n"
    }
   },
   "outputs": [],
   "source": [
    "tweets = twitter_api.get_tweets('(Ukraine OR Russia) -is:retweet', 100, 2)\n",
    "cleaned_tweets = tweet_cleaner.clean_tweets(tweets)\n"
   ]
  },
  {
   "cell_type": "code",
   "execution_count": 6,
   "metadata": {
    "pycharm": {
     "name": "#%%\n"
    }
   },
   "outputs": [
    {
     "name": "stdout",
     "output_type": "stream",
     "text": [
      "['lawsuits', 'germany', 'well', 'dont', 'get even', 'started', 'junkers', 'clerical fascism', 'doctrine', 'near', 'russia', 'shouldnt', 'happen', 'eu member state', 'lets', 'skip', 'american politics', 'russia', 'china japan', 'discussion', 'university', 'mykolayiv', 'le pr', 'et le', 'indien', 'ont', 'convenu', 'travailler', 'ensemble', 'pour', 'que', 'conflit', 'prenne', 'fin', 'les', 'deux', 'dirigeants', 'wenn', 'ihr', 'das', 'gef', 'habt', 'beim', 'ukraine', 'krieg', 'nicht', 'mehr', 'ganz', 'date', 'sein', 'hier', 'ein', 'kurzer', 'thread', 'zum', 'stand', 'der', 'din', 'doubtful', 'youve', 'played', 'ukraine', 'played', 'garland', 'flying', 'flag', 'gave', 'away', 'naive', 'gullible', 'simple', 'recent', 'interview', 'swiss radio', 'broadcaster', 'srf', 'incorruptibles', 'kyiv independent', 'please', 'look', 'seit', 'erz', 'hlen', 'und', 'die', 'medien', 'von', 'der', 'tollsten', 'armee', 'der', 'erde', 'unbesiegbar', 'haben', 'sie', 'uns', 'erz', 'hlt', 'wie', 'das', 'eine', 'video', 'comes', 'die', 'climate', 'protest', 'austria', 'protesters', 'got', 'inside', 'body bags', 'signify', 'catastro', 'steven', 'sest', 'galement', 'personnellement', 'familiaris', 'avec', 'des', 'fragments', 'missiles', 'qui', 'prouvent', 'limplica', 'thats', 'definitely', 'superman', 'please', 'read', 'thread', 'feels like', 'bigger', 'news', 'zelensky', 'confessed', 'using', 'entire', 'civilian population', 'ukraine', 'hum', 'maintenant', 'il est', 'vident', 'que', 'lop', 'ration', 'militaire', 'russe', 'ukraine', 'tait', 'justifi', 'une', 'excellente', 'cant', 'pandemic', 'war', 'ukraine', 'wonder', 'costs', 'high', 'blame', 'ukraine war', 'cost', 'living', 'crisis', 'covid', 'poutine', 'situation', 'ukraine', 'montre', 'que', 'les', 'tats unis', 'tentent', 'prolonger', 'conflit', 'laventure', 'ric', 'wagner group', 'reportedly', 'carried', 'military operations', 'outskirts', 'bakhmut', 'trying', 'reach', 'done', 'breaking', 'russian', 'cyberhackers', 'launch', 'major', 'three', 'hour', 'attack', 'ukraines', 'state', 'nuclear power', 'company', 'energoatom', 'website', 'ich', 'kann', 'den', 'schwachsinn', 'nicht', 'mehr', 'ren', 'aufgrund', 'des', 'ukraine', 'krieges', 'steigen', 'die', 'energiepreise', 'wahr', 'ist', 'vielme', 'galloping inflation', 'result', 'war', 'ukraine', 'excessive', 'money printing', 'central banks', 'since', 'russia', 'call', 'countries', 'whore', 'slaves', 'respect', 'course', 'lithuanian', 'raises', 'money', 'offer', 'loitering munitions', 'ukraine', 'putin', 'called', 'collective', 'west', 'purposefully', 'destroying', 'european security', 'system', 'need', 'conflict', 'putins', 'war', 'ukraine', 'going', 'months', 'day', 'western', 'leaders', 'firmly', 'stated', 'putins', 'olig', 'ukraine', 'strikes', 'crimea', 'challenging', 'russian', 'hold', 'peninsula', 'new york times', 'gooood', 'morning', 'ukraine', 'one day closer', 'victory', 'guerre', 'ukraine', 'macron', 'appelle', 'retrait', 'des', 'forces', 'russes', 'de la', 'centrale', 'zaporijjia', 'ponse', 'poutine', 'cest', 'ukraine', 'un general secretary', 'antonio guterres', 'zelensky', 'amp', 'erdogan', 'meet', 'thursday', 'lviv', 'latest', 'defence intelligence', 'update', 'situation', 'ukraine', 'august', 'find', 'governments', 'rt russia', 'respond', 'know', 'best', 'killing civilians', 'says', 'former', 'estonian', 'spy', 'chief', 'moscow', 'retaliate', 'article', 'puerto rican independence', 'activist', 'former', 'political prisoner', 'offers', 'astute', 'geopoli', 'ukraine', 'celebrate', 'independence day', 'less', 'ten days', 'august th', 'ukrainians', 'know', 'get ready', 'top', 'ukraine', 'clean', 'skofka', 'war', 'imagination', 'adaptation', 'ukrainians', 'demonstrated', 'edge', 'break', 'galloping inflation', 'result', 'war', 'ukraine', 'excessive', 'money printing', 'central banks', 'since', 'already', 'horrific', 'war', 'keep', 'grinding', 'ukraine', 'ukrainians', 'suffered', 'way', 'anythi', 'new coronavirus', 'cases', 'russia', 'past', 'hours', 'reach', 'cross mark', 'first time', 'since', 'mid', 'march', 'reuters', 'via', 'new coronavirus', 'cases', 'russia', 'past', 'hours', 'reach', 'cross mark', 'first time', 'since', 'mid', 'march', 'asking', 'lot', 'please', 'clear', 'decision', 'supposed', 'situation', 'egal', 'neben', 'ihm', 'der', 'holocaust', 'geleugnet', 'wird', 'russland', 'die', 'ukraine', 'berf', 'llt', 'oder', 'milliarden', 'euro', 'hinterzogen', 'werde', 'chinas', 'new', 'military drills', 'fail', 'deter', 'taiwanese', 'even', 'beach', 'goers', 'jet', 'closer', 'sabre rattling', 'neighbour', 'aus', 'dem', 'archiv', 'von', 'juni', 'bis', 'juli', 'werden', 'die', 'streitkr', 'fte', 'der', 'ukraine', 'eine', 'gegenoffensive', 'gehen', 'alle', 'besetzten', 'gebiet', 'macedonia', 'post', 'ottoman state', 'pass', 'post soviet', 'girls', 'already', 'started', 'tweeting', 'shiny', 'white', 'german', 'research', 'labs', 'together', 'white', 'friends', 'belarus', 'ukraine name', 'german', 'diversity', 'war', 'ukraine', 'aug', 'reported', 'equipment', 'losses', 'surpass', 'russian', 'losses', 'soldiers', 'killed', 'day', 'average', 'rt news', 'report', 'allegedly', 'showing', 'staged', 'body bags', 'crisis actors', 'ukraine', 'february', 'climate policy', 'demo', 'founder', 'food sustainability', 'company', 'speaks', 'digit', 'global food crisis', 'ukraine', 'climate change', 'tech help', 'top', 'ukraine', 'clean', 'skofka', 'days', 'cheev', 'skylerr', 'chico', 'qatoshi', 'enleo', 'kalush', 'kola', 'kalush', 'chico', 'qatoshi', 'shumei', 'pathetic', 'thing', 'see', 'today', 'russians', 'begging', 'embassies', 'stop', 'sending', 'weap', 'krieg', 'macht', 'keinen', 'spa', 'wenn', 'man', 'selbst', 'verluste', 'erleidet', 'vielleicht', 'berlegt', 'diese', 'nationalistische', 'jugend', 'nochmal', 'warum', 'ihre', 'br der', 'der', 'ukraine', 'sterben', 'already', 'wrote', 'dont', 'really want', 'like', 'normal person', 'someone', 'elses', 'children', 'see', 'war', 'atacms', 'ukraine', 'even', 'state', 'govts', 'willing', 'make', 'arrangements', 'war', 'affected', 'ukraine', 'returned', 'ind', 'med', 'students', 'central govt', 'months', 'ago', 'thousands', 'african', 'students', 'fled', 'ukraine', 'following', 'russian invasion', 'well', 'documented', 'taxesmore', 'money', 'ukraine', 'money laundering', 'politicians', 'bank accounts', 'deutschlands', 'ter', 'gasimporteur', 'hat', 'ersten', 'halbjahr', 'dieses', 'jahres', 'verluste', 'von', 'ber', 'milliarden', 'euro', 'gemacht', 'nur gut', 'die', 'lfte', 'davon', 'ist', 'auf', 'den', 'krieg', 'der', 'zur', 'ckzuf', 'hren', 'ukraine', 'striking', 'deeper', 'russian', 'occupied ukrainian territory', 'get right', 'traveling', 'countries', 'poison', 'people', 'interfere', 'elections', 'destroy', 'weapons', 'warehouse', 'maybe', 'sho', 'ukraine', 'people', 'getting', 'killed', 'russians', 'called', 'report', 'endanger', 'even', 'rt online', 'classes', 'accepted', 'go back', 'ukraine', 'taking', 'transfer', 'risky', 'take', 'online class', 'gooood', 'morning', 'ukraine', 'one day closer', 'victory', 'bis', 'zum', 'ende', 'des', 'sommers', 'nnte', 'sich', 'die', 'situation', 'russland', 'den', 'fronten', 'dramatisch', 'zuspitzen', 'das', 'hei', 'generalsekret', 'guterres', 'und', 'der', 'rkische', 'pr sident', 'erdo', 'wollen', 'mit', 'kiew', 'nach', 'einem', 'diplomatischen', 'weg', 'suchen', 'weitere', 'explosionen', 'auf', 'der', 'krim', 'recent', 'interview', 'swiss radio', 'broadcaster', 'srf', 'incorruptibles', 'kyiv independent', 'please', 'look', 'video', 'requested', 'download', 'ready', 'russia', 'invading', 'ukraine', 'ads', 'still', 'download', 'please', 'use', 'instead', 'ukraine flag', 'makes', 'tweet', 'tune', 'lot', 'pop media', 'ashton', 'kutscher', 'caught', 'surprise', 'interview', 'passio', 'seit', 'erz', 'hlen', 'und', 'die', 'medien', 'von', 'der', 'tollsten', 'armee', 'der', 'erde', 'unbesiegbar', 'haben', 'sie', 'uns', 'erz', 'hlt', 'wie', 'das', 'eine', 'russland', 'hat', 'lieber', 'geschossen', 'den', 'konflikt', 'erst', 'angeheizt', 'damit', 'region', 'instabil', 'bleibt', 'und', 'ukraine', 'jetzt', 'annektieren', 'richtig', 'russland', 'ist', 'keine', 'schutzmacht', 'von', 'donezk', 'und', 'luhansk', 'das', 'ist', 'eine', 'ukrainische', 'angelegenheit', 'wor', 'ber', 'wollen', 'sie', 'also', 'mit', 'russland', 'verhandeln', 'indicative', 'estimates', 'russia', 'combat', 'losses', 'aug', 'according', 'armed forces', 'ukraine', 'pres', 'spoke', 'today', 'pres', 'via', 'phone', 'nuclear', 'facilities', 'threatened', 'stand', 'ukraine', 'pourquoi pas', 'soutenir', 'ukraine', 'update', 'washington post', 'intelligence', 'chiefs', 'diplomats', 'informed', 'biden', 'last', 'october', 'russias', 'intentions', 'heute', 'nacht', 'haben', 'die', 'streitkr', 'fte', 'der', 'ukraine', 'das', 'dorf', 'panteleimonovka', 'mit', 'einer', 'rakete', 'des', 'taktischen', 'raketensystems', 'tochka', 'angegriffen', 'die', 'westlichen', 'medien', 'schweigen', 'insanity', 'affair', 'dismantled', 'monument', 'soviet', 'taken', 'part', 'lib', 'top', 'ukraine', 'clean', 'skofka', 'something', 'spanish government', 'demanding', 'europe', 'long time', 'said', 'prime minister', 'pedro sanchez', 'saying', 'americans', 'russophobic', 'nazi', 'sympathizers', 'threatened', 'blatantly', 'putin', 'order', 'destruction', 'ukraine', 'save', 'west', 'beloved', 'ukraine', 'last years', 'big', 'nazi', 'problem', 'show', 'evidence', 'genocide', 'outside', 'russian propaganda', 'channels', 'azov', 'men', 'militia', 'definitely', 'reason', 'kill', 'rape', 'innocent', 'civilians', 'maybe', 'use', 'brain', 'vomit', 'given', 'ukraine', 'people', 'getting', 'killed', 'russians', 'called', 'report', 'endanger', 'even', 'bitcoin', 'sees', 'dip', 'amid', 'expectations', 'another', 'run', 'btc', 'price', 'drop', 'weapons', 'prayer', 'ukraine', 'gary moore', 'dir', 'pathetic', 'thing', 'see', 'today', 'russians', 'begging', 'embassies', 'stop', 'sending', 'weap', 'reminder', 'russianldnr', 'units', 'using', 'obsolete', 'tanks', 'older', 'models', 'pulled', 'storage', 'ukraine', 'objective', 'exists', 'tension', 'military', 'capacity', 'normal', 'war', 'remember', 'war', 'achieving', 'army', 'continue', 'shell', 'border', 'districts', 'sumy', 'regions', 'general staff', 'armed forces', 'says', 'morning report', 'genji', 'russia', 'seeks', 'balance', 'wie', 'kosovo', 'auch', 'fall', 'der', 'ukraine', 'wird', 'die', 'schmutzige', 'wahrheit', 'unter', 'den', 'teppich', 'gekehrt', 'extremnews', 'die', 'intricate', 'global', 'web', 'energy supply', 'hugely', 'disrupted', 'war', 'ukraine', 'finding', 'new', 'suppliers', 'become', 'many', 'leaders', 'top priority', 'eclipsing', 'climate change', 'august', 'indonesian president', 'joko widodo', 'tuesday', 'hailed', 'country', 'growing', 'stature', 'global', 'stage', 'reiterated', 'calls', 'southeast asian', 'nation', 'bridge', 'peace', 'russia ukraine', 'read', 'les', 'journaleux', 'les', 'politicards', 'carton', 'arr', 'tez', 'nous', 'prendre', 'pour', 'des', 'vres', 'avec', 'sait', 'top', 'ukraine', 'clean', 'skofka', 'days', 'kalush', 'skofka', 'enleo', 'kalush', 'manu chao', 'playamane', 'nateki', 'chico', 'qatoshi', 'chico', 'qatoshi', 'kalush', 'skofka', 'alyona alyona', 'jerry heil', 'ela', 'ukraine', 'lost', 'single', 'himars', 'missile system', 'full scale', 'war', 'russia', 'says', 'ukrainian', 'defense', 'mini', 'rt ce', 'mec', 'clique', 'nazis', 'sont', 'danger', 'pour le monde', 'poutine', 'nous', 'avait', 'venu', 'les', 'couillons', 'doccidentaux', 'animal shelter', 'dogs cats', 'need help', 'raising', 'funds', 'food', 'animals', 'paypal', 'rt russia', 'launched', 'massive', 'onslaught', 'ukraine', 'february', 'pay', 'tribute', 'heroic', 'men', 'amp', 'women', 'market', 'update', 'sees', 'biggest', 'rise', 'foreign workers', 'since', 'covid pandemic', 'fertiliser', 'firm', 'eurochem', 'asks', 'bondholders', 'postpone', 'debt', 'payments', 'cfo', 'confident', 'taken', 'correct', 'decisions', 'become', 'profitable', 'source', 'reuters', 'together', 'liberals', 'brought', 'path', 'accession', 'needs', 'help', 'join', 'united states', 'successfully', 'tests', 'nuclear', 'capable', 'ballistic missile', 'twice', 'postponing', 'launch', 'avoid', 'fueling', 'tensions', 'amid', 'ukraine war', 'taiwan', 'conflict', 'watch', 'hope', 'one step', 'belarus', 'enters', 'war', 'instant', 'fly zone', 'mass strike', 'target', 'ukraine', 'coming', 'across', 'belarus', 'looks', 'replace', 'gas', 'russia', 'nigerian', 'supplies', 'reuters', 'account', 'withheld', 'portugal', 'finland', 'sweden', 'ireland', 'slovenia', 'czech republic', 'poland', 'slovakia hungary', 'italy', 'malta', 'germany', 'greece', 'romania', 'netherlands', 'bulgaria', 'austria', 'luxembourg', 'latvia', 'united kingdom', 'denmark', 'lithuania', 'croatia', 'estonia', 'cyprus', 'france', 'spain', 'belgium', 'response', 'legal', 'demand', 'learn', 'russia', 'shuckworm', 'cyber', 'group', 'launching', 'ongoing', 'attacks', 'hey', 'fam', 'fortunate', 'live', 'moscow russia', 'number', 'years', 'came', 'back', 'south africa', 'ive', 'decided', 'want', 'start', 'sharing', 'russian', 'adventure', 'everyone', 'guys', 'lived', 'besides', 'home country', 'russia', 'major', 'player', 'events', 'world history', 'still remains', 'true', 'russian war', 'ukraine', 'one', 'significant', 'global', 'events', 'present', 'un chief', 'hold', 'talks', 'president', 'turkish', 'leader', 'recep tayyip erdogan', 'discuss', 'solution', 'defense minister', 'contradicted', 'claims', 'propagandists', 'single', 'mlrs', 'researchers', 'warn', 'acute', 'food crisis', 'nigeria', 'developing nations', 'event', 'russia', 'nuclear war', 'cia cia', 'cia', 'russia', 'ukr', 'roman law', 'every', 'caesar', 'theres', 'brutus', 'every', 'rome', 'theres', 'vikings', 'attila', 'sac', 'rome', 'natural law', 'civil law', 'common law', 'either', 'force majeure', 'justification', 'got', 'cheapest', 'energy', 'products', 'russia', 'decades', 'still', 'cudnt', 'anything', 'cant', 'pandemic', 'war', 'ukraine', 'wonder', 'costs', 'high', 'merosdetel', 'fonodeucrania', 'blog', 'del', 'autor', 'perfil', 'facebook', 'perfil', 'twitter', 'autor', 'paulo', 'faustino', 'thought', 'lying', 'halfwit', 'individual', 'sovereign nations', 'purchase', 'energy', 'based', 'resources', 'demands', 'umbrella organisation', 'working', 'hard', 'member states', 'reduce', 'dependancy', 'russia', 'diversify', 'supply', 'want', 'talk', 'son', 'prisoner', 'ukraine', 'mother', 'russian soldier', 'want', 'putin', 'called', 'collective', 'west', 'purposefully', 'destroying', 'european security', 'system', 'need', 'conflict', 'extremely', 'sensible', 'idea', 'nato', 'pushing', 'peace', 'ukraine', 'contrary', 'pushing', 'rt russia', 'launches', 'missiles', 'ukraine', 'nuclear power plants', 'ukraine', 'opens', 'stalker', 'themed', 'supermarket', 'idiot', 'space', 'providing', 'information war', 'russian', 'orcs', 'support', 'idiots', 'calls', 'autopiloters', 'amp', 'infiltrators', 'clamoring', 'violence', 'first call', 'agitation', 'rand paul', 'said', 'wants', 'repeal', 'espionage act', 'soon', 'master', 'investigation', 'espionage', 'rand', 'far', 'russia', 'relatively', 'free', 'push', 'anti air', 'umbrella', 'deeper', 'ukrainian', 'controlled', 'territory', 'making', 'swath', 'want', 'direct', 'advisorywe', 'stuck', 'middle', 'war', 'cant', 'ich', 'sage', 'nicht', 'dass', 'eine', 'form', 'von', 'energie', 'sicherer', 'ist', 'als', 'die andere', 'ich', 'sage', 'nur', 'ist', 'vermutlich', 'kein', 'zufall', 'dass', 'ukraine war', 'zone', 'think', 'help', 'meeting', 'senior', 'military', 'political', 'leadership', 'putin', 'called', 'collective', 'west', 'purposefully', 'destroying', 'european security', 'system', 'need', 'conflict', 'clearly', 'mentioned', 'ukraine', 'save us', 'go back', 'please give', 'guidelines', 'september', 'kurz', 'nach', 'dem', 'deutschen', 'einmarsch', 'polen', 'aus', 'wikipedia', 'zur', 'chronologie', 'von', 'erschreckend', 'oh really', 'brexit', 'covid', 'ukraine', 'recension', 'ass', 'got', 'head', 'think', 'turd', 'starmer', 'rayner', 'better', 'get better', 'education', 'nearly', 'months', 'since', 'russian invasion', 'began', 'today', 'explore', 'ukraine', 'potential', 'counteroffensive', 'twisted', 'many', 'levels', 'let us', 'kill', 'ukrainians', 'without', 'resistance', 'every', 'left', 'politician', 'corbyn', 'wie', 'um himmels willen', 'kann', 'man', 'bei', 'diesem', 'krieg', 'nicht auf', 'der', 'seite', 'der', 'ukraine', 'sondern', 'auf', 'seiten', 'des', 'dikators', 'rders', 'gners', 'putins', 'sein', 'gab', 'selten', 'einen', 'krieg', 'man', 'eindeutig', 'den', 'schuldigen', 'benennen', 'konnte', 'everything', 'ukraine', 'even', 'russian', 'leadership', 'expects', 'ukrainia', 'russian mp', 'mikhail sheremet', 'says', 'ukraines', 'strikes', 'crimea', 'justify', 'putins', 'war', 'ukrainian', 'terrorism', 'cou', 'guerre', 'ukraine', 'excellente', 'analyse', 'yves', 'pozzo di borgo', 'bravo', 'nateur', 'dire', 'la rit', 'propos', 'non', 'res', 'rt russia', 'deployed', 'helicopters', 'aircraft', 'borders', 'ukraine', 'russian', 'soldiers', 'making', 'life', 'difficult', 'ordinary', 'russians', 'parking', 'btrs', 'bit', 'recklessly', 'street', 'city', 'heart', 'aches', 'think', 'kharkiv', 'says', 'goalkeeper', 'denys sydorenko', 'missile', 'hit training', 'ground', 'theres', 'could', 'russias', 'vladimir putin', 'face', 'nuremberg', 'style', 'tribunal', 'ukraine war', 'via', 'stunt', 'simulation', 'putins', 'invasion', 'ukraine', 'take', 'russia', 'russians', 'begging', 'stop', 'sending', 'weapons', 'ukraine', 'kills', 'injures', 'russian', 'soldiers', 'gove', 'possibly', 'dawn', 'new', 'free russia', 'months', 'ago', 'thousands', 'african', 'students', 'fled', 'ukraine', 'following', 'russian invasion', 'well', 'documented', 'stupid', 'headlines', 'dont', 'distract', 'fact', 'fucking', 'russians', 'corrupting', 'ukraine', 'decades', 'biden', 'sanctions', 'failing', 'russia', 'energy', 'revenue', 'higher', 'invaded', 'ukraine', 'supply', 'share', 'world', 'governments', 'world economic forum', 'control', 'ukraine war', 'around', 'months', 'still', 'clear', 'stand', 'situation', 'returned', 'ukraine', 'imdt', 'russia', 'pay', 'abbott', 'destroy', 'texas', 'pathetic', 'thing', 'see', 'today', 'russians', 'begging', 'embassies', 'stop', 'sending', 'weap', 'cause', 'explosions', 'damages', 'yet', 'clarified', 'dzhankoi', 'strategic', 'road', 'rail junction', 'zelensky', 'need', 'everything', 'russia', 'tired', 'fighting', 'video', 'address', 'president', 'volodymyr', 'zelensk', 'freedomforfuture', 'aug', 'deutschland', 'verzichtet', 'die', 'ukraine', 'auf', 'russisches', 'gas', 'und', 'leiht', 'der', 'ukrain', 'months', 'ago', 'thousands', 'african', 'students', 'fled', 'ukraine', 'following', 'russian invasion', 'well', 'documented', 'volunteers', 'ukraine', 'stepping', 'government', 'failing', 'view', 'comment', 'communists', 'rich famous', 'tourists', 'croatia', 'like', 'west us', 'must', 'show', 'military action', 'world', 'taken', 'china', 'russia', 'wenn', 'die', 'brd', 'von', 'russland', 'angegriffen', 'rde', 'wie', 'die', 'ukraine', 'wie', 'viele', 'stunden', 'rden', 'die deutschen', 'truppen', 'unter', 'oberbef', 'want', 'talk', 'son', 'prisoner', 'ukraine', 'mother', 'russian soldier', 'want', 'ukraine', 'win', 'side', 'every day', 'war day', 'also', 'dictatorship', 'fight', 'free world', 'france', 'world', 'supports', 'promises', 'never', 'made', 'gorbachov', 'people', 'said', 'apart', 'russian', 'sources', 'one', 'german', 'diplomat', 'says', 'mentioned', 'initial', 'negotiations', 'ukraine nato', 'offered', 'join', 'france', 'germany', 'vowed', 'veto', 'merci', 'dieu', 'davoir', 'donn', 'des', 'jeunes', 'comme', 'jeunes', 'vol', 'war', 'going', 'choose', 'side', 'make', 'republicans', 'choose', 'russia', 'put', 'record', 'normalerweise', 'wird', 'man', 'russland', 'bereits', 'das', 'hochhalten', 'eines', 'leeren', 'plakates', 'eingesperrt', 'hier', 'demonstrieren', 'russische', 'rger', 'vor', 'den', 'botschaften', 'der', 'usa', 'und', 'gro', 'britanniens', 'gegen', 'waffenlieferungen', 'die', 'ukraine', 'staatlich', 'organisiertes', 'russian admiral', 'took', 'fleet', 'completr', 'fool', 'likely', 'russia', 'would', 'complete', 'victory', 'time', 'drop', 'state', 'sponsor', 'terrorism', 'tag', 'russia', 'waiting', 'get', 'done', 'nom', 'toutes', 'les', 'res', 'qui', 'ont', 'perdu', 'leurs', 'enfants', 'ceux', 'dont', 'les enfants', 'ont', 'mutil', 'voudrais', 'rt uk', 'intellligence', 'russia', 'likely', 'increasingly', 'concerned', 'explosions', 'crimea russia', 'ukraine', 'acknowl', 'putins', 'war', 'ukraine', 'going', 'months', 'day', 'western', 'leaders', 'firmly', 'stated', 'putins', 'olig', 'feels like', 'bigger', 'news', 'zelensky', 'confessed', 'using', 'entire', 'civilian population', 'ukraine', 'hum', 'clear', 'zaporizhzhia oblast', 'zaporizhzhia oblast', 'alert', 'length', 'message', 'generated', 'using', 'municipal', 'data', 'check', 'sent', 'article', 'boot', 'ukraine', 'got', 'putins', 'chef', 'huge', 'wagner', 'got', 'wiped', 'russian', 'gdp', 'projected', 'fall', 'year', 'next year', 'ukrainian economy', 'already', 'shrunk', 'congress', 'allow', 'inspector general', 'keep', 'track', 'billions', 'dollars', 'sent', 'ukraine', 'encore', 'un crime', 'poutine', 'please', 'read', 'brilliant', 'article', 'putin', 'ukraine genocide', 'rooted', 'russian', 'impunity', 'soviet', 'crimes', 'atlantic', 'coun', 'go back', 'normal', 'russia', 'freed', 'imperialist', 'ambitions', 'dumb', 'scholz', 'wrong', 'every', 'possible', 'issue', 'germans', 'stand', 'recent', 'interview', 'swiss radio', 'broadcaster', 'srf', 'incorruptibles', 'kyiv independent', 'please', 'look', 'egal', 'neben', 'ihm', 'der', 'holocaust', 'geleugnet', 'wird', 'russland', 'die', 'ukraine', 'berf', 'llt', 'oder', 'milliarden', 'euro', 'hinterzogen', 'werde', 'waiting', 'ukraine', 'rt uk', 'intellligence', 'russia', 'likely', 'increasingly', 'concerned', 'explosions', 'crimea russia', 'ukraine', 'acknowl', 'beg', 'differ', 'helping', 'preserve', 'democracy', 'ukraine', 'helps', 'preserve', 'americans', 'bombed', 'russia', 'hunter', 'stuff', 'deflection', 'right', 'trump', 'certainly', 'declassify', 'docs', 'took', 'der', 'macht', 'trotz', 'milliarden', 'via', 'west', 'beloved', 'ukraine', 'last years']\n",
      "Stored 'segments' (list)\n"
     ]
    }
   ],
   "source": [
    "segments = []\n",
    "for tweet in cleaned_tweets['data']:\n",
    "    segments.extend(tweet_segmenter.tweet_segmentation(tweet))\n",
    "    \n",
    "print(segments)\n",
    "%store segments"
   ]
  },
  {
   "cell_type": "markdown",
   "metadata": {
    "pycharm": {
     "name": "#%% md\n"
    }
   },
   "source": [
    "## Segmentation using NLTK and Stanford NERTagger"
   ]
  },
  {
   "cell_type": "code",
   "execution_count": 13,
   "metadata": {
    "pycharm": {
     "name": "#%%\n"
    }
   },
   "outputs": [],
   "source": [
    "import nltk\n",
    "from nltk.tag import StanfordNERTagger"
   ]
  },
  {
   "cell_type": "code",
   "execution_count": 18,
   "metadata": {
    "pycharm": {
     "name": "#%%\n"
    }
   },
   "outputs": [],
   "source": [
    "st3 = StanfordNERTagger('./classifiers/english.all.3class.distsim.crf.ser.gz', \n",
    "                       './stanford-ner.jar', \n",
    "                       encoding='utf-8') \n",
    "\n",
    "st4 = StanfordNERTagger('./classifiers/english.conll.4class.distsim.crf.ser.gz', \n",
    "                       './stanford-ner.jar', \n",
    "                       encoding='utf-8') \n",
    "\n",
    "st7 = StanfordNERTagger('./classifiers/english.muc.7class.distsim.crf.ser.gz', \n",
    "                       './stanford-ner.jar', \n",
    "                       encoding='utf-8') "
   ]
  },
  {
   "cell_type": "code",
   "execution_count": 26,
   "metadata": {
    "pycharm": {
     "name": "#%%\n"
    }
   },
   "outputs": [
    {
     "name": "stdout",
     "output_type": "stream",
     "text": [
      "[('lawsuits', 'O'), ('eu', 'ORGANIZATION'), ('germany', 'O'), ('well', 'O'), ('dont', 'O'), ('get', 'O'), ('even', 'O'), ('started', 'O'), ('junkers', 'O'), ('clerical', 'O'), ('fascism', 'O'), ('doctrine', 'O'), ('near', 'O'), ('russia', 'LOCATION'), ('shouldnt', 'O'), ('happen', 'O'), ('eu', 'O'), ('member', 'O'), ('state', 'O')]\n",
      "[('lets', 'O'), ('skip', 'O'), ('american', 'O'), ('politics', 'O'), ('russia', 'LOCATION'), ('china', 'O'), ('japan', 'O'), ('discussion', 'O')]\n",
      "[('rt', 'O'), ('university', 'O'), ('mykolayiv', 'O')]\n",
      "[('rt', 'O'), ('le', 'O'), ('pr', 'O'), ('et', 'O'), ('le', 'O'), ('pm', 'O'), ('indien', 'O'), ('ont', 'O'), ('convenu', 'O'), ('de', 'O'), ('travailler', 'O'), ('ensemble', 'O'), ('pour', 'O'), ('que', 'O'), ('le', 'O'), ('conflit', 'O'), ('en', 'O'), ('prenne', 'O'), ('fin', 'O'), ('les', 'O'), ('deux', 'O'), ('dirigeants', 'O'), ('se', 'O')]\n",
      "[('rt', 'O'), ('wenn', 'O'), ('ihr', 'O'), ('das', 'O'), ('gef', 'O'), ('hl', 'O'), ('habt', 'O'), ('beim', 'O'), ('ukraine', 'LOCATION'), ('krieg', 'O'), ('nicht', 'O'), ('mehr', 'O'), ('ganz', 'O'), ('date', 'O'), ('zu', 'O'), ('sein', 'O'), ('hier', 'O'), ('ein', 'O'), ('kurzer', 'O'), ('thread', 'O'), ('zum', 'O'), ('stand', 'O'), ('der', 'O'), ('din', 'O')]\n",
      "[('doubtful', 'O'), ('youve', 'O'), ('played', 'O'), ('ukraine', 'O'), ('played', 'O'), ('garland', 'O'), ('flying', 'O'), ('flag', 'O'), ('gave', 'O'), ('away', 'O'), ('naive', 'O'), ('gullible', 'O'), ('simple', 'O')]\n",
      "[('rt', 'O'), ('recent', 'O'), ('interview', 'O'), ('swiss', 'O'), ('radio', 'O'), ('broadcaster', 'O'), ('srf', 'O'), ('incorruptibles', 'O'), ('kyiv', 'O'), ('independent', 'O'), ('please', 'O'), ('look', 'O')]\n",
      "[('rt', 'O'), ('seit', 'O'), ('erz', 'O'), ('hlen', 'O'), ('und', 'O'), ('die', 'O'), ('medien', 'O'), ('von', 'O'), ('der', 'O'), ('tollsten', 'O'), ('armee', 'O'), ('der', 'O'), ('erde', 'O'), ('unbesiegbar', 'O'), ('haben', 'O'), ('sie', 'O'), ('uns', 'O'), ('erz', 'O'), ('hlt', 'O'), ('wie', 'O'), ('das', 'O'), ('eine', 'O')]\n",
      "[('rt', 'O'), ('video', 'O'), ('comes', 'O'), ('die', 'O'), ('climate', 'O'), ('protest', 'O'), ('austria', 'O'), ('protesters', 'O'), ('got', 'O'), ('inside', 'O'), ('body', 'O'), ('bags', 'O'), ('signify', 'O'), ('catastro', 'O')]\n",
      "[('rt', 'O'), ('steven', 'O'), ('sest', 'O'), ('galement', 'O'), ('personnellement', 'O'), ('familiaris', 'O'), ('avec', 'O'), ('des', 'O'), ('fragments', 'O'), ('de', 'O'), ('missiles', 'O'), ('qui', 'O'), ('prouvent', 'O'), ('limplica', 'O')]\n",
      "[('rt', 'O'), ('thats', 'O'), ('definitely', 'O'), ('superman', 'O'), ('please', 'O'), ('read', 'O'), ('thread', 'O')]\n",
      "[('rt', 'O'), ('feels', 'O'), ('like', 'O'), ('bigger', 'O'), ('news', 'O'), ('zelensky', 'O'), ('confessed', 'O'), ('using', 'O'), ('entire', 'O'), ('civilian', 'O'), ('population', 'O'), ('ukraine', 'O'), ('hum', 'O')]\n",
      "[('rt', 'O'), ('maintenant', 'O'), ('il', 'O'), ('est', 'O'), ('tr', 'O'), ('vident', 'O'), ('que', 'O'), ('lop', 'O'), ('ration', 'O'), ('militaire', 'O'), ('russe', 'O'), ('en', 'O'), ('ukraine', 'LOCATION'), ('tait', 'O'), ('justifi', 'O'), ('et', 'O'), ('une', 'O'), ('excellente', 'O')]\n",
      "[('rt', 'O'), ('cant', 'O'), ('pandemic', 'O'), ('war', 'O'), ('ukraine', 'O'), ('wonder', 'O'), ('costs', 'O'), ('high', 'O')]\n",
      "[('blame', 'O'), ('ukraine', 'O'), ('war', 'O'), ('cost', 'O'), ('living', 'O'), ('crisis', 'O'), ('covid', 'O')]\n",
      "[('rt', 'O'), ('poutine', 'O'), ('la', 'O'), ('situation', 'O'), ('en', 'O'), ('ukraine', 'LOCATION'), ('montre', 'O'), ('que', 'O'), ('les', 'O'), ('tats', 'O'), ('unis', 'O'), ('tentent', 'O'), ('de', 'O'), ('prolonger', 'O'), ('ce', 'O'), ('conflit', 'O'), ('laventure', 'O'), ('ric', 'O')]\n",
      "[('rt', 'O'), ('wagner', 'O'), ('group', 'O'), ('reportedly', 'O'), ('carried', 'O'), ('military', 'O'), ('operations', 'O'), ('outskirts', 'O'), ('bakhmut', 'O'), ('trying', 'O'), ('reach', 'O'), ('done', 'O')]\n",
      "[('rt', 'O'), ('breaking', 'O'), ('russian', 'O'), ('cyberhackers', 'O'), ('launch', 'O'), ('major', 'O'), ('three', 'O'), ('hour', 'O'), ('attack', 'O'), ('ukraines', 'O'), ('state', 'O'), ('nuclear', 'O'), ('power', 'O'), ('company', 'O'), ('energoatom', 'O'), ('website', 'O')]\n",
      "[('rt', 'O'), ('ich', 'O'), ('kann', 'O'), ('den', 'O'), ('schwachsinn', 'O'), ('nicht', 'O'), ('mehr', 'O'), ('ren', 'O'), ('aufgrund', 'O'), ('des', 'O'), ('ukraine', 'O'), ('krieges', 'O'), ('steigen', 'O'), ('die', 'O'), ('energiepreise', 'O'), ('wahr', 'O'), ('ist', 'O'), ('vielme', 'O')]\n",
      "[('rt', 'O'), ('galloping', 'O'), ('inflation', 'O'), ('result', 'O'), ('war', 'O'), ('ukraine', 'O'), ('excessive', 'O'), ('money', 'O'), ('printing', 'O'), ('central', 'O'), ('banks', 'O'), ('since', 'O')]\n",
      "[('russia', 'O'), ('call', 'O'), ('countries', 'O'), ('whore', 'O'), ('slaves', 'O'), ('respect', 'O'), ('course', 'O')]\n",
      "[('lithuanian', 'O'), ('tv', 'O'), ('raises', 'O'), ('money', 'O'), ('offer', 'O'), ('loitering', 'O'), ('munitions', 'O'), ('ukraine', 'LOCATION')]\n",
      "[('rt', 'O'), ('putin', 'O'), ('called', 'O'), ('collective', 'O'), ('west', 'O'), ('purposefully', 'O'), ('destroying', 'O'), ('european', 'O'), ('security', 'O'), ('system', 'O'), ('need', 'O'), ('conflict', 'O')]\n",
      "[('rt', 'O'), ('putins', 'O'), ('war', 'O'), ('ukraine', 'O'), ('going', 'O'), ('months', 'O'), ('day', 'O'), ('western', 'O'), ('leaders', 'O'), ('firmly', 'O'), ('stated', 'O'), ('putins', 'O'), ('olig', 'O')]\n",
      "[('rt', 'O'), ('ukraine', 'O'), ('strikes', 'O'), ('crimea', 'O'), ('challenging', 'O'), ('russian', 'O'), ('hold', 'O'), ('peninsula', 'O'), ('new', 'O'), ('york', 'O'), ('times', 'O')]\n",
      "[('rt', 'O'), ('gooood', 'O'), ('morning', 'O'), ('ukraine', 'O'), ('one', 'O'), ('day', 'O'), ('closer', 'O'), ('victory', 'O')]\n",
      "[('rt', 'O'), ('guerre', 'O'), ('en', 'O'), ('ukraine', 'LOCATION'), ('macron', 'O'), ('appelle', 'O'), ('au', 'O'), ('retrait', 'O'), ('des', 'O'), ('forces', 'O'), ('russes', 'O'), ('de', 'O'), ('la', 'O'), ('centrale', 'O'), ('de', 'O'), ('zaporijjia', 'O'), ('ponse', 'O'), ('de', 'O'), ('poutine', 'O'), ('cest', 'O')]\n",
      "[('ukraine', 'O'), ('un', 'O'), ('general', 'O'), ('secretary', 'O'), ('antonio', 'O'), ('guterres', 'O'), ('zelensky', 'O'), ('amp', 'O'), ('erdogan', 'O'), ('meet', 'O'), ('thursday', 'DATE'), ('lviv', 'O')]\n",
      "[('rt', 'O'), ('latest', 'O'), ('defence', 'O'), ('intelligence', 'O'), ('update', 'O'), ('situation', 'O'), ('ukraine', 'O'), ('august', 'DATE'), ('find', 'O'), ('uk', 'O'), ('governments', 'O')]\n",
      "[('rt', 'O'), ('russia', 'LOCATION'), ('respond', 'O'), ('know', 'O'), ('best', 'O'), ('killing', 'O'), ('civilians', 'O'), ('says', 'O'), ('former', 'O'), ('estonian', 'O'), ('spy', 'O'), ('chief', 'O'), ('moscow', 'O'), ('retaliate', 'O')]\n",
      "[('rt', 'O'), ('article', 'O'), ('puerto', 'O'), ('rican', 'O'), ('independence', 'O'), ('activist', 'O'), ('former', 'O'), ('political', 'O'), ('prisoner', 'O'), ('us', 'O'), ('offers', 'O'), ('astute', 'O'), ('geopoli', 'O')]\n",
      "[]\n",
      "[('rt', 'O'), ('ukraine', 'O'), ('celebrate', 'O'), ('independence', 'O'), ('day', 'O'), ('less', 'O'), ('ten', 'DATE'), ('days', 'DATE'), ('august', 'DATE'), ('th', 'O'), ('ukrainians', 'O'), ('know', 'O'), ('get', 'O'), ('ready', 'O')]\n",
      "[('top', 'O'), ('ukraine', 'LOCATION'), ('clean', 'O'), ('skofka', 'O')]\n",
      "[('rt', 'O'), ('war', 'O'), ('imagination', 'O'), ('adaptation', 'O'), ('ukrainians', 'O'), ('demonstrated', 'O'), ('edge', 'O'), ('break', 'O'), ('ba', 'O')]\n",
      "[('rt', 'O'), ('galloping', 'O'), ('inflation', 'O'), ('result', 'O'), ('war', 'O'), ('ukraine', 'O'), ('excessive', 'O'), ('money', 'O'), ('printing', 'O'), ('central', 'O'), ('banks', 'O'), ('since', 'O')]\n",
      "[('rt', 'O'), ('already', 'O'), ('horrific', 'O'), ('war', 'O'), ('keep', 'O'), ('grinding', 'O'), ('ukraine', 'O'), ('ukrainians', 'O'), ('suffered', 'O'), ('way', 'O'), ('anythi', 'O')]\n",
      "[('new', 'O'), ('coronavirus', 'O'), ('cases', 'O'), ('russia', 'LOCATION'), ('past', 'O'), ('hours', 'O'), ('reach', 'O'), ('cross', 'O'), ('mark', 'O'), ('first', 'O'), ('time', 'O'), ('since', 'O'), ('mid', 'O'), ('march', 'O'), ('reuters', 'O'), ('via', 'O')]\n",
      "[('new', 'O'), ('coronavirus', 'O'), ('cases', 'O'), ('russia', 'LOCATION'), ('past', 'O'), ('hours', 'O'), ('reach', 'O'), ('cross', 'O'), ('mark', 'O'), ('first', 'O'), ('time', 'O'), ('since', 'O'), ('mid', 'O'), ('march', 'O')]\n",
      "[('rt', 'O'), ('asking', 'O'), ('lot', 'O'), ('please', 'O'), ('clear', 'O'), ('decision', 'O'), ('supposed', 'O'), ('situation', 'O'), ('st', 'O')]\n",
      "[('rt', 'O'), ('egal', 'O'), ('ob', 'O'), ('neben', 'O'), ('ihm', 'O'), ('der', 'O'), ('holocaust', 'O'), ('geleugnet', 'O'), ('wird', 'O'), ('russland', 'O'), ('die', 'O'), ('ukraine', 'O'), ('berf', 'O'), ('llt', 'O'), ('oder', 'O'), ('milliarden', 'O'), ('euro', 'O'), ('hinterzogen', 'O'), ('werde', 'O')]\n",
      "[('rt', 'O'), ('chinas', 'O'), ('new', 'O'), ('military', 'O'), ('drills', 'O'), ('fail', 'O'), ('deter', 'O'), ('taiwanese', 'O'), ('even', 'O'), ('beach', 'O'), ('goers', 'O'), ('jet', 'O'), ('closer', 'O'), ('sabre', 'O'), ('rattling', 'O'), ('neighbour', 'O')]\n",
      "[('rt', 'O'), ('aus', 'O'), ('dem', 'O'), ('archiv', 'O'), ('von', 'O'), ('juni', 'PERSON'), ('bis', 'PERSON'), ('juli', 'PERSON'), ('werden', 'PERSON'), ('die', 'O'), ('streitkr', 'O'), ('fte', 'O'), ('der', 'O'), ('ukraine', 'O'), ('eine', 'O'), ('gegenoffensive', 'O'), ('gehen', 'O'), ('alle', 'O'), ('besetzten', 'O'), ('gebiet', 'O')]\n",
      "[('macedonia', 'O'), ('post', 'O'), ('ottoman', 'O'), ('state', 'O'), ('pass', 'O'), ('post', 'O'), ('soviet', 'O'), ('girls', 'O'), ('already', 'O'), ('started', 'O'), ('tweeting', 'O'), ('shiny', 'O'), ('white', 'O'), ('german', 'O'), ('research', 'O'), ('labs', 'O'), ('together', 'O'), ('white', 'O'), ('friends', 'O'), ('belarus', 'O'), ('ukraine', 'O'), ('name', 'O'), ('german', 'O'), ('diversity', 'O')]\n",
      "[('rt', 'O'), ('war', 'O'), ('ukraine', 'LOCATION'), ('aug', 'O'), ('reported', 'O'), ('equipment', 'O'), ('losses', 'O'), ('surpass', 'O'), ('russian', 'O'), ('losses', 'O'), ('soldiers', 'O'), ('killed', 'O'), ('day', 'O'), ('average', 'O')]\n",
      "[('rt', 'O'), ('news', 'O'), ('report', 'O'), ('allegedly', 'O'), ('showing', 'O'), ('staged', 'O'), ('body', 'O'), ('bags', 'O'), ('crisis', 'O'), ('actors', 'O'), ('ukraine', 'O'), ('february', 'DATE'), ('climate', 'O'), ('policy', 'O'), ('demo', 'O')]\n",
      "[('rt', 'O')]\n",
      "[('founder', 'O'), ('food', 'O'), ('sustainability', 'O'), ('company', 'O'), ('speaks', 'O'), ('digit', 'O'), ('global', 'O'), ('food', 'O'), ('crisis', 'O'), ('ukraine', 'O'), ('climate', 'O'), ('change', 'O'), ('tech', 'O'), ('help', 'O')]\n",
      "[('top', 'O'), ('ukraine', 'LOCATION'), ('clean', 'O'), ('skofka', 'O'), ('days', 'O'), ('cheev', 'O'), ('skylerr', 'O'), ('chico', 'O'), ('qatoshi', 'O'), ('enleo', 'O'), ('kalush', 'O'), ('kola', 'O'), ('kalush', 'O'), ('chico', 'O'), ('qatoshi', 'O'), ('shumei', 'O')]\n",
      "[('rt', 'O'), ('pathetic', 'O'), ('thing', 'O'), ('see', 'O'), ('today', 'O'), ('russians', 'O'), ('begging', 'O'), ('us', 'O'), ('uk', 'O'), ('embassies', 'O'), ('stop', 'O'), ('sending', 'O'), ('weap', 'O')]\n",
      "[('krieg', 'O'), ('macht', 'O'), ('keinen', 'O'), ('spa', 'O'), ('wenn', 'O'), ('man', 'O'), ('selbst', 'O'), ('verluste', 'O'), ('erleidet', 'O'), ('vielleicht', 'O'), ('berlegt', 'O'), ('diese', 'O'), ('nationalistische', 'O'), ('jugend', 'O'), ('nochmal', 'O'), ('warum', 'O'), ('ihre', 'O'), ('br', 'O'), ('der', 'O'), ('der', 'O'), ('ukraine', 'O'), ('sterben', 'O')]\n",
      "[('rt', 'O'), ('already', 'O'), ('wrote', 'O'), ('dont', 'O'), ('really', 'O'), ('want', 'O'), ('like', 'O'), ('normal', 'O'), ('person', 'O'), ('someone', 'O'), ('elses', 'O'), ('children', 'O'), ('see', 'O'), ('war', 'O')]\n",
      "[('rt', 'O')]\n",
      "[]\n",
      "[('rt', 'O'), ('atacms', 'O'), ('ukraine', 'LOCATION')]\n",
      "[('rt', 'O'), ('even', 'O'), ('state', 'O'), ('govts', 'O'), ('willing', 'O'), ('make', 'O'), ('arrangements', 'O'), ('war', 'O'), ('affected', 'O'), ('ukraine', 'LOCATION'), ('returned', 'O'), ('ind', 'O'), ('med', 'O'), ('students', 'O'), ('central', 'O'), ('govt', 'O'), ('nm', 'O')]\n",
      "[('rt', 'O'), ('months', 'O'), ('ago', 'O'), ('thousands', 'O'), ('african', 'O'), ('students', 'O'), ('fled', 'O'), ('ukraine', 'O'), ('following', 'O'), ('russian', 'O'), ('invasion', 'O'), ('well', 'O'), ('documented', 'O'), ('ra', 'O')]\n",
      "[('rt', 'O'), ('taxesmore', 'O'), ('money', 'O'), ('ukraine', 'LOCATION'), ('money', 'O'), ('laundering', 'O'), ('politicians', 'O'), ('bank', 'O'), ('accounts', 'O')]\n",
      "[('deutschlands', 'O'), ('gr', 'O'), ('ter', 'O'), ('gasimporteur', 'O'), ('hat', 'O'), ('im', 'O'), ('ersten', 'O'), ('halbjahr', 'O'), ('dieses', 'O'), ('jahres', 'O'), ('verluste', 'O'), ('von', 'O'), ('ber', 'O'), ('milliarden', 'O'), ('euro', 'O'), ('gemacht', 'O'), ('nur', 'O'), ('gut', 'O'), ('die', 'O'), ('lfte', 'O'), ('davon', 'O'), ('ist', 'O'), ('auf', 'O'), ('den', 'O'), ('krieg', 'O'), ('der', 'O'), ('zur', 'O'), ('ckzuf', 'O'), ('hren', 'O')]\n",
      "[('rt', 'O'), ('ukraine', 'O'), ('striking', 'O'), ('deeper', 'O'), ('russian', 'O'), ('occupied', 'O'), ('ukrainian', 'O'), ('territory', 'O'), ('get', 'O'), ('right', 'O')]\n",
      "[('rt', 'O'), ('traveling', 'O'), ('countries', 'O'), ('poison', 'O'), ('people', 'O'), ('interfere', 'O'), ('elections', 'O'), ('destroy', 'O'), ('weapons', 'O'), ('warehouse', 'O'), ('maybe', 'O'), ('sho', 'O')]\n",
      "[]\n",
      "[('rt', 'O'), ('ukraine', 'O'), ('people', 'O'), ('getting', 'O'), ('killed', 'O'), ('russians', 'O'), ('called', 'O'), ('report', 'O'), ('endanger', 'O'), ('even', 'O')]\n",
      "[('rt', 'O'), ('online', 'O'), ('classes', 'O'), ('accepted', 'O'), ('go', 'O'), ('back', 'O'), ('ukraine', 'O'), ('taking', 'O'), ('transfer', 'O'), ('risky', 'O'), ('take', 'O'), ('online', 'O'), ('class', 'O')]\n",
      "[('rt', 'O'), ('gooood', 'O'), ('morning', 'O'), ('ukraine', 'O'), ('one', 'O'), ('day', 'O'), ('closer', 'O'), ('victory', 'O')]\n",
      "[('rt', 'O'), ('bis', 'O'), ('zum', 'O'), ('ende', 'O'), ('des', 'O'), ('sommers', 'O'), ('nnte', 'O'), ('sich', 'O'), ('die', 'O'), ('situation', 'O'), ('russland', 'O'), ('den', 'O'), ('fronten', 'O'), ('dramatisch', 'O'), ('zuspitzen', 'O'), ('das', 'O'), ('hei', 'ORGANIZATION'), ('ir', 'O')]\n",
      "[('un', 'O'), ('generalsekret', 'O'), ('guterres', 'O'), ('und', 'O'), ('der', 'O'), ('rkische', 'O'), ('pr', 'O'), ('sident', 'O'), ('erdo', 'O'), ('wollen', 'O'), ('mit', 'O'), ('kiew', 'O'), ('nach', 'PERSON'), ('einem', 'PERSON'), ('diplomatischen', 'PERSON'), ('weg', 'PERSON'), ('suchen', 'O'), ('weitere', 'O'), ('explosionen', 'O'), ('auf', 'O'), ('der', 'O'), ('krim', 'O')]\n",
      "[('rt', 'O'), ('recent', 'O'), ('interview', 'O'), ('swiss', 'O'), ('radio', 'O'), ('broadcaster', 'O'), ('srf', 'O'), ('incorruptibles', 'O'), ('kyiv', 'O'), ('independent', 'O'), ('please', 'O'), ('look', 'O')]\n",
      "[('video', 'O'), ('requested', 'O'), ('download', 'O'), ('ready', 'O'), ('russia', 'LOCATION'), ('invading', 'O'), ('ukraine', 'O'), ('ads', 'O'), ('still', 'O'), ('download', 'O'), ('please', 'O'), ('use', 'O'), ('instead', 'O')]\n",
      "[('ukraine', 'O'), ('flag', 'O'), ('makes', 'O'), ('tweet', 'O')]\n",
      "[('rt', 'O'), ('tune', 'O'), ('lot', 'O'), ('pop', 'O'), ('media', 'O'), ('ashton', 'O'), ('kutscher', 'O'), ('caught', 'O'), ('surprise', 'O'), ('interview', 'O'), ('passio', 'O')]\n",
      "[('rt', 'O'), ('seit', 'O'), ('erz', 'O'), ('hlen', 'O'), ('und', 'O'), ('die', 'O'), ('medien', 'O'), ('von', 'O'), ('der', 'O'), ('tollsten', 'O'), ('armee', 'O'), ('der', 'O'), ('erde', 'O'), ('unbesiegbar', 'O'), ('haben', 'O'), ('sie', 'O'), ('uns', 'O'), ('erz', 'O'), ('hlt', 'O'), ('wie', 'O'), ('das', 'O'), ('eine', 'O')]\n",
      "[('rt', 'O')]\n",
      "[('rt', 'O')]\n",
      "[('russland', 'O'), ('hat', 'O'), ('lieber', 'O'), ('geschossen', 'O'), ('den', 'O'), ('konflikt', 'O'), ('erst', 'O'), ('angeheizt', 'O'), ('damit', 'O'), ('region', 'O'), ('instabil', 'O'), ('bleibt', 'O'), ('und', 'O'), ('ukraine', 'LOCATION'), ('jetzt', 'O'), ('annektieren', 'O'), ('richtig', 'O'), ('russland', 'O'), ('ist', 'O'), ('keine', 'O'), ('schutzmacht', 'O'), ('von', 'O'), ('donezk', 'O'), ('und', 'O'), ('luhansk', 'O'), ('das', 'O'), ('ist', 'O'), ('eine', 'O'), ('ukrainische', 'O'), ('angelegenheit', 'O'), ('wor', 'O'), ('ber', 'O'), ('wollen', 'O'), ('sie', 'O'), ('also', 'O'), ('mit', 'O'), ('russland', 'O'), ('verhandeln', 'O')]\n",
      "[('rt', 'O'), ('indicative', 'O'), ('estimates', 'O'), ('russia', 'LOCATION'), ('combat', 'O'), ('losses', 'O'), ('aug', 'O'), ('according', 'O'), ('armed', 'O'), ('forces', 'O'), ('ukraine', 'LOCATION')]\n",
      "[('rt', 'O'), ('pres', 'O'), ('spoke', 'O'), ('today', 'O'), ('pres', 'O'), ('via', 'O'), ('phone', 'O'), ('nuclear', 'O'), ('facilities', 'O'), ('threatened', 'O')]\n",
      "[('stand', 'O'), ('ukraine', 'LOCATION'), ('pourquoi', 'O'), ('pas', 'O'), ('soutenir', 'O'), ('ukraine', 'LOCATION')]\n",
      "[('rt', 'O'), ('update', 'O'), ('washington', 'O'), ('post', 'O'), ('intelligence', 'O'), ('chiefs', 'O'), ('diplomats', 'O'), ('informed', 'O'), ('biden', 'O'), ('last', 'O'), ('october', 'DATE'), ('russias', 'O'), ('intentions', 'O'), ('go', 'O')]\n",
      "[('heute', 'O'), ('nacht', 'O'), ('haben', 'O'), ('die', 'O'), ('streitkr', 'O'), ('fte', 'O'), ('der', 'O'), ('ukraine', 'O'), ('das', 'O'), ('dorf', 'O'), ('panteleimonovka', 'O'), ('mit', 'O'), ('einer', 'O'), ('rakete', 'O'), ('des', 'O'), ('taktischen', 'O'), ('raketensystems', 'O'), ('tochka', 'O'), ('angegriffen', 'O'), ('die', 'O'), ('westlichen', 'O'), ('medien', 'O'), ('schweigen', 'O')]\n",
      "[('rt', 'O'), ('insanity', 'O'), ('affair', 'O'), ('dismantled', 'O'), ('monument', 'O'), ('soviet', 'O'), ('taken', 'O'), ('part', 'O'), ('lib', 'O')]\n",
      "[('top', 'O'), ('ukraine', 'LOCATION'), ('clean', 'O'), ('skofka', 'O')]\n",
      "[('something', 'O'), ('spanish', 'O'), ('government', 'O'), ('demanding', 'O'), ('europe', 'O'), ('long', 'O'), ('time', 'O'), ('said', 'O'), ('prime', 'O'), ('minister', 'O'), ('pedro', 'O'), ('sanchez', 'O')]\n",
      "[('saying', 'O'), ('americans', 'O'), ('russophobic', 'O'), ('nazi', 'O'), ('sympathizers', 'O'), ('threatened', 'O'), ('blatantly', 'O'), ('putin', 'O'), ('order', 'O'), ('destruction', 'O'), ('ukraine', 'O'), ('save', 'O')]\n",
      "[('rt', 'O'), ('west', 'O'), ('beloved', 'O'), ('ukraine', 'O'), ('last', 'O'), ('years', 'O')]\n",
      "[('big', 'O'), ('nazi', 'O'), ('problem', 'O'), ('show', 'O'), ('evidence', 'O'), ('genocide', 'O'), ('outside', 'O'), ('russian', 'O'), ('propaganda', 'O'), ('channels', 'O'), ('azov', 'O'), ('men', 'O'), ('militia', 'O'), ('definitely', 'O'), ('reason', 'O'), ('kill', 'O'), ('rape', 'O'), ('innocent', 'O'), ('civilians', 'O'), ('maybe', 'O'), ('use', 'O'), ('brain', 'O'), ('vomit', 'O'), ('given', 'O')]\n",
      "[('rt', 'O'), ('ukraine', 'O'), ('people', 'O'), ('getting', 'O'), ('killed', 'O'), ('russians', 'O'), ('called', 'O'), ('report', 'O'), ('endanger', 'O'), ('even', 'O')]\n",
      "[('bitcoin', 'O'), ('sees', 'O'), ('dip', 'O'), ('amid', 'O'), ('expectations', 'O'), ('another', 'O'), ('run', 'O'), ('btc', 'O'), ('price', 'O')]\n",
      "[('rt', 'O'), ('drop', 'O'), ('weapons', 'O'), ('prayer', 'O'), ('ukraine', 'LOCATION'), ('gary', 'O'), ('moore', 'O'), ('dir', 'O')]\n",
      "[('rt', 'O'), ('pathetic', 'O'), ('thing', 'O'), ('see', 'O'), ('today', 'O'), ('russians', 'O'), ('begging', 'O'), ('us', 'O'), ('uk', 'O'), ('embassies', 'O'), ('stop', 'O'), ('sending', 'O'), ('weap', 'O')]\n",
      "[('rt', 'O'), ('reminder', 'O'), ('russianldnr', 'O'), ('units', 'O'), ('using', 'O'), ('obsolete', 'O'), ('tanks', 'O'), ('older', 'O'), ('models', 'O'), ('pulled', 'O'), ('storage', 'O'), ('ukraine', 'LOCATION')]\n",
      "[('rt', 'O'), ('objective', 'O'), ('exists', 'O'), ('tension', 'O'), ('military', 'O'), ('capacity', 'O'), ('normal', 'O'), ('war', 'O'), ('remember', 'O'), ('war', 'O'), ('achieving', 'O')]\n",
      "[('army', 'O'), ('continue', 'O'), ('shell', 'O'), ('border', 'O'), ('districts', 'O'), ('sumy', 'O'), ('regions', 'O'), ('general', 'O'), ('staff', 'O'), ('armed', 'O'), ('forces', 'O'), ('says', 'O'), ('morning', 'O'), ('report', 'O')]\n",
      "[('genji', 'O'), ('russia', 'LOCATION'), ('seeks', 'O'), ('balance', 'O')]\n",
      "[('wie', 'O'), ('im', 'O'), ('kosovo', 'O'), ('auch', 'O'), ('im', 'O'), ('fall', 'O'), ('der', 'O'), ('ukraine', 'O'), ('wird', 'O'), ('die', 'O'), ('schmutzige', 'O'), ('wahrheit', 'O'), ('unter', 'O'), ('den', 'O'), ('teppich', 'O'), ('gekehrt', 'O'), ('extremnews', 'O'), ('die', 'O')]\n",
      "[('intricate', 'O'), ('global', 'O'), ('web', 'O'), ('energy', 'O'), ('supply', 'O'), ('hugely', 'O'), ('disrupted', 'O'), ('war', 'O'), ('ukraine', 'O'), ('finding', 'O'), ('new', 'O'), ('suppliers', 'O'), ('become', 'O'), ('many', 'O'), ('leaders', 'O'), ('top', 'O'), ('priority', 'O'), ('eclipsing', 'O'), ('climate', 'O'), ('change', 'O'), ('august', 'DATE')]\n",
      "[('indonesian', 'O'), ('president', 'O'), ('joko', 'O'), ('widodo', 'O'), ('tuesday', 'DATE'), ('hailed', 'O'), ('country', 'O'), ('growing', 'O'), ('stature', 'O'), ('global', 'O'), ('stage', 'O'), ('reiterated', 'O'), ('calls', 'O'), ('southeast', 'O'), ('asian', 'O'), ('nation', 'O'), ('bridge', 'O'), ('peace', 'O'), ('russia', 'LOCATION'), ('ukraine', 'LOCATION'), ('read', 'O')]\n",
      "[('rt', 'O'), ('les', 'O'), ('journaleux', 'O'), ('et', 'O'), ('les', 'O'), ('politicards', 'O'), ('en', 'O'), ('carton', 'O'), ('arr', 'O'), ('tez', 'O'), ('de', 'O'), ('nous', 'O'), ('prendre', 'O'), ('pour', 'O'), ('des', 'O'), ('ch', 'O'), ('vres', 'O'), ('avec', 'O'), ('sait', 'O'), ('tr', 'O')]\n",
      "[('top', 'O'), ('ukraine', 'LOCATION'), ('clean', 'O'), ('skofka', 'O'), ('days', 'O'), ('kalush', 'O'), ('skofka', 'O'), ('enleo', 'O'), ('kalush', 'O'), ('manu', 'O'), ('chao', 'O'), ('playamane', 'O'), ('nateki', 'O'), ('chico', 'O'), ('qatoshi', 'O'), ('chico', 'O'), ('qatoshi', 'O'), ('kalush', 'O'), ('skofka', 'O'), ('alyona', 'O'), ('alyona', 'PERSON'), ('jerry', 'PERSON'), ('heil', 'PERSON'), ('ela', 'PERSON')]\n",
      "[('rt', 'O'), ('ukraine', 'O'), ('lost', 'O'), ('single', 'O'), ('himars', 'O'), ('missile', 'O'), ('system', 'O'), ('full', 'O'), ('scale', 'O'), ('war', 'O'), ('russia', 'LOCATION'), ('says', 'O'), ('ukrainian', 'O'), ('defense', 'O'), ('mini', 'O')]\n",
      "[('rt', 'O'), ('ce', 'O'), ('mec', 'O'), ('et', 'O'), ('sa', 'O'), ('clique', 'O'), ('de', 'O'), ('nazis', 'O'), ('sont', 'O'), ('un', 'O'), ('danger', 'O'), ('pour', 'O'), ('le', 'O'), ('monde', 'O'), ('poutine', 'O'), ('nous', 'O'), ('avait', 'O'), ('pr', 'O'), ('venu', 'O'), ('et', 'O'), ('les', 'O'), ('couillons', 'O'), ('doccidentaux', 'O')]\n",
      "[('animal', 'O'), ('shelter', 'O'), ('dogs', 'O'), ('cats', 'O'), ('need', 'O'), ('help', 'O'), ('raising', 'O'), ('funds', 'O'), ('food', 'O'), ('animals', 'O'), ('paypal', 'O')]\n",
      "[('rt', 'O'), ('russia', 'O'), ('launched', 'O'), ('massive', 'O'), ('onslaught', 'O'), ('ukraine', 'O'), ('february', 'DATE'), ('pay', 'O'), ('tribute', 'O'), ('heroic', 'O'), ('men', 'O'), ('amp', 'O'), ('women', 'O')]\n",
      "[('market', 'O'), ('update', 'O'), ('sees', 'O'), ('biggest', 'O'), ('rise', 'O'), ('foreign', 'O'), ('workers', 'O'), ('since', 'O'), ('covid', 'O'), ('pandemic', 'O'), ('fertiliser', 'O'), ('firm', 'O'), ('eurochem', 'O'), ('asks', 'O'), ('bondholders', 'O'), ('postpone', 'O'), ('debt', 'O'), ('payments', 'O'), ('cfo', 'O'), ('confident', 'O'), ('taken', 'O'), ('correct', 'O'), ('decisions', 'O'), ('become', 'O'), ('profitable', 'O'), ('source', 'O'), ('reuters', 'O')]\n",
      "[('rt', 'O'), ('together', 'O'), ('liberals', 'O'), ('brought', 'O'), ('path', 'O'), ('accession', 'O'), ('eu', 'O'), ('needs', 'O'), ('help', 'O'), ('join', 'O'), ('ou', 'O')]\n",
      "[('united', 'O'), ('states', 'O'), ('successfully', 'O'), ('tests', 'O'), ('nuclear', 'O'), ('capable', 'O'), ('ballistic', 'O'), ('missile', 'O'), ('twice', 'O'), ('postponing', 'O'), ('launch', 'O'), ('avoid', 'O'), ('fueling', 'O'), ('tensions', 'O'), ('amid', 'O'), ('ukraine', 'O'), ('war', 'O'), ('taiwan', 'O'), ('conflict', 'O'), ('watch', 'O')]\n",
      "[('hope', 'O'), ('one', 'O'), ('step', 'O'), ('belarus', 'O'), ('enters', 'O'), ('war', 'O'), ('instant', 'O'), ('fly', 'O'), ('zone', 'O'), ('mass', 'O'), ('strike', 'O'), ('target', 'O'), ('ukraine', 'O'), ('coming', 'O'), ('across', 'O'), ('belarus', 'O')]\n",
      "[('eu', 'O'), ('looks', 'O'), ('replace', 'O'), ('gas', 'O'), ('russia', 'LOCATION'), ('nigerian', 'O'), ('supplies', 'O'), ('reuters', 'O')]\n",
      "[('account', 'O'), ('withheld', 'O'), ('portugal', 'LOCATION'), ('finland', 'LOCATION'), ('sweden', 'LOCATION'), ('ireland', 'LOCATION'), ('slovenia', 'LOCATION'), ('czech', 'O'), ('republic', 'O'), ('poland', 'LOCATION'), ('slovakia', 'LOCATION'), ('hungary', 'LOCATION'), ('italy', 'O'), ('malta', 'LOCATION'), ('germany', 'LOCATION'), ('greece', 'O'), ('romania', 'LOCATION'), ('netherlands', 'O'), ('bulgaria', 'LOCATION'), ('austria', 'LOCATION'), ('luxembourg', 'LOCATION'), ('latvia', 'LOCATION'), ('united', 'O'), ('kingdom', 'O'), ('denmark', 'LOCATION'), ('lithuania', 'LOCATION'), ('croatia', 'LOCATION'), ('estonia', 'LOCATION'), ('cyprus', 'O'), ('france', 'LOCATION'), ('spain', 'LOCATION'), ('belgium', 'O'), ('response', 'O'), ('legal', 'O'), ('demand', 'O'), ('learn', 'O')]\n",
      "[('russia', 'O'), ('shuckworm', 'O'), ('cyber', 'O'), ('group', 'O'), ('launching', 'O'), ('ongoing', 'O'), ('attacks', 'O')]\n",
      "[('hey', 'O'), ('fam', 'O'), ('fortunate', 'O'), ('live', 'O'), ('moscow', 'LOCATION'), ('russia', 'LOCATION'), ('number', 'O'), ('years', 'O'), ('came', 'O'), ('back', 'O'), ('south', 'O'), ('africa', 'O'), ('ive', 'O'), ('decided', 'O'), ('want', 'O'), ('start', 'O'), ('sharing', 'O'), ('russian', 'O'), ('adventure', 'O'), ('everyone', 'O'), ('guys', 'O'), ('lived', 'O'), ('besides', 'O'), ('home', 'O'), ('country', 'O')]\n",
      "[('russia', 'O'), ('major', 'O'), ('player', 'O'), ('events', 'O'), ('world', 'O'), ('history', 'O'), ('still', 'O'), ('remains', 'O'), ('true', 'O'), ('russian', 'O'), ('war', 'O'), ('ukraine', 'LOCATION'), ('one', 'O'), ('significant', 'O'), ('global', 'O'), ('events', 'O'), ('present', 'O')]\n",
      "[('un', 'O'), ('chief', 'O'), ('hold', 'O'), ('talks', 'O'), ('president', 'O'), ('turkish', 'O'), ('leader', 'O'), ('recep', 'O'), ('tayyip', 'O'), ('erdogan', 'O'), ('discuss', 'O'), ('solution', 'O')]\n",
      "[('rt', 'O'), ('defense', 'O'), ('minister', 'O'), ('contradicted', 'O'), ('claims', 'O'), ('propagandists', 'O'), ('single', 'O'), ('mlrs', 'O')]\n",
      "[('researchers', 'O'), ('warn', 'O'), ('acute', 'O'), ('food', 'O'), ('crisis', 'O'), ('nigeria', 'LOCATION'), ('developing', 'O'), ('nations', 'O'), ('event', 'O'), ('us', 'O'), ('russia', 'O'), ('nuclear', 'O'), ('war', 'O')]\n",
      "[('rt', 'O'), ('cia', 'ORGANIZATION'), ('cia', 'ORGANIZATION'), ('cia', 'ORGANIZATION'), ('russia', 'O'), ('ukr', 'O')]\n",
      "[('roman', 'O'), ('law', 'O'), ('every', 'O'), ('caesar', 'O'), ('theres', 'O'), ('brutus', 'O'), ('every', 'O'), ('rome', 'O'), ('theres', 'O'), ('vikings', 'O'), ('attila', 'O'), ('sac', 'O'), ('rome', 'O'), ('natural', 'O'), ('law', 'O'), ('civil', 'O'), ('law', 'O'), ('common', 'O'), ('law', 'O'), ('either', 'O'), ('force', 'O'), ('majeure', 'O'), ('justification', 'O'), ('ex', 'O')]\n",
      "[('got', 'O'), ('cheapest', 'O'), ('energy', 'O'), ('products', 'O'), ('russia', 'LOCATION'), ('decades', 'O'), ('still', 'O'), ('cudnt', 'O'), ('anything', 'O')]\n",
      "[('rt', 'O'), ('cant', 'O'), ('pandemic', 'O'), ('war', 'O'), ('ukraine', 'O'), ('wonder', 'O'), ('costs', 'O'), ('high', 'O')]\n",
      "[('merosdetel', 'O'), ('fonodeucrania', 'O'), ('blog', 'O'), ('del', 'O'), ('autor', 'O'), ('perfil', 'O'), ('de', 'O'), ('facebook', 'O'), ('perfil', 'O'), ('de', 'O'), ('twitter', 'O'), ('autor', 'O'), ('paulo', 'O'), ('faustino', 'O')]\n",
      "[('thought', 'O'), ('lying', 'O'), ('halfwit', 'O'), ('individual', 'O'), ('sovereign', 'O'), ('nations', 'O'), ('purchase', 'O'), ('energy', 'O'), ('based', 'O'), ('resources', 'O'), ('demands', 'O'), ('eu', 'O'), ('umbrella', 'O'), ('organisation', 'O'), ('working', 'O'), ('hard', 'O'), ('member', 'O'), ('states', 'O'), ('reduce', 'O'), ('dependancy', 'O'), ('russia', 'LOCATION'), ('diversify', 'O'), ('supply', 'O')]\n",
      "[('rt', 'O'), ('want', 'O'), ('talk', 'O'), ('son', 'O'), ('prisoner', 'O'), ('ukraine', 'O'), ('mother', 'O'), ('russian', 'O'), ('soldier', 'O'), ('want', 'O')]\n",
      "[('rt', 'O')]\n",
      "[('rt', 'O'), ('putin', 'O'), ('called', 'O'), ('collective', 'O'), ('west', 'O'), ('purposefully', 'O'), ('destroying', 'O'), ('european', 'O'), ('security', 'O'), ('system', 'O'), ('need', 'O'), ('conflict', 'O')]\n",
      "[('rt', 'O'), ('extremely', 'O'), ('sensible', 'O'), ('idea', 'O'), ('nato', 'O'), ('eu', 'O'), ('pushing', 'O'), ('peace', 'O'), ('ukraine', 'O'), ('contrary', 'O'), ('pushing', 'O')]\n",
      "[('rt', 'O'), ('russia', 'LOCATION'), ('launches', 'O'), ('missiles', 'O'), ('ukraine', 'O'), ('nuclear', 'O'), ('power', 'O'), ('plants', 'O'), ('ukraine', 'LOCATION'), ('opens', 'O'), ('stalker', 'O'), ('themed', 'O'), ('supermarket', 'O')]\n",
      "[('idiot', 'O')]\n",
      "[('rt', 'O'), ('space', 'O'), ('providing', 'O'), ('information', 'O'), ('war', 'O'), ('russian', 'O'), ('orcs', 'O'), ('support', 'O')]\n",
      "[('rt', 'O'), ('idiots', 'O'), ('calls', 'O'), ('autopiloters', 'O'), ('amp', 'O'), ('infiltrators', 'O'), ('clamoring', 'O'), ('violence', 'O'), ('first', 'O'), ('call', 'O'), ('agitation', 'O')]\n",
      "[('rt', 'O'), ('rand', 'O'), ('paul', 'PERSON'), ('said', 'O'), ('wants', 'O'), ('repeal', 'O'), ('espionage', 'O'), ('act', 'O'), ('soon', 'O'), ('master', 'O'), ('investigation', 'O'), ('espionage', 'O'), ('rand', 'O')]\n",
      "[('rt', 'O'), ('far', 'O'), ('russia', 'LOCATION'), ('relatively', 'O'), ('free', 'O'), ('push', 'O'), ('anti', 'O'), ('air', 'O'), ('umbrella', 'O'), ('deeper', 'O'), ('ukrainian', 'O'), ('controlled', 'O'), ('territory', 'O'), ('making', 'O'), ('swath', 'O')]\n",
      "[('rt', 'O'), ('want', 'O'), ('direct', 'O'), ('us', 'O'), ('advisorywe', 'O'), ('stuck', 'O'), ('middle', 'O'), ('war', 'O'), ('cant', 'O')]\n",
      "[('rt', 'O'), ('ich', 'O'), ('sage', 'O'), ('nicht', 'O'), ('dass', 'O'), ('eine', 'O'), ('form', 'O'), ('von', 'O'), ('energie', 'O'), ('sicherer', 'O'), ('ist', 'O'), ('als', 'O'), ('die', 'O'), ('andere', 'O'), ('ich', 'O'), ('sage', 'O'), ('nur', 'O'), ('es', 'O'), ('ist', 'O'), ('vermutlich', 'O'), ('kein', 'O'), ('zufall', 'O'), ('dass', 'O')]\n",
      "[]\n",
      "[('rt', 'O'), ('ukraine', 'O'), ('war', 'O'), ('zone', 'O'), ('think', 'O'), ('help', 'O'), ('meeting', 'O'), ('senior', 'O'), ('military', 'O'), ('political', 'O'), ('leadership', 'O')]\n",
      "[]\n",
      "[('rt', 'O'), ('putin', 'O'), ('called', 'O'), ('collective', 'O'), ('west', 'O'), ('purposefully', 'O'), ('destroying', 'O'), ('european', 'O'), ('security', 'O'), ('system', 'O'), ('need', 'O'), ('conflict', 'O')]\n",
      "[('rt', 'O'), ('clearly', 'O'), ('mentioned', 'O'), ('ukraine', 'O'), ('save', 'O'), ('us', 'O'), ('go', 'O'), ('back', 'O'), ('please', 'O'), ('give', 'O'), ('us', 'O'), ('guidelines', 'O')]\n",
      "[('rt', 'O'), ('september', 'DATE'), ('kurz', 'O'), ('nach', 'O'), ('dem', 'O'), ('deutschen', 'O'), ('einmarsch', 'O'), ('polen', 'O'), ('aus', 'O'), ('wikipedia', 'O'), ('zur', 'O'), ('chronologie', 'O'), ('von', 'O'), ('wk', 'O'), ('erschreckend', 'O')]\n",
      "[('oh', 'O'), ('really', 'O'), ('brexit', 'O'), ('covid', 'O'), ('ukraine', 'O'), ('recension', 'O'), ('ass', 'O'), ('got', 'O'), ('head', 'O'), ('think', 'O'), ('turd', 'O'), ('starmer', 'O'), ('rayner', 'O'), ('better', 'O'), ('go', 'O'), ('get', 'O'), ('better', 'O'), ('education', 'O')]\n",
      "[('rt', 'O'), ('nearly', 'O'), ('months', 'O'), ('since', 'O'), ('russian', 'O'), ('invasion', 'O'), ('began', 'O'), ('today', 'O'), ('explore', 'O'), ('ukraine', 'O'), ('potential', 'O'), ('counteroffensive', 'O')]\n",
      "[('rt', 'O'), ('twisted', 'O'), ('many', 'O'), ('levels', 'O'), ('let', 'O'), ('us', 'O'), ('kill', 'O'), ('ukrainians', 'O'), ('without', 'O'), ('resistance', 'O'), ('every', 'O'), ('left', 'O'), ('politician', 'O'), ('corbyn', 'O'), ('fo', 'O')]\n",
      "[('wie', 'O'), ('um', 'O'), ('himmels', 'O'), ('willen', 'PERSON'), ('kann', 'PERSON'), ('man', 'O'), ('bei', 'O'), ('diesem', 'O'), ('krieg', 'O'), ('nicht', 'O'), ('auf', 'O'), ('der', 'O'), ('seite', 'O'), ('der', 'O'), ('ukraine', 'O'), ('sondern', 'O'), ('auf', 'O'), ('seiten', 'O'), ('des', 'O'), ('dikators', 'O'), ('rders', 'O'), ('gners', 'O'), ('putins', 'O'), ('sein', 'O'), ('es', 'O'), ('gab', 'O'), ('selten', 'O'), ('einen', 'O'), ('krieg', 'O'), ('wo', 'O'), ('man', 'O'), ('eindeutig', 'O'), ('den', 'O'), ('schuldigen', 'O'), ('benennen', 'O'), ('konnte', 'O')]\n",
      "[('rt', 'O'), ('everything', 'O'), ('ukraine', 'O'), ('even', 'O'), ('russian', 'O'), ('leadership', 'O'), ('expects', 'O'), ('ukrainia', 'LOCATION')]\n",
      "[('rt', 'O'), ('russian', 'O'), ('mp', 'O'), ('mikhail', 'O'), ('sheremet', 'O'), ('says', 'O'), ('ukraines', 'O'), ('strikes', 'O'), ('crimea', 'O'), ('justify', 'O'), ('putins', 'O'), ('war', 'O'), ('ukrainian', 'O'), ('terrorism', 'O'), ('cou', 'O')]\n",
      "[('rt', 'O'), ('guerre', 'O'), ('en', 'O'), ('ukraine', 'O'), ('excellente', 'O'), ('analyse', 'O'), ('de', 'O'), ('yves', 'O'), ('pozzo', 'O'), ('di', 'O'), ('borgo', 'O'), ('bravo', 'O'), ('ce', 'O'), ('nateur', 'O'), ('de', 'O'), ('dire', 'O'), ('la', 'O'), ('rit', 'O'), ('propos', 'O'), ('du', 'O'), ('non', 'O'), ('res', 'O')]\n",
      "[('rt', 'O'), ('russia', 'LOCATION'), ('deployed', 'O'), ('helicopters', 'O'), ('aircraft', 'O'), ('borders', 'O'), ('ukraine', 'LOCATION')]\n",
      "[('rt', 'O'), ('russian', 'O'), ('soldiers', 'O'), ('making', 'O'), ('life', 'O'), ('difficult', 'O'), ('ordinary', 'O'), ('russians', 'O'), ('parking', 'O'), ('btrs', 'O'), ('bit', 'O'), ('recklessly', 'O'), ('street', 'O'), ('city', 'O')]\n",
      "[('rt', 'O'), ('heart', 'O'), ('aches', 'O'), ('think', 'O'), ('kharkiv', 'O'), ('says', 'O'), ('goalkeeper', 'O'), ('denys', 'O'), ('sydorenko', 'O'), ('missile', 'O'), ('hit', 'O'), ('training', 'O'), ('ground', 'O'), ('theres', 'O')]\n",
      "[('rt', 'O'), ('could', 'O'), ('russias', 'O'), ('vladimir', 'PERSON'), ('putin', 'PERSON'), ('face', 'O'), ('nuremberg', 'O'), ('style', 'O'), ('tribunal', 'O'), ('ukraine', 'O'), ('war', 'O'), ('via', 'O')]\n",
      "[('stunt', 'O'), ('simulation', 'O'), ('putins', 'O'), ('invasion', 'O'), ('ukraine', 'LOCATION')]\n",
      "[('take', 'O'), ('russia', 'LOCATION')]\n",
      "[('rt', 'O'), ('russians', 'O'), ('begging', 'O'), ('us', 'O'), ('uk', 'O'), ('stop', 'O'), ('sending', 'O'), ('weapons', 'O'), ('ukraine', 'LOCATION'), ('kills', 'O'), ('injures', 'O'), ('russian', 'O'), ('soldiers', 'O'), ('gove', 'O')]\n",
      "[('possibly', 'O'), ('dawn', 'O'), ('new', 'O'), ('free', 'O'), ('russia', 'LOCATION')]\n",
      "[('rt', 'O')]\n",
      "[('rt', 'O'), ('months', 'O'), ('ago', 'O'), ('thousands', 'O'), ('african', 'O'), ('students', 'O'), ('fled', 'O'), ('ukraine', 'O'), ('following', 'O'), ('russian', 'O'), ('invasion', 'O'), ('well', 'O'), ('documented', 'O'), ('ra', 'O')]\n",
      "[('rt', 'O')]\n",
      "[]\n",
      "[]\n",
      "[('stupid', 'O'), ('headlines', 'O'), ('dont', 'O'), ('distract', 'O'), ('fact', 'O'), ('fucking', 'O'), ('russians', 'O'), ('corrupting', 'O'), ('ukraine', 'LOCATION'), ('decades', 'O')]\n",
      "[('rt', 'O'), ('biden', 'O'), ('sanctions', 'O'), ('failing', 'O'), ('russia', 'LOCATION'), ('energy', 'O'), ('revenue', 'O'), ('higher', 'O'), ('invaded', 'O'), ('ukraine', 'O'), ('supply', 'O')]\n",
      "[('rt', 'O'), ('share', 'O'), ('world', 'O'), ('governments', 'O'), ('world', 'O'), ('economic', 'O'), ('forum', 'O'), ('control', 'O'), ('ukraine', 'O'), ('war', 'O')]\n",
      "[('rt', 'O'), ('around', 'O'), ('months', 'O'), ('still', 'O'), ('clear', 'O'), ('stand', 'O'), ('situation', 'O'), ('returned', 'O'), ('ukraine', 'LOCATION'), ('imdt', 'O')]\n",
      "[('russia', 'O'), ('pay', 'O'), ('abbott', 'O'), ('destroy', 'O'), ('texas', 'O')]\n",
      "[('rt', 'O'), ('pathetic', 'O'), ('thing', 'O'), ('see', 'O'), ('today', 'O'), ('russians', 'O'), ('begging', 'O'), ('us', 'O'), ('uk', 'O'), ('embassies', 'O'), ('stop', 'O'), ('sending', 'O'), ('weap', 'O')]\n",
      "[('rt', 'O'), ('cause', 'O'), ('explosions', 'O'), ('damages', 'O'), ('yet', 'O'), ('clarified', 'O'), ('dzhankoi', 'O'), ('strategic', 'O'), ('road', 'O'), ('rail', 'O'), ('junction', 'O'), ('th', 'O')]\n",
      "[('rt', 'O'), ('zelensky', 'O'), ('need', 'O'), ('everything', 'O'), ('russia', 'LOCATION'), ('tired', 'O'), ('fighting', 'O'), ('video', 'O'), ('address', 'O'), ('president', 'O'), ('volodymyr', 'O'), ('zelensk', 'O')]\n",
      "[('rt', 'O'), ('freedomforfuture', 'O'), ('aug', 'O'), ('um', 'O'), ('deutschland', 'O'), ('verzichtet', 'O'), ('die', 'O'), ('ukraine', 'LOCATION'), ('auf', 'O'), ('russisches', 'O'), ('gas', 'O'), ('und', 'O'), ('leiht', 'O'), ('der', 'O'), ('ukrain', 'O')]\n",
      "[('rt', 'O'), ('months', 'O'), ('ago', 'O'), ('thousands', 'O'), ('african', 'O'), ('students', 'O'), ('fled', 'O'), ('ukraine', 'O'), ('following', 'O'), ('russian', 'O'), ('invasion', 'O'), ('well', 'O'), ('documented', 'O'), ('ra', 'O')]\n",
      "[('volunteers', 'O'), ('ukraine', 'O'), ('stepping', 'O'), ('government', 'O'), ('failing', 'O'), ('view', 'O'), ('comment', 'O')]\n",
      "[('communists', 'O'), ('rich', 'O'), ('famous', 'O'), ('tourists', 'O'), ('croatia', 'LOCATION'), ('like', 'O'), ('west', 'O'), ('us', 'O'), ('must', 'O'), ('show', 'O'), ('military', 'O'), ('action', 'O'), ('world', 'O'), ('taken', 'O'), ('china', 'O'), ('russia', 'LOCATION')]\n",
      "[('rt', 'O'), ('wenn', 'O'), ('die', 'O'), ('brd', 'O'), ('von', 'O'), ('russland', 'O'), ('angegriffen', 'O'), ('rde', 'O'), ('wie', 'O'), ('die', 'O'), ('ukraine', 'LOCATION'), ('wie', 'O'), ('viele', 'O'), ('stunden', 'O'), ('rden', 'O'), ('die', 'O'), ('deutschen', 'O'), ('truppen', 'O'), ('unter', 'O'), ('oberbef', 'O')]\n",
      "[('rt', 'O')]\n",
      "[('rt', 'O'), ('want', 'O'), ('talk', 'O'), ('son', 'O'), ('prisoner', 'O'), ('ukraine', 'O'), ('mother', 'O'), ('russian', 'O'), ('soldier', 'O'), ('want', 'O')]\n",
      "[('ukraine', 'O'), ('win', 'O'), ('side', 'O'), ('every', 'O'), ('day', 'O'), ('war', 'O'), ('day', 'O'), ('also', 'O'), ('dictatorship', 'O'), ('fight', 'O'), ('free', 'O'), ('world', 'O'), ('france', 'O'), ('world', 'O'), ('supports', 'O')]\n",
      "[('promises', 'O'), ('never', 'O'), ('made', 'O'), ('gorbachov', 'O'), ('people', 'O'), ('said', 'O'), ('apart', 'O'), ('russian', 'O'), ('sources', 'O'), ('one', 'O'), ('german', 'O'), ('diplomat', 'O'), ('says', 'O'), ('mentioned', 'O'), ('initial', 'O'), ('negotiations', 'O'), ('ukraine', 'LOCATION'), ('nato', 'O'), ('offered', 'O'), ('join', 'O'), ('france', 'LOCATION'), ('germany', 'O'), ('vowed', 'O'), ('veto', 'O')]\n",
      "[('rt', 'O'), ('merci', 'O'), ('dieu', 'O'), ('davoir', 'O'), ('donn', 'O'), ('des', 'O'), ('jeunes', 'O'), ('comme', 'O'), ('de', 'O'), ('jeunes', 'O'), ('vol', 'O')]\n",
      "[('war', 'O'), ('going', 'O'), ('choose', 'O'), ('side', 'O'), ('make', 'O'), ('republicans', 'O'), ('choose', 'O'), ('russia', 'O'), ('put', 'O'), ('record', 'O')]\n",
      "[('normalerweise', 'O'), ('wird', 'O'), ('man', 'O'), ('russland', 'O'), ('bereits', 'O'), ('das', 'O'), ('hochhalten', 'O'), ('eines', 'O'), ('leeren', 'O'), ('plakates', 'O'), ('eingesperrt', 'O'), ('hier', 'O'), ('demonstrieren', 'O'), ('russische', 'O'), ('rger', 'O'), ('vor', 'O'), ('den', 'O'), ('botschaften', 'O'), ('der', 'O'), ('usa', 'O'), ('und', 'O'), ('gro', 'O'), ('britanniens', 'O'), ('gegen', 'O'), ('waffenlieferungen', 'O'), ('die', 'O'), ('ukraine', 'O'), ('staatlich', 'O'), ('organisiertes', 'O')]\n",
      "[('russian', 'O'), ('admiral', 'O'), ('took', 'O'), ('fleet', 'O'), ('completr', 'O'), ('fool', 'O'), ('likely', 'O'), ('russia', 'LOCATION'), ('would', 'O'), ('complete', 'O'), ('victory', 'O')]\n",
      "[('time', 'O'), ('drop', 'O'), ('state', 'O'), ('sponsor', 'O'), ('terrorism', 'O'), ('tag', 'O'), ('russia', 'O'), ('waiting', 'O'), ('get', 'O'), ('done', 'O')]\n",
      "[('rt', 'O'), ('au', 'O'), ('nom', 'O'), ('de', 'O'), ('toutes', 'O'), ('les', 'O'), ('res', 'O'), ('qui', 'O'), ('ont', 'O'), ('perdu', 'O'), ('leurs', 'O'), ('enfants', 'O'), ('et', 'O'), ('de', 'O'), ('ceux', 'O'), ('dont', 'O'), ('les', 'O'), ('enfants', 'O'), ('ont', 'O'), ('mutil', 'O'), ('je', 'O'), ('voudrais', 'O'), ('ad', 'O')]\n",
      "[('rt', 'O'), ('uk', 'O'), ('intellligence', 'O'), ('russia', 'LOCATION'), ('likely', 'O'), ('increasingly', 'O'), ('concerned', 'O'), ('explosions', 'O'), ('crimea', 'O'), ('russia', 'LOCATION'), ('ukraine', 'LOCATION'), ('acknowl', 'O')]\n",
      "[('rt', 'O'), ('putins', 'O'), ('war', 'O'), ('ukraine', 'O'), ('going', 'O'), ('months', 'O'), ('day', 'O'), ('western', 'O'), ('leaders', 'O'), ('firmly', 'O'), ('stated', 'O'), ('putins', 'O'), ('olig', 'O')]\n",
      "[('rt', 'O')]\n",
      "[('rt', 'O'), ('feels', 'O'), ('like', 'O'), ('bigger', 'O'), ('news', 'O'), ('zelensky', 'O'), ('confessed', 'O'), ('using', 'O'), ('entire', 'O'), ('civilian', 'O'), ('population', 'O'), ('ukraine', 'O'), ('hum', 'O')]\n",
      "[('clear', 'O'), ('zaporizhzhia', 'O'), ('oblast', 'O'), ('zaporizhzhia', 'O'), ('oblast', 'O'), ('alert', 'O'), ('length', 'O'), ('message', 'O'), ('generated', 'O'), ('using', 'O'), ('municipal', 'O'), ('data', 'O')]\n",
      "[('rt', 'O'), ('check', 'O'), ('sent', 'O'), ('article', 'O'), ('boot', 'O'), ('ukraine', 'O'), ('got', 'O'), ('putins', 'O'), ('chef', 'O'), ('huge', 'O'), ('wagner', 'O'), ('got', 'O'), ('wiped', 'O')]\n",
      "[('rt', 'O'), ('russian', 'O'), ('gdp', 'O'), ('projected', 'O'), ('fall', 'O'), ('year', 'O'), ('next', 'O'), ('year', 'O'), ('ukrainian', 'O'), ('economy', 'O'), ('already', 'O'), ('shrunk', 'O'), ('ha', 'O')]\n",
      "[('rt', 'O'), ('congress', 'O'), ('allow', 'O'), ('inspector', 'O'), ('general', 'O'), ('keep', 'O'), ('track', 'O'), ('billions', 'O'), ('dollars', 'O'), ('sent', 'O'), ('ukraine', 'LOCATION')]\n",
      "[('rt', 'O'), ('encore', 'O'), ('un', 'O'), ('crime', 'O'), ('de', 'O'), ('poutine', 'O')]\n",
      "[('rt', 'O'), ('please', 'O'), ('read', 'O'), ('brilliant', 'O'), ('article', 'O'), ('putin', 'O'), ('ukraine', 'LOCATION'), ('genocide', 'O'), ('rooted', 'O'), ('russian', 'O'), ('impunity', 'O'), ('soviet', 'O'), ('crimes', 'O'), ('atlantic', 'O'), ('coun', 'O')]\n",
      "[('go', 'O'), ('back', 'O'), ('normal', 'O'), ('russia', 'LOCATION'), ('freed', 'O'), ('imperialist', 'O'), ('ambitions', 'O'), ('dumb', 'O'), ('scholz', 'O'), ('wrong', 'O'), ('every', 'O'), ('possible', 'O'), ('issue', 'O'), ('germans', 'O'), ('stand', 'O')]\n",
      "[('rt', 'O'), ('recent', 'O'), ('interview', 'O'), ('swiss', 'O'), ('radio', 'O'), ('broadcaster', 'O'), ('srf', 'O'), ('incorruptibles', 'O'), ('kyiv', 'O'), ('independent', 'O'), ('please', 'O'), ('look', 'O')]\n",
      "[('rt', 'O'), ('egal', 'O'), ('ob', 'O'), ('neben', 'O'), ('ihm', 'O'), ('der', 'O'), ('holocaust', 'O'), ('geleugnet', 'O'), ('wird', 'O'), ('russland', 'O'), ('die', 'O'), ('ukraine', 'O'), ('berf', 'O'), ('llt', 'O'), ('oder', 'O'), ('milliarden', 'O'), ('euro', 'O'), ('hinterzogen', 'O'), ('werde', 'O')]\n",
      "[('rt', 'O'), ('waiting', 'O'), ('ukraine', 'LOCATION')]\n",
      "[('rt', 'O'), ('uk', 'O'), ('intellligence', 'O'), ('russia', 'LOCATION'), ('likely', 'O'), ('increasingly', 'O'), ('concerned', 'O'), ('explosions', 'O'), ('crimea', 'O'), ('russia', 'LOCATION'), ('ukraine', 'LOCATION'), ('acknowl', 'O')]\n",
      "[('beg', 'O'), ('differ', 'O'), ('helping', 'O'), ('preserve', 'O'), ('democracy', 'O'), ('ukraine', 'O'), ('helps', 'O'), ('preserve', 'O'), ('americans', 'O'), ('bombed', 'O'), ('russia', 'LOCATION'), ('hunter', 'O'), ('stuff', 'O'), ('deflection', 'O'), ('right', 'O'), ('trump', 'O'), ('certainly', 'O'), ('declassify', 'O'), ('docs', 'O'), ('took', 'O')]\n",
      "[('der', 'O'), ('macht', 'O'), ('trotz', 'O'), ('milliarden', 'O'), ('via', 'O')]\n",
      "[('rt', 'O'), ('west', 'O'), ('beloved', 'O'), ('ukraine', 'O'), ('last', 'O'), ('years', 'O')]\n"
     ]
    }
   ],
   "source": [
    "for tweet in cleaned_tweets['data']:\n",
    "    # tagged3 = st3.tag(tweet['text'].split())\n",
    "    # tagged4 = st4.tag(tweet['text'].split())\n",
    "    tagged7 = st7.tag(tweet['text'].split())\n",
    "    \n",
    "    print(tagged7)"
   ]
  }
 ],
 "metadata": {
  "kernelspec": {
   "display_name": "Python 3 (ipykernel)",
   "language": "python",
   "name": "python3"
  },
  "language_info": {
   "codemirror_mode": {
    "name": "ipython",
    "version": 3
   },
   "file_extension": ".py",
   "mimetype": "text/x-python",
   "name": "python",
   "nbconvert_exporter": "python",
   "pygments_lexer": "ipython3",
   "version": "3.8.13"
  }
 },
 "nbformat": 4,
 "nbformat_minor": 4
}